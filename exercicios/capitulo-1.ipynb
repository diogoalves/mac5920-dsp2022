{
 "cells": [
  {
   "cell_type": "markdown",
   "metadata": {},
   "source": [
    "### 1. Find at least five different color JPEG images on a computer (or with a web browser); they will have a “.jpg” suffix on the file name. Try to find\n",
    "a variety of images, for example, one that is “mostly dark” (astronomical images are a good bet). For each image determine the following:\n",
    "- Its pixel-by-pixel size—how many pixels wide, how much tall. This can usually be determined by right mouse clicking on the image and\n",
    "selecting “Properties.”\n",
    "- The memory storage requirements for the image if it was stored byte-by-byte, with no compression.\n",
    "- The actual memory storage requirement (the file size).\n",
    "- Compute the ratio of the actual and “naive” storage requirements. \n",
    "\n",
    "Summarize your work in a table. Note the range of compression ratios\n",
    "obtained. Can you detect any correlation between the nature or quality of\n",
    "the images and the compression ratios achieved?"
   ]
  },
  {
   "cell_type": "markdown",
   "metadata": {},
   "source": []
  }
 ],
 "metadata": {
  "language_info": {
   "name": "python"
  },
  "orig_nbformat": 4
 },
 "nbformat": 4,
 "nbformat_minor": 2
}
