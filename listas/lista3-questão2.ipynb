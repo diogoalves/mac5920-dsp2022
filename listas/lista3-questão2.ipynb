{
 "cells": [
  {
   "cell_type": "code",
   "execution_count": 1,
   "id": "df74708e",
   "metadata": {},
   "outputs": [],
   "source": [
    "import numpy as np\n",
    "import math"
   ]
  },
  {
   "cell_type": "code",
   "execution_count": 2,
   "id": "561fa326",
   "metadata": {},
   "outputs": [
    {
     "data": {
      "text/plain": [
       "array([[ 1.+0.j,  1.+0.j,  1.+0.j,  1.+0.j],\n",
       "       [ 1.+0.j,  0.+1.j, -1.+0.j, -0.-1.j],\n",
       "       [ 1.+0.j, -1.+0.j,  1.-0.j, -1.+0.j],\n",
       "       [ 1.+0.j, -0.-1.j, -1.+0.j,  0.+1.j]])"
      ]
     },
     "execution_count": 2,
     "metadata": {},
     "output_type": "execute_result"
    }
   ],
   "source": [
    "def E(N=4):\n",
    "    ns = np.arange(0,N,1)\n",
    "    indices = ns.reshape((N,1)) * ns\n",
    "    return np.exp(1j*2*math.pi*indices/N)\n",
    "\n",
    "np.round(E(4))"
   ]
  },
  {
   "cell_type": "code",
   "execution_count": 16,
   "id": "ccd4bdf9",
   "metadata": {},
   "outputs": [
    {
     "data": {
      "text/plain": [
       "array([[[[ 1.+0.j,  1.+0.j,  1.+0.j,  1.+0.j],\n",
       "         [ 1.+0.j,  1.+0.j,  1.+0.j,  1.+0.j],\n",
       "         [ 1.+0.j,  1.+0.j,  1.+0.j,  1.+0.j],\n",
       "         [ 1.+0.j,  1.+0.j,  1.+0.j,  1.+0.j]],\n",
       "\n",
       "        [[ 1.+0.j,  0.+1.j, -1.+0.j, -0.-1.j],\n",
       "         [ 1.+0.j,  0.+1.j, -1.+0.j, -0.-1.j],\n",
       "         [ 1.+0.j,  0.+1.j, -1.+0.j, -0.-1.j],\n",
       "         [ 1.+0.j,  0.+1.j, -1.+0.j, -0.-1.j]],\n",
       "\n",
       "        [[ 1.+0.j, -1.+0.j,  1.-0.j, -1.+0.j],\n",
       "         [ 1.+0.j, -1.+0.j,  1.-0.j, -1.+0.j],\n",
       "         [ 1.+0.j, -1.+0.j,  1.-0.j, -1.+0.j],\n",
       "         [ 1.+0.j, -1.+0.j,  1.-0.j, -1.+0.j]],\n",
       "\n",
       "        [[ 1.+0.j, -0.-1.j, -1.+0.j,  0.+1.j],\n",
       "         [ 1.+0.j, -0.-1.j, -1.+0.j,  0.+1.j],\n",
       "         [ 1.+0.j, -0.-1.j, -1.+0.j,  0.+1.j],\n",
       "         [ 1.+0.j, -0.-1.j, -1.+0.j,  0.+1.j]]],\n",
       "\n",
       "\n",
       "       [[[ 1.+0.j,  1.+0.j,  1.+0.j,  1.+0.j],\n",
       "         [ 0.+1.j,  0.+1.j,  0.+1.j,  0.+1.j],\n",
       "         [-1.+0.j, -1.+0.j, -1.+0.j, -1.+0.j],\n",
       "         [-0.-1.j, -0.-1.j, -0.-1.j, -0.-1.j]],\n",
       "\n",
       "        [[ 1.+0.j,  0.+1.j, -1.+0.j, -0.-1.j],\n",
       "         [ 0.+1.j, -1.+0.j, -0.-1.j,  1.-0.j],\n",
       "         [-1.+0.j, -0.-1.j,  1.-0.j,  0.+1.j],\n",
       "         [-0.-1.j,  1.-0.j,  0.+1.j, -1.+0.j]],\n",
       "\n",
       "        [[ 1.+0.j, -1.+0.j,  1.-0.j, -1.+0.j],\n",
       "         [ 0.+1.j, -0.-1.j,  0.+1.j, -0.-1.j],\n",
       "         [-1.+0.j,  1.-0.j, -1.+0.j,  1.-0.j],\n",
       "         [-0.-1.j,  0.+1.j, -0.-1.j,  0.+1.j]],\n",
       "\n",
       "        [[ 1.+0.j, -0.-1.j, -1.+0.j,  0.+1.j],\n",
       "         [ 0.+1.j,  1.-0.j, -0.-1.j, -1.+0.j],\n",
       "         [-1.+0.j,  0.+1.j,  1.-0.j, -0.-1.j],\n",
       "         [-0.-1.j, -1.+0.j,  0.+1.j,  1.-0.j]]],\n",
       "\n",
       "\n",
       "       [[[ 1.+0.j,  1.+0.j,  1.+0.j,  1.+0.j],\n",
       "         [-1.+0.j, -1.+0.j, -1.+0.j, -1.+0.j],\n",
       "         [ 1.-0.j,  1.-0.j,  1.-0.j,  1.-0.j],\n",
       "         [-1.+0.j, -1.+0.j, -1.+0.j, -1.+0.j]],\n",
       "\n",
       "        [[ 1.+0.j,  0.+1.j, -1.+0.j, -0.-1.j],\n",
       "         [-1.+0.j, -0.-1.j,  1.-0.j,  0.+1.j],\n",
       "         [ 1.-0.j,  0.+1.j, -1.+0.j, -0.-1.j],\n",
       "         [-1.+0.j, -0.-1.j,  1.-0.j,  0.+1.j]],\n",
       "\n",
       "        [[ 1.+0.j, -1.+0.j,  1.-0.j, -1.+0.j],\n",
       "         [-1.+0.j,  1.-0.j, -1.+0.j,  1.-0.j],\n",
       "         [ 1.-0.j, -1.+0.j,  1.-0.j, -1.+0.j],\n",
       "         [-1.+0.j,  1.-0.j, -1.+0.j,  1.-0.j]],\n",
       "\n",
       "        [[ 1.+0.j, -0.-1.j, -1.+0.j,  0.+1.j],\n",
       "         [-1.+0.j,  0.+1.j,  1.-0.j, -0.-1.j],\n",
       "         [ 1.-0.j, -0.-1.j, -1.+0.j, -0.+1.j],\n",
       "         [-1.+0.j,  0.+1.j,  1.-0.j, -0.-1.j]]],\n",
       "\n",
       "\n",
       "       [[[ 1.+0.j,  1.+0.j,  1.+0.j,  1.+0.j],\n",
       "         [-0.-1.j, -0.-1.j, -0.-1.j, -0.-1.j],\n",
       "         [-1.+0.j, -1.+0.j, -1.+0.j, -1.+0.j],\n",
       "         [ 0.+1.j,  0.+1.j,  0.+1.j,  0.+1.j]],\n",
       "\n",
       "        [[ 1.+0.j,  0.+1.j, -1.+0.j, -0.-1.j],\n",
       "         [-0.-1.j,  1.-0.j,  0.+1.j, -1.+0.j],\n",
       "         [-1.+0.j, -0.-1.j,  1.-0.j,  0.+1.j],\n",
       "         [ 0.+1.j, -1.+0.j, -0.-1.j,  1.-0.j]],\n",
       "\n",
       "        [[ 1.+0.j, -1.+0.j,  1.-0.j, -1.+0.j],\n",
       "         [-0.-1.j,  0.+1.j, -0.-1.j,  0.+1.j],\n",
       "         [-1.+0.j,  1.-0.j, -1.+0.j,  1.-0.j],\n",
       "         [ 0.+1.j, -0.-1.j, -0.+1.j, -0.-1.j]],\n",
       "\n",
       "        [[ 1.+0.j, -0.-1.j, -1.+0.j,  0.+1.j],\n",
       "         [-0.-1.j, -1.+0.j,  0.+1.j,  1.-0.j],\n",
       "         [-1.+0.j,  0.+1.j,  1.-0.j, -0.-1.j],\n",
       "         [ 0.+1.j,  1.-0.j, -0.-1.j, -1.+0.j]]]])"
      ]
     },
     "execution_count": 16,
     "metadata": {},
     "output_type": "execute_result"
    }
   ],
   "source": [
    "def EE(M=4, N=4):\n",
    "    res = np.zeros((M,N,M,N), dtype='complex')\n",
    "    for k in range(M):\n",
    "        for l in range(N):\n",
    "            for r in range(M):\n",
    "                for s in range(N):\n",
    "                    res[k][l][r][s] = np.exp(1j*2*math.pi*(k*r/M + l*s/N))\n",
    "    return res\n",
    "\n",
    "np.round(EE(4,4))"
   ]
  },
  {
   "cell_type": "code",
   "execution_count": 33,
   "id": "c9b55eb2",
   "metadata": {},
   "outputs": [
    {
     "name": "stdout",
     "output_type": "stream",
     "text": [
      "True\n",
      "True\n",
      "True\n",
      "True\n",
      "True\n"
     ]
    },
    {
     "data": {
      "text/plain": [
       "(4, 14, 4, 14)"
      ]
     },
     "execution_count": 33,
     "metadata": {},
     "output_type": "execute_result"
    }
   ],
   "source": [
    "def EE2(M=4, N=4):\n",
    "    res = np.zeros((M,N,M,N), dtype='complex')\n",
    "    for k in range(M):\n",
    "        for l in range(N):\n",
    "            for r in range(M):\n",
    "                for s in range(N):\n",
    "                    #res[k][l][r][s] = np.exp(1j*2*math.pi*(k*r/M + l*s/N))\n",
    "                    res[k][l][r][s] = np.exp(1j*2*math.pi*k*r/M) * np.exp(1j*2*math.pi*l*s/N)\n",
    "    return res\n",
    "\n",
    "def EE3(M=4, N=4):\n",
    "    res = np.zeros((M,N,M,N), dtype='complex')\n",
    "    r = np.arange(0,M,1)\n",
    "    s = np.arange(0,N,1).reshape((N,1))\n",
    "    for k in range(M):\n",
    "        for l in range(N):\n",
    "            res[k][l] = np.exp(1j*2*math.pi*(k*r/M + l*s/N)).T\n",
    "#             res[k][l] = np.exp(1j*2*math.pi*k*r/M) * np.exp(1j*2*math.pi*l*s/N).reshape((N,1))\n",
    "    return res\n",
    "\n",
    "def EE4(M=4, N=4):\n",
    "    res = np.zeros((M,N,M,N), dtype='complex')\n",
    "    r = np.arange(0,M,1)\n",
    "    s = np.arange(0,N,1).reshape((N,1))\n",
    "    for k in range(M):\n",
    "        for l in range(N):\n",
    "            res[k][l] = np.exp(1j*2*math.pi*(k*r/M + l*s/N)).T\n",
    "#             res[k][l] = np.exp(1j*2*math.pi*k*r/M) * np.exp(1j*2*math.pi*l*s/N).reshape((N,1))\n",
    "    return res\n",
    "\n",
    "def EE5(M=4, N=4):\n",
    "    res = np.zeros((M,N,M,N), dtype='complex')\n",
    "    r = np.arange(0,M,1).reshape((M,1))\n",
    "    s = np.arange(0,N,1).reshape((N,1))\n",
    "    for k in range(M):\n",
    "        for l in range(N):\n",
    "            #res[k][l] = np.exp(1j*2*math.pi*(k*r/M + l*s/N)).T\n",
    "            res[k][l] = np.exp(1j*2*math.pi*k*r/M) * np.exp(1j*2*math.pi*l*s/N).T\n",
    "    return res\n",
    "\n",
    "def EE6(M=4, N=4):\n",
    "    res = np.zeros((M,N,M,N), dtype='complex')\n",
    "    ms = np.arange(0,M,1)\n",
    "    ns = np.arange(0,N,1)\n",
    "    \n",
    "    indices_kr = ms.reshape((M,1)) * ms\n",
    "    indices_ns = ns.reshape((N,1)) * ns\n",
    "\n",
    "    base1 = np.exp(1j*2*math.pi*indices_kr/M)\n",
    "    base2 = np.exp(1j*2*math.pi*indices_ns/N)\n",
    "    \n",
    "    for k in range(M):\n",
    "        for l in range(N):\n",
    "            res[k][l] = base1[k].reshape((M,1)) * base2[l].reshape((1,N))\n",
    "            \n",
    "    return res\n",
    "\n",
    "print(np.allclose(EE2(4,4), EE(4,4)))\n",
    "print(np.allclose(EE3(4,4), EE(4,4)))\n",
    "print(np.allclose(EE4(4,14), EE(4,14)))\n",
    "print(np.allclose(EE5(4,14), EE(4,14)))\n",
    "print(np.allclose(EE6(4,14), EE(4,14)))\n",
    "EE(4,14).shape"
   ]
  },
  {
   "cell_type": "code",
   "execution_count": 5,
   "id": "5a0f4ccc",
   "metadata": {},
   "outputs": [
    {
     "data": {
      "text/plain": [
       "(4, 4, 4, 4)"
      ]
     },
     "execution_count": 5,
     "metadata": {},
     "output_type": "execute_result"
    }
   ],
   "source": [
    "EE3().shape"
   ]
  },
  {
   "cell_type": "code",
   "execution_count": 6,
   "id": "a8d5cc09",
   "metadata": {},
   "outputs": [
    {
     "data": {
      "text/plain": [
       "True"
      ]
     },
     "execution_count": 6,
     "metadata": {},
     "output_type": "execute_result"
    }
   ],
   "source": [
    "def aa(N=4, M=4):\n",
    "    res = np.zeros((M,N,M,N), dtype='complex')\n",
    "    for k in range(M):\n",
    "        for l in range(N):\n",
    "            for r in range(M):\n",
    "                for s in range(N):\n",
    "                    #res[k][l][r][s] = np.exp(1j*2*math.pi*(k*r/M + l*s/N))\n",
    "                    #res[k][l][r][s] = 2**r * 2**s\n",
    "                    #res[k][l][r][s] = np.exp(r + s)\n",
    "                    #res[k][l][r][s] = np.exp(1j*2*math.pi*(r + s))\n",
    "                    #res[k][l][r][s] = np.exp(1j*2*math.pi*(r/M + s/N))\n",
    "                    #res[k][l][r][s] = np.exp(1j*2*math.pi*(k*(r/M) + l*(s/N)))\n",
    "                    #res[k][l][r][s] = 2**(k*r) * 2**(l*s)\n",
    "                    res[k][l][r][s] = np.exp(1j*2*math.pi*(k*(r/M) + l*(s/N)))\n",
    "            #print(f'1\\n{res[k][l]}\\b')\n",
    "            break\n",
    "    return res\n",
    "\n",
    "def bb(N=4, M=4):\n",
    "    res = np.zeros((M,N,M,N), dtype='complex')\n",
    "    r = np.arange(0,N,1)\n",
    "    s = np.arange(0,N,1).reshape((N,1))\n",
    "    for k in range(M):\n",
    "        for l in range(N):\n",
    "            #res[k][l] = 2**r * 2**s\n",
    "            #res[k][l] = n2**(r+s)\n",
    "            #res[k][l] = np.exp(1j*2*math.pi*(r + s))\n",
    "            #res[k][l] = np.exp(1j*2*math.pi*(r/M + s/N))\n",
    "            #res[k][l] = np.exp(1j*2*math.pi*(k*(r/M) + l*(s/N)))\n",
    "            #res[k][l] = (2**(k*r) * 2**(l*s)).T\n",
    "            #print(f'2\\n{res[k][l]}\\n')\n",
    "            res[k][l] = np.exp(1j*2*math.pi*(k*(r/M) + l*(s/N))).T\n",
    "\n",
    "            break\n",
    "    return res\n",
    "\n",
    "np.allclose( aa(), bb())"
   ]
  },
  {
   "cell_type": "code",
   "execution_count": null,
   "id": "354d4f5c",
   "metadata": {},
   "outputs": [],
   "source": []
  }
 ],
 "metadata": {
  "kernelspec": {
   "display_name": "Python 3 (ipykernel)",
   "language": "python",
   "name": "python3"
  },
  "language_info": {
   "codemirror_mode": {
    "name": "ipython",
    "version": 3
   },
   "file_extension": ".py",
   "mimetype": "text/x-python",
   "name": "python",
   "nbconvert_exporter": "python",
   "pygments_lexer": "ipython3",
   "version": "3.7.13"
  }
 },
 "nbformat": 4,
 "nbformat_minor": 5
}
