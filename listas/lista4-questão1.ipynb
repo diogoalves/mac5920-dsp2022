{
 "cells": [
  {
   "cell_type": "markdown",
   "id": "457815bd",
   "metadata": {},
   "source": []
  },
  {
   "cell_type": "code",
   "execution_count": 1,
   "id": "f5bdbaa9",
   "metadata": {},
   "outputs": [],
   "source": [
    "import numpy as np\n",
    "import matplotlib.pyplot as plt\n",
    "import math\n",
    "import scipy.fft as spfft"
   ]
  },
  {
   "cell_type": "code",
   "execution_count": 15,
   "id": "cc4c8b88",
   "metadata": {},
   "outputs": [
    {
     "data": {
      "text/plain": [
       "array([[1., 2., 7., 5.],\n",
       "       [5., 1., 2., 7.],\n",
       "       [7., 5., 1., 2.],\n",
       "       [2., 7., 5., 1.]])"
      ]
     },
     "execution_count": 15,
     "metadata": {},
     "output_type": "execute_result"
    }
   ],
   "source": [
    "def cria_matriz_circulante(h):\n",
    "    N = len(h)\n",
    "    Mh = np.zeros((N,N))\n",
    "    h_reversed = np.flip(h)\n",
    "    for row in range(N):\n",
    "        Mh[row] = np.roll(h_reversed,row+1)\n",
    "    return Mh\n",
    "\n",
    "h = np.array([1,5,7,2])\n",
    "My = cria_matriz_circulante(h)\n",
    "My"
   ]
  },
  {
   "cell_type": "code",
   "execution_count": 8,
   "id": "daa7e689",
   "metadata": {},
   "outputs": [],
   "source": [
    "def conv1(x,y):\n",
    "    N=len(x)\n",
    "    w = np.zeros(N)\n",
    "    for n in range(N):\n",
    "        for k in range(N):\n",
    "            w[n] += x[k] * y[n-k]\n",
    "            \n",
    "    return w\n",
    "\n",
    "def conv2(x,My):\n",
    "    return np.inner(My,x)\n",
    "\n",
    "x = np.array( [1, -1, 1, 2])"
   ]
  },
  {
   "cell_type": "code",
   "execution_count": 5,
   "id": "fe789df6",
   "metadata": {},
   "outputs": [
    {
     "data": {
      "text/plain": [
       "array([ 1, -1,  1,  2])"
      ]
     },
     "execution_count": 5,
     "metadata": {},
     "output_type": "execute_result"
    }
   ],
   "source": [
    "x"
   ]
  },
  {
   "cell_type": "code",
   "execution_count": 7,
   "id": "10d15a00",
   "metadata": {},
   "outputs": [
    {
     "data": {
      "text/plain": [
       "array([16., 20.,  7.,  2.])"
      ]
     },
     "execution_count": 7,
     "metadata": {},
     "output_type": "execute_result"
    }
   ],
   "source": [
    "conv1(x,h)"
   ]
  },
  {
   "cell_type": "code",
   "execution_count": 16,
   "id": "15695b50",
   "metadata": {},
   "outputs": [
    {
     "data": {
      "text/plain": [
       "array([16., 20.,  7.,  2.])"
      ]
     },
     "execution_count": 16,
     "metadata": {},
     "output_type": "execute_result"
    }
   ],
   "source": [
    "conv2(x,My)"
   ]
  },
  {
   "cell_type": "code",
   "execution_count": 23,
   "id": "0257578b",
   "metadata": {},
   "outputs": [
    {
     "data": {
      "text/plain": [
       "array([1., 2., 7., 5.])"
      ]
     },
     "execution_count": 23,
     "metadata": {},
     "output_type": "execute_result"
    }
   ],
   "source": [
    "def reversao_temporal(h):\n",
    "    N = len(h)\n",
    "    h_linha = np.zeros(N)\n",
    "    for k in range(N):\n",
    "        h_linha[k] = np.conjugate(h[-k])\n",
    "    return h_linha\n",
    "\n",
    "h_linha = reversao_temporal(h)\n",
    "h_linha"
   ]
  },
  {
   "cell_type": "code",
   "execution_count": 22,
   "id": "bbacfeaf",
   "metadata": {},
   "outputs": [
    {
     "data": {
      "text/plain": [
       "array([[1., 5., 7., 2.],\n",
       "       [2., 1., 5., 7.],\n",
       "       [7., 2., 1., 5.],\n",
       "       [5., 7., 2., 1.]])"
      ]
     },
     "execution_count": 22,
     "metadata": {},
     "output_type": "execute_result"
    }
   ],
   "source": [
    "cria_matriz_circulante(h_linha)"
   ]
  },
  {
   "cell_type": "code",
   "execution_count": null,
   "id": "fdec4903",
   "metadata": {},
   "outputs": [],
   "source": []
  }
 ],
 "metadata": {
  "kernelspec": {
   "display_name": "Python 3 (ipykernel)",
   "language": "python",
   "name": "python3"
  },
  "language_info": {
   "codemirror_mode": {
    "name": "ipython",
    "version": 3
   },
   "file_extension": ".py",
   "mimetype": "text/x-python",
   "name": "python",
   "nbconvert_exporter": "python",
   "pygments_lexer": "ipython3",
   "version": "3.7.15"
  }
 },
 "nbformat": 4,
 "nbformat_minor": 5
}
