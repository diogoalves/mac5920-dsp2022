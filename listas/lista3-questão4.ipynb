{
 "cells": [
  {
   "cell_type": "code",
   "execution_count": 1,
   "id": "34e80175",
   "metadata": {},
   "outputs": [],
   "source": [
    "import numpy as np\n",
    "import math\n",
    "import scipy.fft as fft"
   ]
  },
  {
   "cell_type": "code",
   "execution_count": 2,
   "id": "0eff3e3a",
   "metadata": {},
   "outputs": [
    {
     "data": {
      "text/plain": [
       "array([-0.65673633, -2.17421753, -1.59453673, -0.86495526, -1.08151253,\n",
       "        0.26823281, -0.06407165,  0.58538074,  0.34034214, -0.03675797,\n",
       "       -0.24502494,  0.22693665, -0.21299162, -0.06899371, -0.27715635,\n",
       "       -2.37371042,  0.28886868,  0.09625241,  0.54637633,  0.2909413 ,\n",
       "        0.81521888,  0.44288652,  0.90597675,  0.6458206 ,  1.16956868,\n",
       "        0.32925671,  0.38939601, -0.14311403, -0.50017979, -1.69853894,\n",
       "       -0.50389685, -0.89873406, -0.90874406, -0.20485204, -0.29747116,\n",
       "       -0.25103527, -0.86115366, -0.02938812, -0.80098431,  0.57839407,\n",
       "        0.96882327,  1.52493233, -0.30082553, -0.60802905,  0.87922263,\n",
       "        0.6689227 , -0.23845752, -0.56518109, -0.67647689,  0.6258714 ,\n",
       "        0.45617852, -1.60325372, -0.10983002, -0.50045723, -1.31862546,\n",
       "        0.95632628,  0.23829928,  0.64536948, -0.72669238,  1.87001038,\n",
       "        1.15302278, -0.0415942 ,  0.10595059,  0.3528715 ,  0.70867749,\n",
       "       -1.11492522, -0.16407897, -0.02907702,  0.17256264,  0.0728665 ,\n",
       "       -0.0401279 ,  0.34715259,  1.83768439,  1.52118336, -0.6316921 ,\n",
       "       -1.76375463, -0.83340398,  1.17668388, -0.18162353,  0.78323905,\n",
       "        0.05966747, -0.76444069,  0.80861304, -0.68910535,  0.40324045,\n",
       "        1.08502498, -2.127917  , -0.02789287,  1.14641157, -1.10471147,\n",
       "       -0.12164701,  1.29359207,  1.29151933, -2.15481022,  1.15030427,\n",
       "       -0.75792704, -0.66979831,  1.06481761,  0.77447259,  0.1975236 ])"
      ]
     },
     "execution_count": 2,
     "metadata": {},
     "output_type": "execute_result"
    }
   ],
   "source": [
    "\n",
    "x = np.random.randn(100)\n",
    "x"
   ]
  },
  {
   "cell_type": "code",
   "execution_count": 4,
   "id": "0d1e6ca3",
   "metadata": {},
   "outputs": [
    {
     "data": {
      "text/plain": [
       "81.11049908952685"
      ]
     },
     "execution_count": 4,
     "metadata": {},
     "output_type": "execute_result"
    }
   ],
   "source": [
    "np.linalg.norm(x)**2"
   ]
  },
  {
   "cell_type": "code",
   "execution_count": 9,
   "id": "3f20ff2c",
   "metadata": {},
   "outputs": [
    {
     "data": {
      "text/plain": [
       "81.11049908952688"
      ]
     },
     "execution_count": 9,
     "metadata": {},
     "output_type": "execute_result"
    }
   ],
   "source": [
    "dct = fft.dct(x, norm='ortho')\n",
    "np.linalg.norm(dct)**2"
   ]
  },
  {
   "cell_type": "code",
   "execution_count": 14,
   "id": "2ef4cfa9",
   "metadata": {},
   "outputs": [
    {
     "data": {
      "text/plain": [
       "81.11049908952687"
      ]
     },
     "execution_count": 14,
     "metadata": {},
     "output_type": "execute_result"
    }
   ],
   "source": [
    "np.dot(dct.T,dct)"
   ]
  },
  {
   "cell_type": "code",
   "execution_count": 17,
   "id": "4b572414",
   "metadata": {},
   "outputs": [
    {
     "data": {
      "text/plain": [
       "81.11049908952684"
      ]
     },
     "execution_count": 17,
     "metadata": {},
     "output_type": "execute_result"
    }
   ],
   "source": [
    "np.matmul(x.T,x)"
   ]
  },
  {
   "cell_type": "code",
   "execution_count": 16,
   "id": "94b1f535",
   "metadata": {},
   "outputs": [
    {
     "data": {
      "text/plain": [
       "81.11049908952684"
      ]
     },
     "execution_count": 16,
     "metadata": {},
     "output_type": "execute_result"
    }
   ],
   "source": [
    "np.inner(x,x)"
   ]
  },
  {
   "cell_type": "code",
   "execution_count": 18,
   "id": "51b28bc9",
   "metadata": {},
   "outputs": [
    {
     "data": {
      "text/plain": [
       "81.11049908952687"
      ]
     },
     "execution_count": 18,
     "metadata": {},
     "output_type": "execute_result"
    }
   ],
   "source": [
    "np.matmul(dct.T,dct)"
   ]
  },
  {
   "cell_type": "code",
   "execution_count": null,
   "id": "1930aeaa",
   "metadata": {},
   "outputs": [],
   "source": []
  }
 ],
 "metadata": {
  "kernelspec": {
   "display_name": "Python 3 (ipykernel)",
   "language": "python",
   "name": "python3"
  },
  "language_info": {
   "codemirror_mode": {
    "name": "ipython",
    "version": 3
   },
   "file_extension": ".py",
   "mimetype": "text/x-python",
   "name": "python",
   "nbconvert_exporter": "python",
   "pygments_lexer": "ipython3",
   "version": "3.7.13"
  }
 },
 "nbformat": 4,
 "nbformat_minor": 5
}
