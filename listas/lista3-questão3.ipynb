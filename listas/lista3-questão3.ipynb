{
 "cells": [
  {
   "cell_type": "code",
   "execution_count": 1,
   "id": "3cae0a11",
   "metadata": {},
   "outputs": [],
   "source": [
    "import numpy as np\n",
    "import math"
   ]
  },
  {
   "cell_type": "code",
   "execution_count": 3,
   "id": "c78cc7d1",
   "metadata": {},
   "outputs": [
    {
     "data": {
      "text/plain": [
       "array([15. +0.j        , -2.5+3.4409548j , -2.5+0.81229924j,\n",
       "       -2.5-0.81229924j, -2.5-3.4409548j ])"
      ]
     },
     "execution_count": 3,
     "metadata": {},
     "output_type": "execute_result"
    }
   ],
   "source": [
    "\n",
    "x=[1,2,3,4,5]\n",
    "X = np.fft.fft(x)\n",
    "X    "
   ]
  },
  {
   "cell_type": "code",
   "execution_count": 6,
   "id": "12c74e98",
   "metadata": {},
   "outputs": [
    {
     "data": {
      "text/plain": [
       "array([15.        +0.j        , -4.04508497-1.31432778j,\n",
       "        1.54508497-2.12662702j,  1.54508497+2.12662702j,\n",
       "       -4.04508497+1.31432778j])"
      ]
     },
     "execution_count": 6,
     "metadata": {},
     "output_type": "execute_result"
    }
   ],
   "source": [
    "y = [2,3,4,5,1]\n",
    "Y = np.fft.fft(y)\n",
    "Y"
   ]
  },
  {
   "cell_type": "code",
   "execution_count": 10,
   "id": "5f518d1e",
   "metadata": {},
   "outputs": [
    {
     "data": {
      "text/plain": [
       "array([15. -3.67394040e-15j, -2.5+3.44095480e+00j, -2.5+8.12299241e-01j,\n",
       "       -2.5-8.12299241e-01j, -2.5-3.44095480e+00j])"
      ]
     },
     "execution_count": 10,
     "metadata": {},
     "output_type": "execute_result"
    }
   ],
   "source": [
    "X*(np.exp(1j*2*math.pi*))"
   ]
  },
  {
   "cell_type": "code",
   "execution_count": 14,
   "id": "d2090303",
   "metadata": {},
   "outputs": [
    {
     "data": {
      "text/plain": [
       "False"
      ]
     },
     "execution_count": 14,
     "metadata": {},
     "output_type": "execute_result"
    }
   ],
   "source": [
    "np.isclose(X[1],Y[1])"
   ]
  },
  {
   "cell_type": "code",
   "execution_count": 15,
   "id": "f6a1cdf4",
   "metadata": {},
   "outputs": [
    {
     "data": {
      "text/plain": [
       "True"
      ]
     },
     "execution_count": 15,
     "metadata": {},
     "output_type": "execute_result"
    }
   ],
   "source": [
    "np.isclose(X[1]*np.exp(1j*2*math.pi/5),Y[1])"
   ]
  },
  {
   "cell_type": "code",
   "execution_count": null,
   "id": "edf318ba",
   "metadata": {},
   "outputs": [],
   "source": [
    "np.isclose(X[2]*np.exp(1j*2*math.pi/5),Y[1])"
   ]
  }
 ],
 "metadata": {
  "kernelspec": {
   "display_name": "Python 3 (ipykernel)",
   "language": "python",
   "name": "python3"
  },
  "language_info": {
   "codemirror_mode": {
    "name": "ipython",
    "version": 3
   },
   "file_extension": ".py",
   "mimetype": "text/x-python",
   "name": "python",
   "nbconvert_exporter": "python",
   "pygments_lexer": "ipython3",
   "version": "3.7.13"
  }
 },
 "nbformat": 4,
 "nbformat_minor": 5
}
