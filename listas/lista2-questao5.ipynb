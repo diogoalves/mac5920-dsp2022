{
 "cells": [
  {
   "cell_type": "code",
   "execution_count": 2,
   "id": "1f4f27b8",
   "metadata": {},
   "outputs": [],
   "source": [
    "import math\n",
    "import numpy as np"
   ]
  },
  {
   "cell_type": "code",
   "execution_count": 30,
   "id": "ca986f95",
   "metadata": {},
   "outputs": [],
   "source": [
    "N=4\n",
    "t = np.arange(0,1,1/N)\n",
    "E = np.exp(1j * 2 * math.pi * t)\n",
    "def E(k):\n",
    "    return np.exp(1j * 2 * math.pi * t * k)\n",
    "\n",
    "S = [E(0), E(1), E(2), E(3)]"
   ]
  },
  {
   "cell_type": "code",
   "execution_count": 9,
   "id": "9c273673",
   "metadata": {},
   "outputs": [],
   "source": [
    "S = np.array([[1,1,1,1],[1,1j,-1,-1j],[1,-1,1,-1],[1,-1j,-1,1j]])\n"
   ]
  },
  {
   "cell_type": "code",
   "execution_count": 10,
   "id": "ae7121c6",
   "metadata": {},
   "outputs": [],
   "source": [
    "e0 = np.array([1,0,0,0], dtype=complex)\n",
    "e1 = np.array([0,1,0,0], dtype=complex)\n",
    "e2 = np.array([0,0,1,0], dtype=complex)\n",
    "e3 = np.array([0,0,0,1], dtype=complex)"
   ]
  },
  {
   "cell_type": "markdown",
   "id": "e279e0d6",
   "metadata": {},
   "source": [
    "A equação 1.34 (exemplo 1.23 da página 38) apresenta como encontrar os coeficientes da combinação linear para decompor um sinal x.\n",
    "\n",
    "$$x = \\sum_{k=0}^{N-1} \\frac{(x,E_{N,k})}{(E_{N,k}, E_{N,k)}} E_{N,k}$$\n",
    "como $(E_{N,k}, E_{N,k})=N$, então :\n",
    "\n",
    "$$x = \\frac{1}{N} \\sum_{k=0}^{N-1} (x,E_{N,k}) E_{N,k}$$\n",
    "\n",
    "Continuando a Definição de DFT (Definiçao 2.1 na página 79) apresenta a decomposição de uma maneira ligeiramente diferente. Sem a divisão por $N$. Em outras palavras $X_k = N * $ coeficiente anterior.\n",
    "\n",
    "$$X_k = (x,E_{N,k})$$\n"
   ]
  },
  {
   "cell_type": "code",
   "execution_count": 35,
   "id": "6aa33858",
   "metadata": {},
   "outputs": [
    {
     "ename": "NameError",
     "evalue": "name 'e4' is not defined",
     "output_type": "error",
     "traceback": [
      "\u001b[0;31m---------------------------------------------------------------------------\u001b[0m",
      "\u001b[0;31mNameError\u001b[0m                                 Traceback (most recent call last)",
      "\u001b[0;32m/tmp/ipykernel_12/611020162.py\u001b[0m in \u001b[0;36m<module>\u001b[0;34m\u001b[0m\n\u001b[0;32m----> 1\u001b[0;31m \u001b[0mx\u001b[0m \u001b[0;34m=\u001b[0m \u001b[0me4\u001b[0m\u001b[0;34m\u001b[0m\u001b[0;34m\u001b[0m\u001b[0m\n\u001b[0m\u001b[1;32m      2\u001b[0m \u001b[0;31m# Como se trata do espaço dos complexos, precisamos dizer para o numpy para conjungar a segunda parte\u001b[0m\u001b[0;34m\u001b[0m\u001b[0;34m\u001b[0m\u001b[0;34m\u001b[0m\u001b[0m\n\u001b[1;32m      3\u001b[0m \u001b[0mXk0\u001b[0m \u001b[0;34m=\u001b[0m \u001b[0mnp\u001b[0m\u001b[0;34m.\u001b[0m\u001b[0minner\u001b[0m\u001b[0;34m(\u001b[0m\u001b[0mx\u001b[0m\u001b[0;34m,\u001b[0m \u001b[0mnp\u001b[0m\u001b[0;34m.\u001b[0m\u001b[0mconjugate\u001b[0m\u001b[0;34m(\u001b[0m\u001b[0mS\u001b[0m\u001b[0;34m[\u001b[0m\u001b[0;36m0\u001b[0m\u001b[0;34m]\u001b[0m\u001b[0;34m)\u001b[0m\u001b[0;34m)\u001b[0m\u001b[0;34m\u001b[0m\u001b[0;34m\u001b[0m\u001b[0m\n\u001b[1;32m      4\u001b[0m \u001b[0mXk1\u001b[0m \u001b[0;34m=\u001b[0m \u001b[0mnp\u001b[0m\u001b[0;34m.\u001b[0m\u001b[0minner\u001b[0m\u001b[0;34m(\u001b[0m\u001b[0mx\u001b[0m\u001b[0;34m,\u001b[0m \u001b[0mnp\u001b[0m\u001b[0;34m.\u001b[0m\u001b[0mconjugate\u001b[0m\u001b[0;34m(\u001b[0m\u001b[0mS\u001b[0m\u001b[0;34m[\u001b[0m\u001b[0;36m1\u001b[0m\u001b[0;34m]\u001b[0m\u001b[0;34m)\u001b[0m\u001b[0;34m)\u001b[0m\u001b[0;34m\u001b[0m\u001b[0;34m\u001b[0m\u001b[0m\n\u001b[1;32m      5\u001b[0m \u001b[0mXk2\u001b[0m \u001b[0;34m=\u001b[0m \u001b[0mnp\u001b[0m\u001b[0;34m.\u001b[0m\u001b[0minner\u001b[0m\u001b[0;34m(\u001b[0m\u001b[0mx\u001b[0m\u001b[0;34m,\u001b[0m \u001b[0mnp\u001b[0m\u001b[0;34m.\u001b[0m\u001b[0mconjugate\u001b[0m\u001b[0;34m(\u001b[0m\u001b[0mS\u001b[0m\u001b[0;34m[\u001b[0m\u001b[0;36m2\u001b[0m\u001b[0;34m]\u001b[0m\u001b[0;34m)\u001b[0m\u001b[0;34m)\u001b[0m\u001b[0;34m\u001b[0m\u001b[0;34m\u001b[0m\u001b[0m\n",
      "\u001b[0;31mNameError\u001b[0m: name 'e4' is not defined"
     ]
    }
   ],
   "source": [
    "\n",
    "x = e4\n",
    "# Como se trata do espaço dos complexos, precisamos dizer para o numpy para conjungar a segunda parte\n",
    "Xk0 = np.inner(x, np.conjugate(S[0])) \n",
    "Xk1 = np.inner(x, np.conjugate(S[1])) \n",
    "Xk2 = np.inner(x, np.conjugate(S[2])) \n",
    "Xk3 = np.inner(x, np.conjugate(S[3])) \n",
    "\n",
    "print(f'Xk=({Xk0},{Xk1},{Xk2},{Xk3})')\n",
    "print(f'magnitude({abs(Xk0)},{abs(Xk1)},{abs(Xk2)},{abs(Xk3)})')\n"
   ]
  },
  {
   "cell_type": "code",
   "execution_count": 50,
   "id": "4d8e6e59",
   "metadata": {},
   "outputs": [
    {
     "name": "stdout",
     "output_type": "stream",
     "text": [
      "[1. 1. 1. 1. 1. 1. 1. 1. 1. 1.]\n",
      "[1. 1. 1. 1. 1. 1. 1. 1. 1. 1.]\n",
      "[1. 1. 1. 1. 1. 1. 1. 1. 1. 1.]\n",
      "[1. 1. 1. 1. 1. 1. 1. 1. 1. 1.]\n",
      "[1. 1. 1. 1. 1. 1. 1. 1. 1. 1.]\n",
      "[1. 1. 1. 1. 1. 1. 1. 1. 1. 1.]\n",
      "[1. 1. 1. 1. 1. 1. 1. 1. 1. 1.]\n",
      "[1. 1. 1. 1. 1. 1. 1. 1. 1. 1.]\n",
      "[1. 1. 1. 1. 1. 1. 1. 1. 1. 1.]\n",
      "[1. 1. 1. 1. 1. 1. 1. 1. 1. 1.]\n"
     ]
    }
   ],
   "source": [
    "N=10\n",
    "t = np.arange(0,1,1/N)\n",
    "E = np.exp(1j * 2 * math.pi * t)\n",
    "def E(k):\n",
    "    return np.exp(1j * 2 * math.pi * t * k)\n",
    "\n",
    "S = []\n",
    "for e in range(N):\n",
    "    S.append(np.conjugate(E(e)))\n",
    "\n",
    "\n",
    "for s in S:\n",
    "    print(abs(s))\n"
   ]
  },
  {
   "cell_type": "code",
   "execution_count": 25,
   "id": "2f8b6676",
   "metadata": {},
   "outputs": [
    {
     "data": {
      "text/plain": [
       "1.0"
      ]
     },
     "execution_count": 25,
     "metadata": {},
     "output_type": "execute_result"
    }
   ],
   "source": [
    "abs(Xk1)"
   ]
  },
  {
   "cell_type": "code",
   "execution_count": null,
   "id": "30003108",
   "metadata": {},
   "outputs": [],
   "source": []
  }
 ],
 "metadata": {
  "kernelspec": {
   "display_name": "Python 3 (ipykernel)",
   "language": "python",
   "name": "python3"
  },
  "language_info": {
   "codemirror_mode": {
    "name": "ipython",
    "version": 3
   },
   "file_extension": ".py",
   "mimetype": "text/x-python",
   "name": "python",
   "nbconvert_exporter": "python",
   "pygments_lexer": "ipython3",
   "version": "3.7.13"
  }
 },
 "nbformat": 4,
 "nbformat_minor": 5
}
