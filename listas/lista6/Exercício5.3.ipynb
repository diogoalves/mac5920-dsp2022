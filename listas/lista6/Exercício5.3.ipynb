{
 "cells": [
  {
   "cell_type": "code",
   "execution_count": 49,
   "id": "4f304c9a",
   "metadata": {},
   "outputs": [],
   "source": [
    "import numpy as np\n",
    "import math\n",
    "import sympy\n",
    "from scipy.fft import fft, ifft\n",
    "from scipy.linalg import circulant"
   ]
  },
  {
   "cell_type": "code",
   "execution_count": 80,
   "id": "89a123df",
   "metadata": {},
   "outputs": [],
   "source": [
    "# util\n",
    "def cconv(x,h):    # considera que |h|<=|x|\n",
    "    hpad = np.zeros(len(x))\n",
    "    hpad[:len(h)] = h\n",
    "    return np.real(ifft(fft(x)*fft(hpad)))"
   ]
  },
  {
   "cell_type": "markdown",
   "id": "4a55f349",
   "metadata": {},
   "source": [
    "### Exercício 5.1\n",
    "Seja $x = (x_0, x_1, x_2, x_3)$ um sinal e $X = (X_0, X_1, X_2, X_3)$ a DFT de x. Seja $w = (0, 1, 1, 0)$ um vetor janela e $y = x ◦ w$ (produto de Hadamard).\n",
    "\n",
    "**a.** Compute o vetor $X \\in \\mathbb{C}^4$ explicitamente/simbolicamente (a matriz F4 na equação (2.8) pode ajudar).\n",
    "\n"
   ]
  },
  {
   "cell_type": "code",
   "execution_count": 56,
   "id": "a96e94a4",
   "metadata": {},
   "outputs": [
    {
     "name": "stdout",
     "output_type": "stream",
     "text": [
      "base digitada corretamente\n"
     ]
    }
   ],
   "source": [
    "base = np.array([[1,1,1,1],[1,-1j, -1, 1j],[1,-1,1,-1],[1,1j,-1,-1j]])\n",
    "\n",
    "def generateBaseConjugada(N=4): \n",
    "    t = np.arange(0,N,1)\n",
    "    k = np.arange(0,N,1).reshape((N,1))\n",
    "    result = np.exp(-1j*2*math.pi*k*t/N)\n",
    "    return result\n",
    "\n",
    "\n",
    "assert np.allclose(base, generateBaseConjugada(4))\n",
    "print('base digitada corretamente')"
   ]
  },
  {
   "cell_type": "code",
   "execution_count": 57,
   "id": "f81a83a8",
   "metadata": {},
   "outputs": [],
   "source": [
    "#a.\n",
    "F4 = sympy.Matrix(base)\n",
    "\n",
    "x0, x1, x2, x3 = sympy.symbols('x:4')\n",
    "x = sympy.Matrix([x0, x1, x2, x3])\n",
    "\n",
    "X0, X1, X2, X3 = sympy.symbols('X:4')\n",
    "X = sympy.Matrix([X0, X1, X2, X3])"
   ]
  },
  {
   "cell_type": "code",
   "execution_count": 9,
   "id": "23e05e86",
   "metadata": {},
   "outputs": [
    {
     "data": {
      "text/latex": [
       "$\\displaystyle \\left[\\begin{matrix}1.0 & 1.0 & 1.0 & 1.0\\\\1.0 & - 1.0 i & -1.0 & 1.0 i\\\\1.0 & -1.0 & 1.0 & -1.0\\\\1.0 & 1.0 i & -1.0 & - 1.0 i\\end{matrix}\\right]$"
      ],
      "text/plain": [
       "Matrix([\n",
       "[1.0,    1.0,  1.0,    1.0],\n",
       "[1.0, -1.0*I, -1.0,  1.0*I],\n",
       "[1.0,   -1.0,  1.0,   -1.0],\n",
       "[1.0,  1.0*I, -1.0, -1.0*I]])"
      ]
     },
     "execution_count": 9,
     "metadata": {},
     "output_type": "execute_result"
    }
   ],
   "source": [
    "base"
   ]
  },
  {
   "cell_type": "code",
   "execution_count": 55,
   "id": "b8b5d800",
   "metadata": {},
   "outputs": [
    {
     "data": {
      "text/latex": [
       "$\\displaystyle \\left[\\begin{matrix}x_{0}\\\\x_{1}\\\\x_{2}\\\\x_{3}\\end{matrix}\\right]$"
      ],
      "text/plain": [
       "Matrix([\n",
       "[x0],\n",
       "[x1],\n",
       "[x2],\n",
       "[x3]])"
      ]
     },
     "execution_count": 55,
     "metadata": {},
     "output_type": "execute_result"
    }
   ],
   "source": [
    "x"
   ]
  },
  {
   "cell_type": "code",
   "execution_count": 58,
   "id": "431dfa38",
   "metadata": {},
   "outputs": [
    {
     "data": {
      "text/latex": [
       "$\\displaystyle \\left[\\begin{matrix}1.0 x_{0} + 1.0 x_{1} + 1.0 x_{2} + 1.0 x_{3}\\\\1.0 x_{0} - 1.0 i x_{1} - 1.0 x_{2} + 1.0 i x_{3}\\\\1.0 x_{0} - 1.0 x_{1} + 1.0 x_{2} - 1.0 x_{3}\\\\1.0 x_{0} + 1.0 i x_{1} - 1.0 x_{2} - 1.0 i x_{3}\\end{matrix}\\right]$"
      ],
      "text/plain": [
       "Matrix([\n",
       "[    1.0*x0 + 1.0*x1 + 1.0*x2 + 1.0*x3],\n",
       "[1.0*x0 - 1.0*I*x1 - 1.0*x2 + 1.0*I*x3],\n",
       "[    1.0*x0 - 1.0*x1 + 1.0*x2 - 1.0*x3],\n",
       "[1.0*x0 + 1.0*I*x1 - 1.0*x2 - 1.0*I*x3]])"
      ]
     },
     "execution_count": 58,
     "metadata": {},
     "output_type": "execute_result"
    }
   ],
   "source": [
    "X = F4 * x\n",
    "X"
   ]
  },
  {
   "cell_type": "code",
   "execution_count": 59,
   "id": "dc9ec85e",
   "metadata": {},
   "outputs": [],
   "source": [
    "X0, X1, X2, X3 = X[0:4]"
   ]
  },
  {
   "cell_type": "code",
   "execution_count": 60,
   "id": "ccc9862c",
   "metadata": {},
   "outputs": [
    {
     "data": {
      "text/latex": [
       "$\\displaystyle 1.0 x_{0} + 1.0 x_{1} + 1.0 x_{2} + 1.0 x_{3}$"
      ],
      "text/plain": [
       "1.0*x0 + 1.0*x1 + 1.0*x2 + 1.0*x3"
      ]
     },
     "execution_count": 60,
     "metadata": {},
     "output_type": "execute_result"
    }
   ],
   "source": [
    "X0"
   ]
  },
  {
   "cell_type": "code",
   "execution_count": 61,
   "id": "5870375d",
   "metadata": {},
   "outputs": [
    {
     "data": {
      "text/latex": [
       "$\\displaystyle 1.0 x_{0} - 1.0 i x_{1} - 1.0 x_{2} + 1.0 i x_{3}$"
      ],
      "text/plain": [
       "1.0*x0 - 1.0*I*x1 - 1.0*x2 + 1.0*I*x3"
      ]
     },
     "execution_count": 61,
     "metadata": {},
     "output_type": "execute_result"
    }
   ],
   "source": [
    "X1"
   ]
  },
  {
   "cell_type": "code",
   "execution_count": 62,
   "id": "afc5dd54",
   "metadata": {},
   "outputs": [
    {
     "data": {
      "text/latex": [
       "$\\displaystyle 1.0 x_{0} - 1.0 x_{1} + 1.0 x_{2} - 1.0 x_{3}$"
      ],
      "text/plain": [
       "1.0*x0 - 1.0*x1 + 1.0*x2 - 1.0*x3"
      ]
     },
     "execution_count": 62,
     "metadata": {},
     "output_type": "execute_result"
    }
   ],
   "source": [
    "X2"
   ]
  },
  {
   "cell_type": "code",
   "execution_count": 63,
   "id": "d9feff8b",
   "metadata": {},
   "outputs": [
    {
     "data": {
      "text/latex": [
       "$\\displaystyle 1.0 x_{0} + 1.0 i x_{1} - 1.0 x_{2} - 1.0 i x_{3}$"
      ],
      "text/plain": [
       "1.0*x0 + 1.0*I*x1 - 1.0*x2 - 1.0*I*x3"
      ]
     },
     "execution_count": 63,
     "metadata": {},
     "output_type": "execute_result"
    }
   ],
   "source": [
    "X3"
   ]
  },
  {
   "cell_type": "markdown",
   "id": "de1bec6b",
   "metadata": {},
   "source": [
    "\n",
    "**b.** Compute as DFTs $W, Y \\in \\mathbb{C}^4$, e veriﬁque que a equação (5.6) é satisfeita.\n",
    "\n",
    "\n"
   ]
  },
  {
   "cell_type": "code",
   "execution_count": 38,
   "id": "ce99bce2",
   "metadata": {},
   "outputs": [
    {
     "data": {
      "text/plain": [
       "array([ 2.-0.j, -1.-1.j,  0.-0.j, -1.+1.j])"
      ]
     },
     "execution_count": 38,
     "metadata": {},
     "output_type": "execute_result"
    }
   ],
   "source": [
    "w = np.array([0,1,1,0])\n",
    "W = fft(w)\n",
    "W"
   ]
  },
  {
   "cell_type": "code",
   "execution_count": 42,
   "id": "bff83403",
   "metadata": {},
   "outputs": [
    {
     "data": {
      "text/latex": [
       "$\\displaystyle \\left[\\begin{matrix}1.0 x_{1} + 1.0 x_{2}\\\\- 1.0 i x_{1} - 1.0 x_{2}\\\\- 1.0 x_{1} + 1.0 x_{2}\\\\1.0 i x_{1} - 1.0 x_{2}\\end{matrix}\\right]$"
      ],
      "text/plain": [
       "Matrix([\n",
       "[   1.0*x1 + 1.0*x2],\n",
       "[-1.0*I*x1 - 1.0*x2],\n",
       "[  -1.0*x1 + 1.0*x2],\n",
       "[ 1.0*I*x1 - 1.0*x2]])"
      ]
     },
     "execution_count": 42,
     "metadata": {},
     "output_type": "execute_result"
    }
   ],
   "source": [
    "y = sympy.Matrix([0,x1,x2,0])\n",
    "Y = base * y\n",
    "Y"
   ]
  },
  {
   "cell_type": "code",
   "execution_count": 96,
   "id": "4df8c8ff",
   "metadata": {},
   "outputs": [
    {
     "data": {
      "text/latex": [
       "$\\displaystyle \\left[\\begin{matrix}2.0 & -1.0 + 1.0 i & 0 & -1.0 - 1.0 i\\\\-1.0 - 1.0 i & 2.0 & -1.0 + 1.0 i & 0\\\\0 & -1.0 - 1.0 i & 2.0 & -1.0 + 1.0 i\\\\-1.0 + 1.0 i & 0 & -1.0 - 1.0 i & 2.0\\end{matrix}\\right]$"
      ],
      "text/plain": [
       "Matrix([\n",
       "[         2.0, -1.0 + 1.0*I,            0, -1.0 - 1.0*I],\n",
       "[-1.0 - 1.0*I,          2.0, -1.0 + 1.0*I,            0],\n",
       "[           0, -1.0 - 1.0*I,          2.0, -1.0 + 1.0*I],\n",
       "[-1.0 + 1.0*I,            0, -1.0 - 1.0*I,          2.0]])"
      ]
     },
     "execution_count": 96,
     "metadata": {},
     "output_type": "execute_result"
    }
   ],
   "source": [
    "MW = sympy.Matrix(circulant(W))\n",
    "MW"
   ]
  },
  {
   "cell_type": "code",
   "execution_count": 97,
   "id": "3212d79e",
   "metadata": {},
   "outputs": [
    {
     "data": {
      "text/latex": [
       "$\\displaystyle \\left[\\begin{matrix}2.0 x_{0} + 2.0 x_{1} + 2.0 x_{2} + 2.0 x_{3} + \\left(-1.0 + 1.0 i\\right) \\left(1.0 x_{0} - 1.0 i x_{1} - 1.0 x_{2} + 1.0 i x_{3}\\right) + \\left(-1.0 - 1.0 i\\right) \\left(1.0 x_{0} + 1.0 i x_{1} - 1.0 x_{2} - 1.0 i x_{3}\\right)\\\\2.0 x_{0} - 2.0 i x_{1} - 2.0 x_{2} + 2.0 i x_{3} + \\left(-1.0 + 1.0 i\\right) \\left(1.0 x_{0} - 1.0 x_{1} + 1.0 x_{2} - 1.0 x_{3}\\right) + \\left(-1.0 - 1.0 i\\right) \\left(1.0 x_{0} + 1.0 x_{1} + 1.0 x_{2} + 1.0 x_{3}\\right)\\\\2.0 x_{0} - 2.0 x_{1} + 2.0 x_{2} - 2.0 x_{3} + \\left(-1.0 - 1.0 i\\right) \\left(1.0 x_{0} - 1.0 i x_{1} - 1.0 x_{2} + 1.0 i x_{3}\\right) + \\left(-1.0 + 1.0 i\\right) \\left(1.0 x_{0} + 1.0 i x_{1} - 1.0 x_{2} - 1.0 i x_{3}\\right)\\\\2.0 x_{0} + 2.0 i x_{1} - 2.0 x_{2} - 2.0 i x_{3} + \\left(-1.0 - 1.0 i\\right) \\left(1.0 x_{0} - 1.0 x_{1} + 1.0 x_{2} - 1.0 x_{3}\\right) + \\left(-1.0 + 1.0 i\\right) \\left(1.0 x_{0} + 1.0 x_{1} + 1.0 x_{2} + 1.0 x_{3}\\right)\\end{matrix}\\right]$"
      ],
      "text/plain": [
       "Matrix([\n",
       "[2.0*x0 + 2.0*x1 + 2.0*x2 + 2.0*x3 + (-1.0 + 1.0*I)*(1.0*x0 - 1.0*I*x1 - 1.0*x2 + 1.0*I*x3) + (-1.0 - 1.0*I)*(1.0*x0 + 1.0*I*x1 - 1.0*x2 - 1.0*I*x3)],\n",
       "[    2.0*x0 - 2.0*I*x1 - 2.0*x2 + 2.0*I*x3 + (-1.0 + 1.0*I)*(1.0*x0 - 1.0*x1 + 1.0*x2 - 1.0*x3) + (-1.0 - 1.0*I)*(1.0*x0 + 1.0*x1 + 1.0*x2 + 1.0*x3)],\n",
       "[2.0*x0 - 2.0*x1 + 2.0*x2 - 2.0*x3 + (-1.0 - 1.0*I)*(1.0*x0 - 1.0*I*x1 - 1.0*x2 + 1.0*I*x3) + (-1.0 + 1.0*I)*(1.0*x0 + 1.0*I*x1 - 1.0*x2 - 1.0*I*x3)],\n",
       "[    2.0*x0 + 2.0*I*x1 - 2.0*x2 - 2.0*I*x3 + (-1.0 - 1.0*I)*(1.0*x0 - 1.0*x1 + 1.0*x2 - 1.0*x3) + (-1.0 + 1.0*I)*(1.0*x0 + 1.0*x1 + 1.0*x2 + 1.0*x3)]])"
      ]
     },
     "execution_count": 97,
     "metadata": {},
     "output_type": "execute_result"
    }
   ],
   "source": [
    "res =MW*X\n",
    "res\n"
   ]
  },
  {
   "cell_type": "code",
   "execution_count": 95,
   "id": "2fc24d60",
   "metadata": {},
   "outputs": [
    {
     "data": {
      "text/latex": [
       "$\\displaystyle \\left[\\begin{matrix}x_{1} + x_{2}\\\\- 1.0 i x_{1} - 1.0 x_{2}\\\\- 1.0 x_{1} + x_{2}\\\\i x_{1} - 1.0 x_{2}\\end{matrix}\\right]$"
      ],
      "text/plain": [
       "Matrix([\n",
       "[           x1 + x2],\n",
       "[-1.0*I*x1 - 1.0*x2],\n",
       "[      -1.0*x1 + x2],\n",
       "[     I*x1 - 1.0*x2]])"
      ]
     },
     "execution_count": 95,
     "metadata": {},
     "output_type": "execute_result"
    }
   ],
   "source": [
    "res/4\n"
   ]
  },
  {
   "cell_type": "markdown",
   "id": "cda530e6",
   "metadata": {},
   "source": [
    "----\n",
    "**c.** Compute a DFT $\\tilde{X} \\in \\mathbb{C}^2$ da parte não-nula do sinal janelado $\\tilde{x} = (x_1, x_2)$, e veriﬁque que o teorema 5.1 é satisfeito.\n"
   ]
  },
  {
   "cell_type": "code",
   "execution_count": 103,
   "id": "4cd324fc",
   "metadata": {},
   "outputs": [
    {
     "data": {
      "text/latex": [
       "$\\displaystyle \\left[\\begin{matrix}1.0 & 1.0\\\\1.0 & -1.0\\end{matrix}\\right]$"
      ],
      "text/plain": [
       "Matrix([\n",
       "[1.0,  1.0],\n",
       "[1.0, -1.0]])"
      ]
     },
     "execution_count": 103,
     "metadata": {},
     "output_type": "execute_result"
    }
   ],
   "source": [
    "F2 = sympy.Matrix(np.round(generateBaseConjugada(2),2))\n",
    "F2"
   ]
  },
  {
   "cell_type": "code",
   "execution_count": 102,
   "id": "e9f5e7f7",
   "metadata": {},
   "outputs": [
    {
     "data": {
      "text/latex": [
       "$\\displaystyle \\left[\\begin{matrix}x_{1}\\\\x_{2}\\end{matrix}\\right]$"
      ],
      "text/plain": [
       "Matrix([\n",
       "[x1],\n",
       "[x2]])"
      ]
     },
     "execution_count": 102,
     "metadata": {},
     "output_type": "execute_result"
    }
   ],
   "source": [
    "xtil = sympy.Matrix([x1,x2])\n",
    "xtil"
   ]
  },
  {
   "cell_type": "code",
   "execution_count": 104,
   "id": "f7413389",
   "metadata": {},
   "outputs": [
    {
     "data": {
      "text/latex": [
       "$\\displaystyle \\left[\\begin{matrix}1.0 x_{1} + 1.0 x_{2}\\\\1.0 x_{1} - 1.0 x_{2}\\end{matrix}\\right]$"
      ],
      "text/plain": [
       "Matrix([\n",
       "[1.0*x1 + 1.0*x2],\n",
       "[1.0*x1 - 1.0*x2]])"
      ]
     },
     "execution_count": 104,
     "metadata": {},
     "output_type": "execute_result"
    }
   ],
   "source": [
    "F2*xtil"
   ]
  },
  {
   "cell_type": "code",
   "execution_count": 107,
   "id": "7b98864c",
   "metadata": {},
   "outputs": [
    {
     "data": {
      "text/plain": [
       "(-1+0j)"
      ]
     },
     "execution_count": 107,
     "metadata": {},
     "output_type": "execute_result"
    }
   ],
   "source": [
    "np.round(np.exp(1j*2*math.pi*1/2))"
   ]
  },
  {
   "cell_type": "code",
   "execution_count": null,
   "id": "0cb84c27",
   "metadata": {},
   "outputs": [],
   "source": []
  }
 ],
 "metadata": {
  "kernelspec": {
   "display_name": "Python 3 (ipykernel)",
   "language": "python",
   "name": "python3"
  },
  "language_info": {
   "codemirror_mode": {
    "name": "ipython",
    "version": 3
   },
   "file_extension": ".py",
   "mimetype": "text/x-python",
   "name": "python",
   "nbconvert_exporter": "python",
   "pygments_lexer": "ipython3",
   "version": "3.7.16"
  }
 },
 "nbformat": 4,
 "nbformat_minor": 5
}
