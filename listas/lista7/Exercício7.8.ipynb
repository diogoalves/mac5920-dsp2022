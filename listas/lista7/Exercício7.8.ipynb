{
 "cells": [
  {
   "cell_type": "code",
   "execution_count": 8,
   "id": "7171ec66",
   "metadata": {},
   "outputs": [],
   "source": [
    "import numpy as np\n",
    "from scipy.fft import fft, ifft\n"
   ]
  },
  {
   "cell_type": "code",
   "execution_count": 2,
   "id": "38ae8474",
   "metadata": {},
   "outputs": [],
   "source": [
    "l_a = np.array([3/4, 1/2])\n",
    "h_a = np.array([2/3, -2/3])"
   ]
  },
  {
   "cell_type": "code",
   "execution_count": 5,
   "id": "29ce6a5f",
   "metadata": {},
   "outputs": [
    {
     "name": "stdout",
     "output_type": "stream",
     "text": [
      "l+h [ 1.41666667 -0.16666667]\n"
     ]
    }
   ],
   "source": [
    "print(f'l+h {l_a+h_a}')\n",
    "# para ser um filtro do tipo Haar a soma daria [1,0,0....] . Portanto não é um filtro de Haar"
   ]
  },
  {
   "cell_type": "code",
   "execution_count": 9,
   "id": "767130a1",
   "metadata": {},
   "outputs": [
    {
     "data": {
      "text/plain": [
       "array([[0.75, 0.5 ],\n",
       "       [0.5 , 0.75]])"
      ]
     },
     "execution_count": 9,
     "metadata": {},
     "output_type": "execute_result"
    }
   ],
   "source": [
    "# Portanto é fazer o exemplo 7.3\n",
    "# Primeiro passo é como converter os coeficientes do filtro em uma forma v_k e w_k\n",
    "#v_k = (l_a * x)\n",
    "#v_k = 3/4*x_k + 1/2*x_{k-1}\n",
    "\n",
    "#w_k = (h_a * x)\n",
    "#w_k = 2/3*(x_k - x_{k-1})\n",
    "\n",
    "# foi só fazer a convolução da análise"
   ]
  },
  {
   "cell_type": "code",
   "execution_count": 10,
   "id": "bf4ba5b7",
   "metadata": {},
   "outputs": [
    {
     "data": {
      "text/plain": [
       "array([[0.5, 0.5],\n",
       "       [0.5, 0.5]])"
      ]
     },
     "execution_count": 10,
     "metadata": {},
     "output_type": "execute_result"
    }
   ],
   "source": [
    "# Segundo passo\n",
    "# U(D(l_a*x)) = v_k para k pares e 0 para k impares\n",
    "# U(D(h_a*x)) = w_k para k pares e 0 para k impares"
   ]
  },
  {
   "cell_type": "code",
   "execution_count": null,
   "id": "34260bcc",
   "metadata": {},
   "outputs": [],
   "source": [
    "# Terceiro passo\n",
    "# entendi a equação antes da 7.7\n",
    "# a 7.7 é apenas um reagrupamento menos óbvio\n",
    "# colocamos em função de x_k e x_{k-1} porque nos próximos passos vamos gerar respostas a partir desses valores.\n"
   ]
  },
  {
   "cell_type": "markdown",
   "id": "a1e8c1a8",
   "metadata": {},
   "source": [
    "### Quarto passo\n",
    "\n",
    "A equação anterior deve ser válida para qualquer x\n",
    "aqui escolhemos um x específico para ver o que vai dar\n",
    "escolhemos x = [1, 0,0, ...]. Só $x_0=1$ as outras posição ficam igual a zero.\n",
    "\n",
    "\n",
    "consegui chegar a 4 equações\n",
    "que teoricamente valem para qualquer n\n"
   ]
  },
  {
   "cell_type": "code",
   "execution_count": 11,
   "id": "ee9aaa6f",
   "metadata": {},
   "outputs": [
    {
     "name": "stdout",
     "output_type": "stream",
     "text": [
      "Teste passou\n"
     ]
    }
   ],
   "source": [
    "def conv_circular(x, h, verbose=False):\n",
    "    N = len(x)\n",
    "    M = len(h)\n",
    "    w = np.zeros(N)\n",
    "    for k in range(N):\n",
    "        if verbose: print(f'w[{k}] = ', end=' ')\n",
    "        for m in range(M):\n",
    "            if verbose: print(f'h[{m}] * x[{k-m}] ({h[m]}*{x[k-m]}={h[m] * x[k-m]})', end= '')\n",
    "            if verbose and m+1 < M: print(' + ', end='')\n",
    "            w[k] += h[m] * x[k-m]\n",
    "        if verbose: print(f' = {w[k]}')\n",
    "    return w\n",
    "\n",
    "def test_conv_cicrular(N=100):\n",
    "    x = np.random.rand(N)\n",
    "    h = np.random.rand(5)\n",
    "    \n",
    "    golden = (ifft(fft(x,N) * fft(h,N)))\n",
    "    dut = conv_circular(x,h)\n",
    "    \n",
    "    assert np.allclose(golden, dut), 'Teste falhou'\n",
    "    print('Teste passou')\n",
    "    \n",
    "test_conv_cicrular()"
   ]
  },
  {
   "cell_type": "code",
   "execution_count": 15,
   "id": "0655dc8e",
   "metadata": {},
   "outputs": [],
   "source": [
    "x = np.array([1, -2, 2, 4])"
   ]
  },
  {
   "cell_type": "code",
   "execution_count": 16,
   "id": "d582f24c",
   "metadata": {},
   "outputs": [
    {
     "data": {
      "text/plain": [
       "array([ 2.75      ,  0.5       , -2.        ,  2.66666667])"
      ]
     },
     "execution_count": 16,
     "metadata": {},
     "output_type": "execute_result"
    }
   ],
   "source": [
    "def one_stage_analysis(x): \n",
    "    N = len(x)\n",
    "    l_analysis = [3/4, 1/2]\n",
    "    h_analysis = [2/3, -2/3]\n",
    "    \n",
    "    Xl = conv_circular(x,l_analysis)[::2]\n",
    "    Xh = conv_circular(x,h_analysis)[::2]\n",
    "    \n",
    "    X = np.concatenate([Xl, Xh])\n",
    "    return X, Xl, Xh\n",
    "\n",
    "X, Xl, Xh = one_stage_analysis(x)\n",
    "X"
   ]
  },
  {
   "cell_type": "code",
   "execution_count": 17,
   "id": "7bdd14b9",
   "metadata": {},
   "outputs": [
    {
     "data": {
      "text/plain": [
       "array([ 1., -2.,  2.,  4.])"
      ]
     },
     "execution_count": 17,
     "metadata": {},
     "output_type": "execute_result"
    }
   ],
   "source": [
    "def upsample(x): return np.concatenate([np.insert(x, slice(1, None), 0), np.zeros(1)])\n",
    "\n",
    "def one_stage_synthesis(X):\n",
    "    N = len(X)\n",
    "    # transformado em filtro causal \n",
    "    l_synthesis = [4/5, 4/5]\n",
    "    h_synthesis = [-9/10, 3/5]\n",
    "    \n",
    "    Xl_condensed = X[:N//2]\n",
    "    Xh_condensed = X[N//2:]\n",
    "    Xl = upsample(Xl_condensed)\n",
    "    Xh = upsample(Xh_condensed)\n",
    "    \n",
    "    vl = conv_circular(Xl, l_synthesis)\n",
    "    vh = conv_circular(Xh, h_synthesis)\n",
    "    \n",
    "    x_delayed = vl + vh\n",
    "    x = np.roll(x_delayed, -1)\n",
    "    \n",
    "    return x\n",
    "\n",
    "one_stage_synthesis(X)"
   ]
  },
  {
   "cell_type": "code",
   "execution_count": null,
   "id": "b5f531dd",
   "metadata": {},
   "outputs": [],
   "source": []
  }
 ],
 "metadata": {
  "kernelspec": {
   "display_name": "Python 3 (ipykernel)",
   "language": "python",
   "name": "python3"
  },
  "language_info": {
   "codemirror_mode": {
    "name": "ipython",
    "version": 3
   },
   "file_extension": ".py",
   "mimetype": "text/x-python",
   "name": "python",
   "nbconvert_exporter": "python",
   "pygments_lexer": "ipython3",
   "version": "3.7.16"
  }
 },
 "nbformat": 4,
 "nbformat_minor": 5
}
