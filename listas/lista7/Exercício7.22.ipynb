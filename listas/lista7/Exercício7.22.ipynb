{
 "cells": [
  {
   "cell_type": "code",
   "execution_count": 13,
   "id": "8025ae6f",
   "metadata": {},
   "outputs": [],
   "source": [
    "import numpy as np\n",
    "from sympy import Rational, Poly\n",
    "from sympy.abc import z\n"
   ]
  },
  {
   "cell_type": "code",
   "execution_count": 11,
   "id": "cc0cc6f7",
   "metadata": {},
   "outputs": [
    {
     "name": "stdout",
     "output_type": "stream",
     "text": [
      "[1/2, 1, -1/2]\n",
      "[1/4, 1/2, 1/4]\n"
     ]
    }
   ],
   "source": [
    "la = [Rational(1,2), 1, -Rational(1/2)]\n",
    "ha = [Rational(1/4), Rational(1/2), Rational(1,4)]\n",
    "\n",
    "print(la)\n",
    "print(ha)"
   ]
  },
  {
   "cell_type": "code",
   "execution_count": 14,
   "id": "81e26187",
   "metadata": {},
   "outputs": [],
   "source": [
    "def toZ(coefs): return lambda var : coefs[0]*var**0 + coefs[1]*var**-1 + coefs[2]*var**-2\n",
    "    \n",
    "LA_f = toZ(la)\n",
    "HA_f = toZ(ha)\n",
    "\n",
    "LA_p = LA_f(z)\n",
    "LA_n = LA_f(-z)\n",
    "HA_p = HA_f(z)\n",
    "HA_n = HA_f(-z)"
   ]
  },
  {
   "cell_type": "code",
   "execution_count": 42,
   "id": "f836303e",
   "metadata": {},
   "outputs": [
    {
     "data": {
      "text/latex": [
       "$\\displaystyle \\frac{1}{z^{3}}$"
      ],
      "text/plain": [
       "z**(-3)"
      ]
     },
     "execution_count": 42,
     "metadata": {},
     "output_type": "execute_result"
    }
   ],
   "source": [
    "def denominador(var):\n",
    "    return LA_p*HA_n - LA_n*HA_p\n",
    "\n",
    "denominador(z).expand()"
   ]
  },
  {
   "cell_type": "code",
   "execution_count": 39,
   "id": "2a62321c",
   "metadata": {},
   "outputs": [
    {
     "data": {
      "text/latex": [
       "$\\displaystyle \\frac{1}{8} - \\frac{1}{2 z^{2}} + \\frac{1}{2 z^{3}} - \\frac{1}{8 z^{4}}$"
      ],
      "text/plain": [
       "1/8 - 1/(2*z**2) + 1/(2*z**3) - 1/(8*z**4)"
      ]
     },
     "execution_count": 39,
     "metadata": {},
     "output_type": "execute_result"
    }
   ],
   "source": [
    "def denominadorA(var):\n",
    "    return LA_p*HA_n\n",
    "\n",
    "denominadorA(z).expand()"
   ]
  },
  {
   "cell_type": "code",
   "execution_count": 41,
   "id": "727330f8",
   "metadata": {},
   "outputs": [
    {
     "data": {
      "text/latex": [
       "$\\displaystyle \\frac{1}{8} - \\frac{1}{2 z^{2}} - \\frac{1}{2 z^{3}} - \\frac{1}{8 z^{4}}$"
      ],
      "text/plain": [
       "1/8 - 1/(2*z**2) - 1/(2*z**3) - 1/(8*z**4)"
      ]
     },
     "execution_count": 41,
     "metadata": {},
     "output_type": "execute_result"
    }
   ],
   "source": [
    "def denominadorB(var):\n",
    "    return LA_n*HA_p\n",
    "\n",
    "denominadorB(z).expand()"
   ]
  },
  {
   "cell_type": "code",
   "execution_count": 45,
   "id": "b2fb6833",
   "metadata": {},
   "outputs": [
    {
     "data": {
      "text/latex": [
       "$\\displaystyle \\frac{1}{2} - \\frac{1}{z} + \\frac{1}{2 z^{2}}$"
      ],
      "text/plain": [
       "1/2 - 1/z + 1/(2*z**2)"
      ]
     },
     "execution_count": 45,
     "metadata": {},
     "output_type": "execute_result"
    }
   ],
   "source": [
    "def LS_f(var, m):\n",
    "    numerador = 2*var**(-m) * HA_n\n",
    "    denominador = LA_p*HA_n - LA_n*HA_p\n",
    "    return numerador/denominador\n",
    "\n",
    "LS_f(z,3).expand()\n",
    "\n",
    "#LS [1/2, -1, 1/2]"
   ]
  },
  {
   "cell_type": "code",
   "execution_count": 44,
   "id": "0681892c",
   "metadata": {},
   "outputs": [
    {
     "data": {
      "text/latex": [
       "$\\displaystyle \\frac{1}{2} - \\frac{1}{z} + \\frac{1}{2 z^{2}}$"
      ],
      "text/plain": [
       "1/2 - 1/z + 1/(2*z**2)"
      ]
     },
     "execution_count": 44,
     "metadata": {},
     "output_type": "execute_result"
    }
   ],
   "source": [
    "def numerador_LS(var,m):\n",
    "    return 2*var**(-m) * HA_n\n",
    "\n",
    "numerador_LS(z,0)"
   ]
  },
  {
   "cell_type": "code",
   "execution_count": 46,
   "id": "6f6ac72f",
   "metadata": {},
   "outputs": [
    {
     "data": {
      "text/latex": [
       "$\\displaystyle \\frac{1}{4} - \\frac{1}{2 z} + \\frac{1}{4 z^{2}}$"
      ],
      "text/plain": [
       "1/4 - 1/(2*z) + 1/(4*z**2)"
      ]
     },
     "execution_count": 46,
     "metadata": {},
     "output_type": "execute_result"
    }
   ],
   "source": [
    "HA_n"
   ]
  },
  {
   "cell_type": "code",
   "execution_count": 24,
   "id": "6c47a236",
   "metadata": {},
   "outputs": [
    {
     "data": {
      "text/latex": [
       "$\\displaystyle -1 + \\frac{2}{z} + \\frac{1}{z^{2}}$"
      ],
      "text/plain": [
       "-1 + 2/z + z**(-2)"
      ]
     },
     "execution_count": 24,
     "metadata": {},
     "output_type": "execute_result"
    }
   ],
   "source": [
    "def HS_f(var, m):\n",
    "    numerador = -2*var**(-m) * LA_n\n",
    "    denominador = LA_p*HA_n - LA_n*HA_p\n",
    "    return numerador/denominador\n",
    "\n",
    "HS_f(z,3).simplify()\n",
    "#HS = [-1, 2, 1]"
   ]
  },
  {
   "cell_type": "code",
   "execution_count": 47,
   "id": "d1c7b8ce",
   "metadata": {},
   "outputs": [
    {
     "data": {
      "text/latex": [
       "$\\displaystyle \\frac{1}{2} - \\frac{1}{z} - \\frac{1}{2 z^{2}}$"
      ],
      "text/plain": [
       "1/2 - 1/z - 1/(2*z**2)"
      ]
     },
     "execution_count": 47,
     "metadata": {},
     "output_type": "execute_result"
    }
   ],
   "source": [
    "LA_n"
   ]
  },
  {
   "cell_type": "markdown",
   "id": "d58445bc",
   "metadata": {},
   "source": [
    "## Testando a reconstrução perfeita deste coeficientes\n"
   ]
  },
  {
   "cell_type": "code",
   "execution_count": 28,
   "id": "a4b35b6b",
   "metadata": {},
   "outputs": [],
   "source": [
    "def conv_circular(x, h, verbose=False):\n",
    "    N = len(x)\n",
    "    M = len(h)\n",
    "    w = np.zeros(N)\n",
    "    for k in range(N):\n",
    "        if verbose: print(f'w[{k}] = ', end=' ')\n",
    "        for m in range(M):\n",
    "            if verbose: print(f'h[{m}] * x[{k-m}] ({h[m]}*{x[k-m]}={h[m] * x[k-m]})', end= '')\n",
    "            if verbose and m+1 < M: print(' + ', end='')\n",
    "            w[k] += h[m] * x[k-m]\n",
    "        if verbose: print(f' = {w[k]}')\n",
    "    return w\n",
    "\n",
    "def one_stage_analysis(x, l_analysis, h_analysis): \n",
    "    N = len(x)\n",
    "   \n",
    "    Xl = conv_circular(x,l_analysis)[::2]\n",
    "    Xh = conv_circular(x,h_analysis)[::2]\n",
    "    \n",
    "    X = np.concatenate([Xl, Xh])\n",
    "    return X, Xl, Xh\n",
    "\n",
    "def upsample(x): return np.concatenate([np.insert(x, slice(1, None), 0), np.zeros(1)])\n",
    "\n",
    "def one_stage_synthesis(X, l_synthesis, h_synthesis, delay=0):\n",
    "    N = len(X)\n",
    "    \n",
    "    Xl_condensed = X[:N//2]\n",
    "    Xh_condensed = X[N//2:]\n",
    "    Xl = upsample(Xl_condensed)\n",
    "    Xh = upsample(Xh_condensed)\n",
    "    \n",
    "    vl = conv_circular(Xl, l_synthesis)\n",
    "    vh = conv_circular(Xh, h_synthesis)\n",
    "    \n",
    "    x_delayed = vl + vh\n",
    "    x = np.roll(x_delayed, -delay)\n",
    "    \n",
    "    return x\n",
    "\n"
   ]
  },
  {
   "cell_type": "code",
   "execution_count": 34,
   "id": "dd308e84",
   "metadata": {},
   "outputs": [
    {
     "data": {
      "text/plain": [
       "array([5., 3., 5., 7., 6., 2., 4., 6.])"
      ]
     },
     "execution_count": 34,
     "metadata": {},
     "output_type": "execute_result"
    }
   ],
   "source": [
    "l_analysis = np.array([1/2, 1, -1/2])\n",
    "h_analysis = np.array([1/4, 1/2, 1/4])\n",
    "l_synthesis = np.array([1/2, -1, 1/2])\n",
    "h_synthesis = np.array([-1, 2, 1])\n",
    "\n",
    "x = np.array([1,2,3,4,5,6,7,8])\n",
    "\n",
    "X, Xl, Xh = one_stage_analysis(x, l_analysis, h_analysis)\n",
    "X\n",
    "\n"
   ]
  },
  {
   "cell_type": "code",
   "execution_count": 35,
   "id": "fe1d3c5b",
   "metadata": {},
   "outputs": [
    {
     "data": {
      "text/plain": [
       "array([1., 2., 3., 4., 5., 6., 7., 8.])"
      ]
     },
     "execution_count": 35,
     "metadata": {},
     "output_type": "execute_result"
    }
   ],
   "source": [
    "one_stage_synthesis(X, l_synthesis, h_synthesis, delay=3)"
   ]
  },
  {
   "cell_type": "code",
   "execution_count": null,
   "id": "563e0be1",
   "metadata": {},
   "outputs": [],
   "source": []
  }
 ],
 "metadata": {
  "kernelspec": {
   "display_name": "Python 3 (ipykernel)",
   "language": "python",
   "name": "python3"
  },
  "language_info": {
   "codemirror_mode": {
    "name": "ipython",
    "version": 3
   },
   "file_extension": ".py",
   "mimetype": "text/x-python",
   "name": "python",
   "nbconvert_exporter": "python",
   "pygments_lexer": "ipython3",
   "version": "3.7.16"
  }
 },
 "nbformat": 4,
 "nbformat_minor": 5
}
