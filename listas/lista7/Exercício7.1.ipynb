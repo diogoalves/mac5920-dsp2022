{
 "cells": [
  {
   "cell_type": "code",
   "execution_count": 4,
   "id": "42554541",
   "metadata": {},
   "outputs": [],
   "source": [
    "import numpy as np\n",
    "from math import pi\n",
    "from scipy.fft import fft, ifft"
   ]
  },
  {
   "cell_type": "code",
   "execution_count": 5,
   "id": "91958014",
   "metadata": {},
   "outputs": [],
   "source": [
    "x = [1, -2, 2, 4]"
   ]
  },
  {
   "cell_type": "code",
   "execution_count": 30,
   "id": "76909b4c",
   "metadata": {},
   "outputs": [
    {
     "name": "stdout",
     "output_type": "stream",
     "text": [
      "Teste passou\n"
     ]
    }
   ],
   "source": [
    "def conv_circular(x, h, verbose=False):\n",
    "    N = len(x)\n",
    "    M = len(h)\n",
    "    w = np.zeros(N)\n",
    "    for k in range(N):\n",
    "        if verbose: print(f'w[{k}] = ', end=' ')\n",
    "        for m in range(M):\n",
    "            if verbose: print(f'h[{m}] * x[{k-m}] ({h[m]}*{x[k-m]}={h[m] * x[k-m]})', end= '')\n",
    "            if verbose and m+1 < M: print(' + ', end='')\n",
    "            w[k] += h[m] * x[k-m]\n",
    "        if verbose: print(f' = {w[k]}')\n",
    "    return w\n",
    "\n",
    "def test_conv_cicrular(N=100):\n",
    "    x = np.random.rand(N)\n",
    "    h = np.random.rand(5)\n",
    "    \n",
    "    golden = (ifft(fft(x,N) * fft(h,N)))\n",
    "    dut = conv_circular(x,h)\n",
    "    \n",
    "    assert np.allclose(golden, dut), 'Teste falhou'\n",
    "    print('Teste passou')\n",
    "    \n",
    "test_conv_cicrular()"
   ]
  },
  {
   "cell_type": "code",
   "execution_count": 9,
   "id": "eec47aef",
   "metadata": {},
   "outputs": [],
   "source": [
    "def haar_one_stage_analysis(x): \n",
    "    N = len(x)\n",
    "    l_analysis = [0.5, 0.5]\n",
    "    h_analysis = [0.5, -0.5]\n",
    "    \n",
    "    Xl = conv_circular(x,l_analysis)[::2]\n",
    "    Xh = conv_circular(x,h_analysis)[::2]\n",
    "    \n",
    "    X = np.concatenate([Xl, Xh])\n",
    "    return X, Xl, Xh"
   ]
  },
  {
   "cell_type": "code",
   "execution_count": 10,
   "id": "c155d510",
   "metadata": {},
   "outputs": [
    {
     "data": {
      "text/plain": [
       "array([ 2.5,  0. , -1.5,  2. ])"
      ]
     },
     "execution_count": 10,
     "metadata": {},
     "output_type": "execute_result"
    }
   ],
   "source": [
    "X, Xl, Xh = haar_one_stage_analysis(x)\n",
    "X"
   ]
  },
  {
   "cell_type": "code",
   "execution_count": 12,
   "id": "0c964704",
   "metadata": {},
   "outputs": [],
   "source": [
    "def upsample(x): return np.concatenate([np.insert(x, slice(1, None), 0), np.zeros(1)])\n",
    "\n",
    "def haar_one_stage_synthesis(X):\n",
    "    N = len(X)\n",
    "    # transformado em filtro causal \n",
    "    l_synthesis = [1, 1]\n",
    "    h_synthesis = [-1, 1]\n",
    "    \n",
    "    Xl_condensed = X[:N//2]\n",
    "    Xh_condensed = X[N//2:]\n",
    "    Xl = upsample(Xl_condensed)\n",
    "    Xh = upsample(Xh_condensed)\n",
    "    \n",
    "    vl = conv_circular(Xl, l_synthesis)\n",
    "    vh = conv_circular(Xh, h_synthesis)\n",
    "    \n",
    "    x_delayed = vl + vh\n",
    "    x = np.roll(x_delayed, -1)\n",
    "    \n",
    "    return x\n"
   ]
  },
  {
   "cell_type": "code",
   "execution_count": 13,
   "id": "a0890f15",
   "metadata": {},
   "outputs": [
    {
     "data": {
      "text/plain": [
       "array([ 1., -2.,  2.,  4.])"
      ]
     },
     "execution_count": 13,
     "metadata": {},
     "output_type": "execute_result"
    }
   ],
   "source": [
    "haar_one_stage_synthesis(X)"
   ]
  },
  {
   "cell_type": "markdown",
   "id": "14600759",
   "metadata": {},
   "source": [
    "### Ok , tenho o resultado para comparar as contas na mão\n",
    "\n",
    "fazendo agora passo a passo"
   ]
  },
  {
   "cell_type": "code",
   "execution_count": 14,
   "id": "7eec810a",
   "metadata": {},
   "outputs": [
    {
     "data": {
      "text/plain": [
       "array([2.5, 0. , 0. , 0. ])"
      ]
     },
     "execution_count": 14,
     "metadata": {},
     "output_type": "execute_result"
    }
   ],
   "source": [
    "S1_ls = [1, 1]\n",
    "U_Xl = upsample(Xl)\n",
    "U_Xl"
   ]
  },
  {
   "cell_type": "code",
   "execution_count": 31,
   "id": "37e00052",
   "metadata": {},
   "outputs": [
    {
     "name": "stdout",
     "output_type": "stream",
     "text": [
      "w[0] =  h[0] * x[0] (1*2.5=2.5) + h[1] * x[-1] (1*0.0=0.0) = 2.5\n",
      "w[1] =  h[0] * x[1] (1*0.0=0.0) + h[1] * x[0] (1*2.5=2.5) = 2.5\n",
      "w[2] =  h[0] * x[2] (1*0.0=0.0) + h[1] * x[1] (1*0.0=0.0) = 0.0\n",
      "w[3] =  h[0] * x[3] (1*0.0=0.0) + h[1] * x[2] (1*0.0=0.0) = 0.0\n"
     ]
    },
    {
     "data": {
      "text/plain": [
       "array([2.5, 2.5, 0. , 0. ])"
      ]
     },
     "execution_count": 31,
     "metadata": {},
     "output_type": "execute_result"
    }
   ],
   "source": [
    "vl = conv_circular(U_Xl, S1_ls, verbose=True)\n",
    "vl"
   ]
  },
  {
   "cell_type": "code",
   "execution_count": 18,
   "id": "12d707cc",
   "metadata": {},
   "outputs": [
    {
     "data": {
      "text/plain": [
       "array([-1.5,  0. ,  2. ,  0. ])"
      ]
     },
     "execution_count": 18,
     "metadata": {},
     "output_type": "execute_result"
    }
   ],
   "source": [
    "S1_hs = [-1, 1]\n",
    "U_Xh = upsample(Xh)\n",
    "U_Xh"
   ]
  },
  {
   "cell_type": "code",
   "execution_count": 33,
   "id": "b65d5c21",
   "metadata": {},
   "outputs": [
    {
     "name": "stdout",
     "output_type": "stream",
     "text": [
      "w[0] =  h[0] * x[0] (-1*-1.5=1.5) + h[1] * x[-1] (1*0.0=0.0) = 1.5\n",
      "w[1] =  h[0] * x[1] (-1*0.0=-0.0) + h[1] * x[0] (1*-1.5=-1.5) = -1.5\n",
      "w[2] =  h[0] * x[2] (-1*2.0=-2.0) + h[1] * x[1] (1*0.0=0.0) = -2.0\n",
      "w[3] =  h[0] * x[3] (-1*0.0=-0.0) + h[1] * x[2] (1*2.0=2.0) = 2.0\n"
     ]
    },
    {
     "data": {
      "text/plain": [
       "array([ 1.5, -1.5, -2. ,  2. ])"
      ]
     },
     "execution_count": 33,
     "metadata": {},
     "output_type": "execute_result"
    }
   ],
   "source": [
    "vh = conv_circular(U_Xh, S1_hs, verbose=True)\n",
    "vh"
   ]
  },
  {
   "cell_type": "code",
   "execution_count": 21,
   "id": "488de892",
   "metadata": {},
   "outputs": [
    {
     "data": {
      "text/plain": [
       "array([ 4.,  1., -2.,  2.])"
      ]
     },
     "execution_count": 21,
     "metadata": {},
     "output_type": "execute_result"
    }
   ],
   "source": [
    "S1_x = vl + vh\n",
    "S1_x"
   ]
  },
  {
   "cell_type": "code",
   "execution_count": 22,
   "id": "94b8ea15",
   "metadata": {},
   "outputs": [
    {
     "data": {
      "text/plain": [
       "array([ 1., -2.,  2.,  4.])"
      ]
     },
     "execution_count": 22,
     "metadata": {},
     "output_type": "execute_result"
    }
   ],
   "source": [
    "x = np.roll(S1_x, -1)\n",
    "x"
   ]
  },
  {
   "cell_type": "code",
   "execution_count": null,
   "id": "8fd709ab",
   "metadata": {},
   "outputs": [],
   "source": []
  }
 ],
 "metadata": {
  "kernelspec": {
   "display_name": "Python 3 (ipykernel)",
   "language": "python",
   "name": "python3"
  },
  "language_info": {
   "codemirror_mode": {
    "name": "ipython",
    "version": 3
   },
   "file_extension": ".py",
   "mimetype": "text/x-python",
   "name": "python",
   "nbconvert_exporter": "python",
   "pygments_lexer": "ipython3",
   "version": "3.7.16"
  }
 },
 "nbformat": 4,
 "nbformat_minor": 5
}
