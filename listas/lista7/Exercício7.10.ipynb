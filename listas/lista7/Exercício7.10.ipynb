{
 "cells": [
  {
   "cell_type": "code",
   "execution_count": 78,
   "id": "ac33ec53",
   "metadata": {},
   "outputs": [],
   "source": [
    "import numpy as np\n",
    "from scipy.linalg import circulant\n",
    "import sympy"
   ]
  },
  {
   "cell_type": "code",
   "execution_count": 2,
   "id": "b35f8487",
   "metadata": {},
   "outputs": [],
   "source": [
    "l_a = np.array([3/4, 1/4, -1/8, 0, -1/8, 1/4])\n",
    "h_a = np.array([-1/2, 1, -1/2, 0 ,0, 0])\n",
    "l_s = np.array([1, 1/2, 0, 0, 0, 1/2])\n",
    "h_s = np.array([-1/4, -1/8, 0, -1/8, -1/4, 3/4])\n"
   ]
  },
  {
   "cell_type": "code",
   "execution_count": 5,
   "id": "b5932b91",
   "metadata": {},
   "outputs": [
    {
     "name": "stdout",
     "output_type": "stream",
     "text": [
      "l_a+l_s [ 1.75   0.75  -0.125  0.    -0.125  0.75 ]\n",
      "h_a+h_s [-0.75   0.875 -0.5   -0.125 -0.25   0.75 ]\n",
      "l_a+h_a [ 0.25   1.25  -0.625  0.    -0.125  0.25 ]\n",
      "l_s+h_s [ 0.75   0.375  0.    -0.125 -0.25   1.25 ]\n",
      "l_a+h_s [ 0.5    0.125 -0.125 -0.125 -0.375  1.   ]\n",
      "l_s+h_a [ 0.5  1.5 -0.5  0.   0.   0.5]\n"
     ]
    }
   ],
   "source": [
    "print(f'l_a+l_s {l_a+l_s}')\n",
    "print(f'h_a+h_s {h_a+h_s}')\n",
    "print(f'l_a+h_a {l_a+h_a}')\n",
    "print(f'l_s+h_s {l_s+h_s}')\n",
    "print(f'l_a+h_s {l_a+h_s}')\n",
    "print(f'l_s+h_a {l_s+h_a}')"
   ]
  },
  {
   "cell_type": "code",
   "execution_count": 7,
   "id": "5301f2c8",
   "metadata": {},
   "outputs": [
    {
     "name": "stdout",
     "output_type": "stream",
     "text": [
      "sum(l_a) 1.0\n",
      "sum(l_s) 2.0\n",
      "sum(h_a) 0.0\n",
      "sum(h_s) 0.0\n"
     ]
    }
   ],
   "source": [
    "print(f'sum(l_a) {np.sum(l_a)}')\n",
    "print(f'sum(l_s) {np.sum(l_s)}')\n",
    "print(f'sum(h_a) {np.sum(h_a)}')\n",
    "print(f'sum(h_s) {np.sum(h_s)}')\n"
   ]
  },
  {
   "cell_type": "code",
   "execution_count": 8,
   "id": "db22c7df",
   "metadata": {},
   "outputs": [],
   "source": [
    "def conv_circular(x, h, verbose=False):\n",
    "    N = len(x)\n",
    "    M = len(h)\n",
    "    w = np.zeros(N)\n",
    "    for k in range(N):\n",
    "        if verbose: print(f'w[{k}] = ', end=' ')\n",
    "        for m in range(M):\n",
    "            if verbose: print(f'h[{m}] * x[{k-m}] ({h[m]}*{x[k-m]}={h[m] * x[k-m]})', end= '')\n",
    "            if verbose and m+1 < M: print(' + ', end='')\n",
    "            w[k] += h[m] * x[k-m]\n",
    "        if verbose: print(f' = {w[k]}')\n",
    "    return w"
   ]
  },
  {
   "cell_type": "code",
   "execution_count": 11,
   "id": "1e7b2fc5",
   "metadata": {},
   "outputs": [],
   "source": [
    "x = np.array([1, -2, 2, 4, 8, 3])"
   ]
  },
  {
   "cell_type": "code",
   "execution_count": 13,
   "id": "b5776bec",
   "metadata": {},
   "outputs": [
    {
     "data": {
      "text/plain": [
       "array([-0.25 ,  0.875,  7.375, -1.5  , -3.5  , -1.   ])"
      ]
     },
     "execution_count": 13,
     "metadata": {},
     "output_type": "execute_result"
    }
   ],
   "source": [
    "def one_stage_analysis(x, l_analysis, h_analysis): \n",
    "    N = len(x)\n",
    "   \n",
    "    Xl = conv_circular(x,l_analysis)[::2]\n",
    "    Xh = conv_circular(x,h_analysis)[::2]\n",
    "    \n",
    "    X = np.concatenate([Xl, Xh])\n",
    "    return X, Xl, Xh\n",
    "\n",
    "X, Xl, Xh = one_stage_analysis(x, l_a, h_a)\n",
    "X"
   ]
  },
  {
   "cell_type": "code",
   "execution_count": 18,
   "id": "c98bc8d6",
   "metadata": {},
   "outputs": [
    {
     "data": {
      "text/plain": [
       "array([ 1., -2.,  2.,  4.,  8.,  3.])"
      ]
     },
     "execution_count": 18,
     "metadata": {},
     "output_type": "execute_result"
    }
   ],
   "source": []
  },
  {
   "cell_type": "code",
   "execution_count": 26,
   "id": "27d297a7",
   "metadata": {},
   "outputs": [
    {
     "name": "stdout",
     "output_type": "stream",
     "text": [
      "[ 0.75   0.25  -0.125  0.    -0.125  0.25 ]\n",
      "\n",
      "[[ 0.75   0.25  -0.125  0.    -0.125  0.25 ]\n",
      " [ 0.25   0.75   0.25  -0.125  0.    -0.125]\n",
      " [-0.125  0.25   0.75   0.25  -0.125  0.   ]\n",
      " [ 0.    -0.125  0.25   0.75   0.25  -0.125]\n",
      " [-0.125  0.    -0.125  0.25   0.75   0.25 ]\n",
      " [ 0.25  -0.125  0.    -0.125  0.25   0.75 ]]\n",
      "\n",
      "[[ 0.75   0.25  -0.125  0.    -0.125  0.25 ]\n",
      " [-0.125  0.25   0.75   0.25  -0.125  0.   ]\n",
      " [-0.125  0.    -0.125  0.25   0.75   0.25 ]]\n"
     ]
    }
   ],
   "source": [
    "print(l_a)\n",
    "print()\n",
    "print(circulant(l_a))\n",
    "print()\n",
    "print(circulant(l_a)[::2])"
   ]
  },
  {
   "cell_type": "code",
   "execution_count": 76,
   "id": "9736ef4a",
   "metadata": {},
   "outputs": [
    {
     "name": "stdout",
     "output_type": "stream",
     "text": [
      "Teste passou\n",
      "Teste passou\n",
      "Teste passou\n",
      "Teste passou\n"
     ]
    }
   ],
   "source": [
    "def my_circulant(filter_vector):\n",
    "    assert type(filter_vector) == np.ndarray, 'Apenas por sanidade'\n",
    "    N = len(filter_vector)\n",
    "    res = np.zeros((N,N))\n",
    "    for row in range(N):\n",
    "        res[row] = np.roll(filter_vector, row)\n",
    "    return res.T # pensava que que rolava na linhas, mas na verdade rola nas colunas\n",
    " \n",
    "def test_circulant(sample):\n",
    "    golden = circulant(sample)\n",
    "    dut = my_circulant(sample)\n",
    "    \n",
    "    assert np.allclose(golden, dut), 'Teste falhou'\n",
    "    print('Teste passou')\n",
    "\n",
    "test_circulant(l_a)\n",
    "test_circulant(l_s)\n",
    "test_circulant(h_a)\n",
    "test_circulant(h_s)"
   ]
  },
  {
   "cell_type": "code",
   "execution_count": 63,
   "id": "3cf88d23",
   "metadata": {},
   "outputs": [
    {
     "data": {
      "text/plain": [
       "array([[ 0.75 ,  0.25 , -0.125,  0.   , -0.125,  0.25 ],\n",
       "       [-0.125,  0.25 ,  0.75 ,  0.25 , -0.125,  0.   ],\n",
       "       [-0.125,  0.   , -0.125,  0.25 ,  0.75 ,  0.25 ],\n",
       "       [-0.5  ,  0.   ,  0.   ,  0.   , -0.5  ,  1.   ],\n",
       "       [-0.5  ,  1.   , -0.5  ,  0.   ,  0.   ,  0.   ],\n",
       "       [ 0.   ,  0.   , -0.5  ,  1.   , -0.5  ,  0.   ]])"
      ]
     },
     "execution_count": 63,
     "metadata": {},
     "output_type": "execute_result"
    }
   ],
   "source": [
    "def matrizDWT_analysis(l_analysis, h_analysis):\n",
    "    l_analysis_circulant = circulant(l_analysis)\n",
    "    h_analysis_circulant = circulant(h_analysis)\n",
    "\n",
    "    l_analysis_circulant_downsampled = l_analysis_circulant[::2]\n",
    "    h_analysis_circulant_downsampled = h_analysis_circulant[::2]\n",
    "\n",
    "    W = np.concatenate([l_analysis_circulant_downsampled, h_analysis_circulant_downsampled])\n",
    "    return W\n",
    "\n",
    "matrizDWT_analysis(l_a, h_a)"
   ]
  },
  {
   "cell_type": "code",
   "execution_count": 58,
   "id": "b915631c",
   "metadata": {},
   "outputs": [
    {
     "name": "stdout",
     "output_type": "stream",
     "text": [
      "[[ 0.75   0.25  -0.125  0.    -0.125  0.25 ]\n",
      " [ 0.25   0.75   0.25  -0.125  0.    -0.125]\n",
      " [-0.125  0.25   0.75   0.25  -0.125  0.   ]\n",
      " [ 0.    -0.125  0.25   0.75   0.25  -0.125]\n",
      " [-0.125  0.    -0.125  0.25   0.75   0.25 ]\n",
      " [ 0.25  -0.125  0.    -0.125  0.25   0.75 ]]\n",
      "\n",
      "[[ 0.75   0.25  -0.125  0.    -0.125  0.25 ]\n",
      " [ 0.25   0.75   0.25  -0.125  0.    -0.125]\n",
      " [-0.125  0.25   0.75   0.25  -0.125  0.   ]\n",
      " [ 0.    -0.125  0.25   0.75   0.25  -0.125]\n",
      " [-0.125  0.    -0.125  0.25   0.75   0.25 ]\n",
      " [ 0.25  -0.125  0.    -0.125  0.25   0.75 ]]\n",
      "True\n"
     ]
    }
   ],
   "source": [
    "print(circulant(l_a))\n",
    "print()\n",
    "print(my_circulant(l_a))\n",
    "print(np.allclose(circulant(l_a),my_circulant(l_a)))"
   ]
  },
  {
   "cell_type": "code",
   "execution_count": 65,
   "id": "0df12efe",
   "metadata": {},
   "outputs": [
    {
     "data": {
      "text/plain": [
       "array([[ 0.75 ,  0.25 , -0.125,  0.   , -0.125,  0.25 ],\n",
       "       [-0.125,  0.25 ,  0.75 ,  0.25 , -0.125,  0.   ],\n",
       "       [-0.125,  0.   , -0.125,  0.25 ,  0.75 ,  0.25 ],\n",
       "       [-0.5  ,  0.   ,  0.   ,  0.   , -0.5  ,  1.   ],\n",
       "       [-0.5  ,  1.   , -0.5  ,  0.   ,  0.   ,  0.   ],\n",
       "       [ 0.   ,  0.   , -0.5  ,  1.   , -0.5  ,  0.   ]])"
      ]
     },
     "execution_count": 65,
     "metadata": {},
     "output_type": "execute_result"
    }
   ],
   "source": [
    "def matrizDWT_synthesis(l_synthesis, h_synthesis):\n",
    "    l_synthesis_circulant = circulant(l_synthesis)\n",
    "    h_synthesis_circulant = circulant(h_synthesis)\n",
    "\n",
    "    l_analysis_circulant_upnsampled = l_synthesis_circulant[::2]\n",
    "    h_analysis_circulant_upsampled = h_synthesis_circulant[::2]\n",
    "\n",
    "    W = np.concatenate([l_analysis_circulant_upnsampled, h_analysis_circulant_upsampled], axis=1)\n",
    "    return W\n",
    "\n",
    "matrizDWT_analysis(l_a, h_a)"
   ]
  },
  {
   "cell_type": "code",
   "execution_count": 67,
   "id": "085f92d0",
   "metadata": {},
   "outputs": [
    {
     "data": {
      "text/plain": [
       "array([[ 1.  ,  0.  ,  0.  , -0.25, -0.25,  0.  ],\n",
       "       [ 0.5 ,  0.5 ,  0.  , -0.12,  0.75, -0.12],\n",
       "       [ 0.  ,  1.  ,  0.  ,  0.  , -0.25, -0.25],\n",
       "       [ 0.  ,  0.5 ,  0.5 , -0.12, -0.12,  0.75],\n",
       "       [ 0.  ,  0.  ,  1.  , -0.25, -0.  , -0.25],\n",
       "       [ 0.5 ,  0.  ,  0.5 ,  0.75, -0.12, -0.13]])"
      ]
     },
     "execution_count": 67,
     "metadata": {},
     "output_type": "execute_result"
    }
   ],
   "source": [
    "np.round(np.linalg.inv(matrizDWT_analysis(l_a, h_a)),2)"
   ]
  },
  {
   "cell_type": "code",
   "execution_count": 85,
   "id": "bd4fc84e",
   "metadata": {},
   "outputs": [
    {
     "data": {
      "text/latex": [
       "$\\displaystyle \\left[\\begin{matrix}0.707106781186548 & 0.0 & 0.0 & 0.707106781186548\\\\0.0 & 0.707106781186548 & 0.707106781186548 & 0.0\\end{matrix}\\right]$"
      ],
      "text/plain": [
       "Matrix([\n",
       "[0.707106781186548,               0.0,               0.0, 0.707106781186548],\n",
       "[              0.0, 0.707106781186548, 0.707106781186548,               0.0]])"
      ]
     },
     "execution_count": 85,
     "metadata": {},
     "output_type": "execute_result"
    }
   ],
   "source": [
    "sympy.Matrix(my_circulant(np.array([np.sqrt(2)/2, np.sqrt(2)/2,0 ,0]))[::2])"
   ]
  },
  {
   "cell_type": "code",
   "execution_count": 86,
   "id": "78169e73",
   "metadata": {},
   "outputs": [
    {
     "data": {
      "text/latex": [
       "$\\displaystyle \\left[\\begin{matrix}0.707106781186548 & 0.0 & 0.0 & -0.707106781186548\\\\0.0 & -0.707106781186548 & 0.707106781186548 & 0.0\\end{matrix}\\right]$"
      ],
      "text/plain": [
       "Matrix([\n",
       "[0.707106781186548,                0.0,               0.0, -0.707106781186548],\n",
       "[              0.0, -0.707106781186548, 0.707106781186548,                0.0]])"
      ]
     },
     "execution_count": 86,
     "metadata": {},
     "output_type": "execute_result"
    }
   ],
   "source": [
    "sympy.Matrix(my_circulant(np.array([np.sqrt(2)/2, -np.sqrt(2)/2,0 ,0]))[::2])"
   ]
  },
  {
   "cell_type": "code",
   "execution_count": 87,
   "id": "aa1c3eba",
   "metadata": {},
   "outputs": [
    {
     "data": {
      "text/latex": [
       "$\\displaystyle \\left[\\begin{matrix}0.707106781186548 & 0.707106781186548\\end{matrix}\\right]$"
      ],
      "text/plain": [
       "Matrix([[0.707106781186548, 0.707106781186548]])"
      ]
     },
     "execution_count": 87,
     "metadata": {},
     "output_type": "execute_result"
    }
   ],
   "source": []
  },
  {
   "cell_type": "code",
   "execution_count": 135,
   "id": "84aea87a",
   "metadata": {},
   "outputs": [],
   "source": [
    "def matrix_downsample(circulant_matrix):\n",
    "    M, N = circulant_matrix.shape\n",
    "    assert M==N, 'Matriz circulant deve ser quadrada'\n",
    "    assert M%2==0,  'Dimensões devem ser múltiplo de 2'\n",
    "    \n",
    "    matrix = np.zeros((M//2,N), dtype='int')\n",
    "    for i in range (M//2):\n",
    "        for j in range(N):\n",
    "            if j == 2*i:\n",
    "                matrix[i][j] = 1\n",
    "                \n",
    "    return matrix\n",
    "\n",
    "c_tmp = circulant(np.array([np.sqrt(2)/2, np.sqrt(2)/2,0 ,0]))\n",
    "d_tmp = matrix_downsample(c_tmp)\n",
    "Xl_tmp = np.dot(d_tmp, c_tmp)"
   ]
  },
  {
   "cell_type": "code",
   "execution_count": 112,
   "id": "f937e769",
   "metadata": {},
   "outputs": [
    {
     "data": {
      "text/plain": [
       "array([[0.70710678, 0.        ],\n",
       "       [0.        , 0.70710678]])"
      ]
     },
     "execution_count": 112,
     "metadata": {},
     "output_type": "execute_result"
    }
   ],
   "source": [
    "def matrix_upsample(downsampled_signal):\n",
    "    M, N = downsampled_signal.shape\n",
    "    assert M==N//2, 'Signal que foi downsampled'\n",
    "    assert M%2==0,  'Dimensões devem ser múltiplo de 2'    \n",
    "    \n",
    "    matrix = np.zeros((M,N))\n",
    "    for i in range (M):\n",
    "        for j in range(N):\n",
    "            if 2*j == i:\n",
    "                matrix[i][j] = 1    \n",
    "    \n",
    "    print(matrix)\n",
    "    return matrix\n",
    "\n",
    "u_tmp = matrix_downsample(c_tmp).T\n",
    "np.dot(Xl_tmp, u_tmp)"
   ]
  },
  {
   "cell_type": "code",
   "execution_count": 114,
   "id": "5aea158d",
   "metadata": {},
   "outputs": [
    {
     "data": {
      "text/plain": [
       "(2, 4)"
      ]
     },
     "execution_count": 114,
     "metadata": {},
     "output_type": "execute_result"
    }
   ],
   "source": [
    "Xl_tmp.shape"
   ]
  },
  {
   "cell_type": "code",
   "execution_count": 115,
   "id": "ca26f1ed",
   "metadata": {},
   "outputs": [
    {
     "data": {
      "text/plain": [
       "array([ 0.75 ,  0.25 , -0.125,  0.   , -0.125,  0.25 ])"
      ]
     },
     "execution_count": 115,
     "metadata": {},
     "output_type": "execute_result"
    }
   ],
   "source": [
    "l_a"
   ]
  },
  {
   "cell_type": "code",
   "execution_count": 141,
   "id": "36b7650a",
   "metadata": {},
   "outputs": [
    {
     "data": {
      "text/latex": [
       "$\\displaystyle \\left[\\begin{matrix}\\frac{3}{4} & \\frac{1}{4} & - \\frac{1}{8} & 0 & - \\frac{1}{8} & \\frac{1}{4}\\\\\\frac{1}{4} & \\frac{3}{4} & \\frac{1}{4} & - \\frac{1}{8} & 0 & - \\frac{1}{8}\\\\- \\frac{1}{8} & \\frac{1}{4} & \\frac{3}{4} & \\frac{1}{4} & - \\frac{1}{8} & 0\\\\0 & - \\frac{1}{8} & \\frac{1}{4} & \\frac{3}{4} & \\frac{1}{4} & - \\frac{1}{8}\\\\- \\frac{1}{8} & 0 & - \\frac{1}{8} & \\frac{1}{4} & \\frac{3}{4} & \\frac{1}{4}\\\\\\frac{1}{4} & - \\frac{1}{8} & 0 & - \\frac{1}{8} & \\frac{1}{4} & \\frac{3}{4}\\end{matrix}\\right]$"
      ],
      "text/plain": [
       "Matrix([\n",
       "[ 3/4,  1/4, -1/8,    0, -1/8,  1/4],\n",
       "[ 1/4,  3/4,  1/4, -1/8,    0, -1/8],\n",
       "[-1/8,  1/4,  3/4,  1/4, -1/8,    0],\n",
       "[   0, -1/8,  1/4,  3/4,  1/4, -1/8],\n",
       "[-1/8,    0, -1/8,  1/4,  3/4,  1/4],\n",
       "[ 1/4, -1/8,    0, -1/8,  1/4,  3/4]])"
      ]
     },
     "execution_count": 141,
     "metadata": {},
     "output_type": "execute_result"
    }
   ],
   "source": [
    "from sympy import Matrix, Rational\n",
    "l_a_s = Matrix([\n",
    "    [Rational(3,4), Rational(1/4), -Rational(1/8), 0, -Rational(1/8), Rational(1,4)],\n",
    "    [Rational(1,4), Rational(3,4), Rational(1/4), -Rational(1/8), 0, -Rational(1/8)],\n",
    "    [-Rational(1/8), Rational(1,4), Rational(3,4), Rational(1/4), -Rational(1/8), 0],\n",
    "    [0, -Rational(1/8), Rational(1,4), Rational(3,4), Rational(1/4), -Rational(1/8)],\n",
    "    [-Rational(1/8), 0, -Rational(1/8), Rational(1,4), Rational(3,4), Rational(1/4)],\n",
    "    [Rational(1/4), -Rational(1/8), 0, -Rational(1/8), Rational(1,4), Rational(3,4)]\n",
    "\n",
    "]).T\n",
    "l_a_s"
   ]
  },
  {
   "cell_type": "code",
   "execution_count": 125,
   "id": "2c42eee8",
   "metadata": {},
   "outputs": [
    {
     "data": {
      "text/plain": [
       "array([[ 0.75 ,  0.25 , -0.125,  0.   , -0.125,  0.25 ],\n",
       "       [ 0.25 ,  0.75 ,  0.25 , -0.125,  0.   , -0.125],\n",
       "       [-0.125,  0.25 ,  0.75 ,  0.25 , -0.125,  0.   ],\n",
       "       [ 0.   , -0.125,  0.25 ,  0.75 ,  0.25 , -0.125],\n",
       "       [-0.125,  0.   , -0.125,  0.25 ,  0.75 ,  0.25 ],\n",
       "       [ 0.25 , -0.125,  0.   , -0.125,  0.25 ,  0.75 ]])"
      ]
     },
     "execution_count": 125,
     "metadata": {},
     "output_type": "execute_result"
    }
   ],
   "source": [
    "circulant(l_a)"
   ]
  },
  {
   "cell_type": "code",
   "execution_count": 136,
   "id": "19ca8804",
   "metadata": {},
   "outputs": [
    {
     "data": {
      "text/plain": [
       "array([[1, 0, 0, 0, 0, 0],\n",
       "       [0, 0, 1, 0, 0, 0],\n",
       "       [0, 0, 0, 0, 1, 0]])"
      ]
     },
     "execution_count": 136,
     "metadata": {},
     "output_type": "execute_result"
    }
   ],
   "source": [
    "d_tmp = matrix_downsample(circulant(l_a))\n",
    "d_tmp"
   ]
  },
  {
   "cell_type": "code",
   "execution_count": 137,
   "id": "42bf780e",
   "metadata": {},
   "outputs": [
    {
     "data": {
      "text/latex": [
       "$\\displaystyle \\left[\\begin{matrix}1 & 0 & 0 & 0 & 0 & 0\\\\0 & 0 & 1 & 0 & 0 & 0\\\\0 & 0 & 0 & 0 & 1 & 0\\end{matrix}\\right]$"
      ],
      "text/plain": [
       "Matrix([\n",
       "[1, 0, 0, 0, 0, 0],\n",
       "[0, 0, 1, 0, 0, 0],\n",
       "[0, 0, 0, 0, 1, 0]])"
      ]
     },
     "execution_count": 137,
     "metadata": {},
     "output_type": "execute_result"
    }
   ],
   "source": [
    "d_sym = Matrix(d_tmp)\n",
    "d_sym\n"
   ]
  },
  {
   "cell_type": "code",
   "execution_count": 138,
   "id": "d2370e7e",
   "metadata": {},
   "outputs": [
    {
     "data": {
      "text/latex": [
       "$\\displaystyle \\left[\\begin{matrix}\\frac{3}{4} & \\frac{1}{4} & - \\frac{1}{8} & 0 & - \\frac{1}{8} & \\frac{1}{4}\\\\- \\frac{1}{8} & \\frac{1}{4} & \\frac{3}{4} & \\frac{1}{4} & - \\frac{1}{8} & 0\\\\- \\frac{1}{8} & 0 & - \\frac{1}{8} & \\frac{1}{4} & \\frac{3}{4} & \\frac{1}{4}\\end{matrix}\\right]$"
      ],
      "text/plain": [
       "Matrix([\n",
       "[ 3/4, 1/4, -1/8,   0, -1/8, 1/4],\n",
       "[-1/8, 1/4,  3/4, 1/4, -1/8,   0],\n",
       "[-1/8,   0, -1/8, 1/4,  3/4, 1/4]])"
      ]
     },
     "execution_count": 138,
     "metadata": {},
     "output_type": "execute_result"
    }
   ],
   "source": [
    "d_sym * l_a_s"
   ]
  },
  {
   "cell_type": "code",
   "execution_count": 139,
   "id": "c34816a0",
   "metadata": {},
   "outputs": [
    {
     "data": {
      "text/plain": [
       "array([[-0.5,  0. ,  0. ,  0. , -0.5,  1. ],\n",
       "       [ 1. , -0.5,  0. ,  0. ,  0. , -0.5],\n",
       "       [-0.5,  1. , -0.5,  0. ,  0. ,  0. ],\n",
       "       [ 0. , -0.5,  1. , -0.5,  0. ,  0. ],\n",
       "       [ 0. ,  0. , -0.5,  1. , -0.5,  0. ],\n",
       "       [ 0. ,  0. ,  0. , -0.5,  1. , -0.5]])"
      ]
     },
     "execution_count": 139,
     "metadata": {},
     "output_type": "execute_result"
    }
   ],
   "source": [
    "circulant(h_a)"
   ]
  },
  {
   "cell_type": "code",
   "execution_count": 143,
   "id": "b86bdc92",
   "metadata": {},
   "outputs": [
    {
     "data": {
      "text/latex": [
       "$\\displaystyle \\left[\\begin{matrix}- \\frac{1}{2} & 0 & 0 & 0 & - \\frac{1}{2} & 1\\\\1 & - \\frac{1}{2} & 0 & 0 & 0 & - \\frac{1}{2}\\\\- \\frac{1}{2} & 1 & - \\frac{1}{2} & 0 & 0 & 0\\\\0 & - \\frac{1}{2} & 1 & - \\frac{1}{2} & 0 & 0\\\\0 & 0 & - \\frac{1}{2} & 1 & - \\frac{1}{2} & 0\\\\0 & 0 & 0 & - \\frac{1}{2} & 1 & - \\frac{1}{2}\\end{matrix}\\right]$"
      ],
      "text/plain": [
       "Matrix([\n",
       "[-1/2,    0,    0,    0, -1/2,    1],\n",
       "[   1, -1/2,    0,    0,    0, -1/2],\n",
       "[-1/2,    1, -1/2,    0,    0,    0],\n",
       "[   0, -1/2,    1, -1/2,    0,    0],\n",
       "[   0,    0, -1/2,    1, -1/2,    0],\n",
       "[   0,    0,    0, -1/2,    1, -1/2]])"
      ]
     },
     "execution_count": 143,
     "metadata": {},
     "output_type": "execute_result"
    }
   ],
   "source": [
    "h_a_s = Matrix([\n",
    "    [-Rational(1,2), 1, -Rational(1,2), 0, 0, 0],\n",
    "    [0,-Rational(1,2), 1, -Rational(1,2), 0, 0],\n",
    "    [0,0,-Rational(1,2), 1, -Rational(1,2), 0],\n",
    "    [0,0,0,-Rational(1,2), 1, -Rational(1,2)],\n",
    "    [-Rational(1,2),0,0,0,-Rational(1,2), 1],\n",
    "    [1,-Rational(1,2),0,0,0,-Rational(1,2)],\n",
    "]).T\n",
    "h_a_s"
   ]
  },
  {
   "cell_type": "code",
   "execution_count": 144,
   "id": "5ac080dd",
   "metadata": {},
   "outputs": [
    {
     "data": {
      "text/latex": [
       "$\\displaystyle \\left[\\begin{matrix}- \\frac{1}{2} & 0 & 0 & 0 & - \\frac{1}{2} & 1\\\\- \\frac{1}{2} & 1 & - \\frac{1}{2} & 0 & 0 & 0\\\\0 & 0 & - \\frac{1}{2} & 1 & - \\frac{1}{2} & 0\\end{matrix}\\right]$"
      ],
      "text/plain": [
       "Matrix([\n",
       "[-1/2, 0,    0, 0, -1/2, 1],\n",
       "[-1/2, 1, -1/2, 0,    0, 0],\n",
       "[   0, 0, -1/2, 1, -1/2, 0]])"
      ]
     },
     "execution_count": 144,
     "metadata": {},
     "output_type": "execute_result"
    }
   ],
   "source": [
    "d_sym * h_a_s"
   ]
  },
  {
   "cell_type": "code",
   "execution_count": 145,
   "id": "3fbf25fc",
   "metadata": {},
   "outputs": [
    {
     "data": {
      "text/plain": [
       "array([[ 0.75 ,  0.25 , -0.125,  0.   , -0.125,  0.25 ],\n",
       "       [-0.125,  0.25 ,  0.75 ,  0.25 , -0.125,  0.   ],\n",
       "       [-0.125,  0.   , -0.125,  0.25 ,  0.75 ,  0.25 ],\n",
       "       [-0.5  ,  0.   ,  0.   ,  0.   , -0.5  ,  1.   ],\n",
       "       [-0.5  ,  1.   , -0.5  ,  0.   ,  0.   ,  0.   ],\n",
       "       [ 0.   ,  0.   , -0.5  ,  1.   , -0.5  ,  0.   ]])"
      ]
     },
     "execution_count": 145,
     "metadata": {},
     "output_type": "execute_result"
    }
   ],
   "source": [
    "matrizDWT_analysis(l_a, h_a)"
   ]
  },
  {
   "cell_type": "code",
   "execution_count": 150,
   "id": "7de3ed2c",
   "metadata": {},
   "outputs": [
    {
     "data": {
      "text/latex": [
       "$\\displaystyle \\left[\\begin{matrix}\\frac{3}{4} & \\frac{1}{4} & - \\frac{1}{8} & 0 & - \\frac{1}{8} & \\frac{1}{4}\\\\- \\frac{1}{8} & \\frac{1}{4} & \\frac{3}{4} & \\frac{1}{4} & - \\frac{1}{8} & 0\\\\- \\frac{1}{8} & 0 & - \\frac{1}{8} & \\frac{1}{4} & \\frac{3}{4} & \\frac{1}{4}\\\\- \\frac{1}{2} & 0 & 0 & 0 & - \\frac{1}{2} & 1\\\\- \\frac{1}{2} & 1 & - \\frac{1}{2} & 0 & 0 & 0\\\\0 & 0 & - \\frac{1}{2} & 1 & - \\frac{1}{2} & 0\\end{matrix}\\right]$"
      ],
      "text/plain": [
       "Matrix([\n",
       "[ 3/4, 1/4, -1/8,   0, -1/8, 1/4],\n",
       "[-1/8, 1/4,  3/4, 1/4, -1/8,   0],\n",
       "[-1/8,   0, -1/8, 1/4,  3/4, 1/4],\n",
       "[-1/2,   0,    0,   0, -1/2,   1],\n",
       "[-1/2,   1, -1/2,   0,    0,   0],\n",
       "[   0,   0, -1/2,   1, -1/2,   0]])"
      ]
     },
     "execution_count": 150,
     "metadata": {},
     "output_type": "execute_result"
    }
   ],
   "source": [
    "Wa_6_sym = Matrix([\n",
    "    [d_sym * l_a_s], \n",
    "    [d_sym * h_a_s]\n",
    "])\n",
    "Wa_6_sym"
   ]
  },
  {
   "cell_type": "code",
   "execution_count": 151,
   "id": "2aa405ce",
   "metadata": {},
   "outputs": [
    {
     "data": {
      "text/latex": [
       "$\\displaystyle \\left[\\begin{matrix}1 & 0 & 0\\\\0 & 0 & 0\\\\0 & 1 & 0\\\\0 & 0 & 0\\\\0 & 0 & 1\\\\0 & 0 & 0\\end{matrix}\\right]$"
      ],
      "text/plain": [
       "Matrix([\n",
       "[1, 0, 0],\n",
       "[0, 0, 0],\n",
       "[0, 1, 0],\n",
       "[0, 0, 0],\n",
       "[0, 0, 1],\n",
       "[0, 0, 0]])"
      ]
     },
     "execution_count": 151,
     "metadata": {},
     "output_type": "execute_result"
    }
   ],
   "source": [
    "U = d_sym.T\n",
    "U"
   ]
  },
  {
   "cell_type": "code",
   "execution_count": 154,
   "id": "10efbadf",
   "metadata": {},
   "outputs": [
    {
     "data": {
      "text/plain": [
       "array([[1. , 0.5, 0. , 0. , 0. , 0.5],\n",
       "       [0.5, 1. , 0.5, 0. , 0. , 0. ],\n",
       "       [0. , 0.5, 1. , 0.5, 0. , 0. ],\n",
       "       [0. , 0. , 0.5, 1. , 0.5, 0. ],\n",
       "       [0. , 0. , 0. , 0.5, 1. , 0.5],\n",
       "       [0.5, 0. , 0. , 0. , 0.5, 1. ]])"
      ]
     },
     "execution_count": 154,
     "metadata": {},
     "output_type": "execute_result"
    }
   ],
   "source": [
    "circulant(l_s)"
   ]
  },
  {
   "cell_type": "code",
   "execution_count": 156,
   "id": "e482bc98",
   "metadata": {},
   "outputs": [
    {
     "data": {
      "text/latex": [
       "$\\displaystyle \\left[\\begin{matrix}1 & \\frac{1}{2} & 0 & 0 & 0 & \\frac{1}{2}\\\\\\frac{1}{2} & 1 & \\frac{1}{2} & 0 & 0 & 0\\\\0 & \\frac{1}{2} & 1 & \\frac{1}{2} & 0 & 0\\\\0 & 0 & \\frac{1}{2} & 1 & \\frac{1}{2} & 0\\\\0 & 0 & 0 & \\frac{1}{2} & 1 & \\frac{1}{2}\\\\\\frac{1}{2} & 0 & 0 & 0 & \\frac{1}{2} & 1\\end{matrix}\\right]$"
      ],
      "text/plain": [
       "Matrix([\n",
       "[  1, 1/2,   0,   0,   0, 1/2],\n",
       "[1/2,   1, 1/2,   0,   0,   0],\n",
       "[  0, 1/2,   1, 1/2,   0,   0],\n",
       "[  0,   0, 1/2,   1, 1/2,   0],\n",
       "[  0,   0,   0, 1/2,   1, 1/2],\n",
       "[1/2,   0,   0,   0, 1/2,   1]])"
      ]
     },
     "execution_count": 156,
     "metadata": {},
     "output_type": "execute_result"
    }
   ],
   "source": [
    "l_s_s = Matrix([\n",
    "    [1, Rational(1,2),0,0,0,Rational(1/2)],\n",
    "    [Rational(1/2),1, Rational(1,2),0,0,0],\n",
    "    [0,Rational(1/2),1, Rational(1,2),0,0],\n",
    "    [0,0,Rational(1/2),1, Rational(1,2),0],\n",
    "    [0,0,0,Rational(1/2),1, Rational(1,2)],\n",
    "    [Rational(1,2),0,0,0,Rational(1/2),1],\n",
    "]).T\n",
    "l_s_s"
   ]
  },
  {
   "cell_type": "code",
   "execution_count": 157,
   "id": "a9d58dc6",
   "metadata": {},
   "outputs": [
    {
     "data": {
      "text/plain": [
       "array([[-0.25 ,  0.75 , -0.25 , -0.125,  0.   , -0.125],\n",
       "       [-0.125, -0.25 ,  0.75 , -0.25 , -0.125,  0.   ],\n",
       "       [ 0.   , -0.125, -0.25 ,  0.75 , -0.25 , -0.125],\n",
       "       [-0.125,  0.   , -0.125, -0.25 ,  0.75 , -0.25 ],\n",
       "       [-0.25 , -0.125,  0.   , -0.125, -0.25 ,  0.75 ],\n",
       "       [ 0.75 , -0.25 , -0.125,  0.   , -0.125, -0.25 ]])"
      ]
     },
     "execution_count": 157,
     "metadata": {},
     "output_type": "execute_result"
    }
   ],
   "source": [
    "circulant(h_s)"
   ]
  },
  {
   "cell_type": "code",
   "execution_count": 159,
   "id": "7b6612a4",
   "metadata": {},
   "outputs": [
    {
     "data": {
      "text/latex": [
       "$\\displaystyle \\left[\\begin{matrix}- \\frac{1}{4} & \\frac{3}{4} & - \\frac{1}{4} & - \\frac{1}{8} & 0 & - \\frac{1}{8}\\\\- \\frac{1}{8} & - \\frac{1}{4} & \\frac{3}{4} & - \\frac{1}{4} & - \\frac{1}{8} & 0\\\\0 & - \\frac{1}{8} & - \\frac{1}{4} & \\frac{3}{4} & - \\frac{1}{4} & - \\frac{1}{8}\\\\- \\frac{1}{8} & 0 & - \\frac{1}{8} & - \\frac{1}{4} & \\frac{3}{4} & - \\frac{1}{4}\\\\- \\frac{1}{4} & - \\frac{1}{8} & 0 & - \\frac{1}{8} & - \\frac{1}{4} & \\frac{3}{4}\\\\\\frac{3}{4} & - \\frac{1}{4} & - \\frac{1}{8} & 0 & - \\frac{1}{8} & - \\frac{1}{4}\\end{matrix}\\right]$"
      ],
      "text/plain": [
       "Matrix([\n",
       "[-1/4,  3/4, -1/4, -1/8,    0, -1/8],\n",
       "[-1/8, -1/4,  3/4, -1/4, -1/8,    0],\n",
       "[   0, -1/8, -1/4,  3/4, -1/4, -1/8],\n",
       "[-1/8,    0, -1/8, -1/4,  3/4, -1/4],\n",
       "[-1/4, -1/8,    0, -1/8, -1/4,  3/4],\n",
       "[ 3/4, -1/4, -1/8,    0, -1/8, -1/4]])"
      ]
     },
     "execution_count": 159,
     "metadata": {},
     "output_type": "execute_result"
    }
   ],
   "source": [
    "h_s_s = Matrix([\n",
    "    [-Rational(1,4),-Rational(1,8),0,-Rational(1,8),-Rational(1,4),Rational(3,4)],\n",
    "    [Rational(3,4),-Rational(1,4),-Rational(1,8),0,-Rational(1,8),-Rational(1,4)],\n",
    "    [-Rational(1,4),Rational(3,4),-Rational(1,4),-Rational(1,8),0,-Rational(1,8)],\n",
    "    [-Rational(1,8),-Rational(1,4),Rational(3,4),-Rational(1,4),-Rational(1,8),0],\n",
    "    [0,-Rational(1,8),-Rational(1,4),Rational(3,4),-Rational(1,4),-Rational(1,8)],\n",
    "    [-Rational(1,8),0,-Rational(1,8),-Rational(1,4),Rational(3,4),-Rational(1,4)],\n",
    "]).T\n",
    "h_s_s"
   ]
  },
  {
   "cell_type": "code",
   "execution_count": 161,
   "id": "0a4ad45b",
   "metadata": {},
   "outputs": [
    {
     "data": {
      "text/latex": [
       "$\\displaystyle \\left[\\begin{matrix}1 & 0 & 0\\\\\\frac{1}{2} & \\frac{1}{2} & 0\\\\0 & 1 & 0\\\\0 & \\frac{1}{2} & \\frac{1}{2}\\\\0 & 0 & 1\\\\\\frac{1}{2} & 0 & \\frac{1}{2}\\end{matrix}\\right]$"
      ],
      "text/plain": [
       "Matrix([\n",
       "[  1,   0,   0],\n",
       "[1/2, 1/2,   0],\n",
       "[  0,   1,   0],\n",
       "[  0, 1/2, 1/2],\n",
       "[  0,   0,   1],\n",
       "[1/2,   0, 1/2]])"
      ]
     },
     "execution_count": 161,
     "metadata": {},
     "output_type": "execute_result"
    }
   ],
   "source": [
    "l_s_s*U"
   ]
  },
  {
   "cell_type": "code",
   "execution_count": 162,
   "id": "bb6f60a6",
   "metadata": {},
   "outputs": [
    {
     "data": {
      "text/latex": [
       "$\\displaystyle \\left[\\begin{matrix}- \\frac{1}{4} & - \\frac{1}{4} & 0\\\\- \\frac{1}{8} & \\frac{3}{4} & - \\frac{1}{8}\\\\0 & - \\frac{1}{4} & - \\frac{1}{4}\\\\- \\frac{1}{8} & - \\frac{1}{8} & \\frac{3}{4}\\\\- \\frac{1}{4} & 0 & - \\frac{1}{4}\\\\\\frac{3}{4} & - \\frac{1}{8} & - \\frac{1}{8}\\end{matrix}\\right]$"
      ],
      "text/plain": [
       "Matrix([\n",
       "[-1/4, -1/4,    0],\n",
       "[-1/8,  3/4, -1/8],\n",
       "[   0, -1/4, -1/4],\n",
       "[-1/8, -1/8,  3/4],\n",
       "[-1/4,    0, -1/4],\n",
       "[ 3/4, -1/8, -1/8]])"
      ]
     },
     "execution_count": 162,
     "metadata": {},
     "output_type": "execute_result"
    }
   ],
   "source": [
    "h_s_s*U"
   ]
  },
  {
   "cell_type": "code",
   "execution_count": 166,
   "id": "139fe1a4",
   "metadata": {},
   "outputs": [
    {
     "data": {
      "text/latex": [
       "$\\displaystyle \\left[\\begin{matrix}1 & 0 & 0 & - \\frac{1}{4} & - \\frac{1}{4} & 0\\\\\\frac{1}{2} & \\frac{1}{2} & 0 & - \\frac{1}{8} & \\frac{3}{4} & - \\frac{1}{8}\\\\0 & 1 & 0 & 0 & - \\frac{1}{4} & - \\frac{1}{4}\\\\0 & \\frac{1}{2} & \\frac{1}{2} & - \\frac{1}{8} & - \\frac{1}{8} & \\frac{3}{4}\\\\0 & 0 & 1 & - \\frac{1}{4} & 0 & - \\frac{1}{4}\\\\\\frac{1}{2} & 0 & \\frac{1}{2} & \\frac{3}{4} & - \\frac{1}{8} & - \\frac{1}{8}\\end{matrix}\\right]$"
      ],
      "text/plain": [
       "Matrix([\n",
       "[  1,   0,   0, -1/4, -1/4,    0],\n",
       "[1/2, 1/2,   0, -1/8,  3/4, -1/8],\n",
       "[  0,   1,   0,    0, -1/4, -1/4],\n",
       "[  0, 1/2, 1/2, -1/8, -1/8,  3/4],\n",
       "[  0,   0,   1, -1/4,    0, -1/4],\n",
       "[1/2,   0, 1/2,  3/4, -1/8, -1/8]])"
      ]
     },
     "execution_count": 166,
     "metadata": {},
     "output_type": "execute_result"
    }
   ],
   "source": [
    "Ws_sym = (l_s_s*U).row_join(h_s_s*U)\n",
    "Ws_sym"
   ]
  },
  {
   "cell_type": "code",
   "execution_count": 168,
   "id": "393eeb40",
   "metadata": {},
   "outputs": [
    {
     "data": {
      "text/latex": [
       "$\\displaystyle \\left[\\begin{matrix}1 & 0 & 0 & 0 & 0 & 0\\\\0 & 1 & 0 & 0 & 0 & 0\\\\0 & 0 & 1 & 0 & 0 & 0\\\\0 & 0 & 0 & 1 & 0 & 0\\\\0 & 0 & 0 & 0 & 1 & 0\\\\0 & 0 & 0 & 0 & 0 & 1\\end{matrix}\\right]$"
      ],
      "text/plain": [
       "Matrix([\n",
       "[1, 0, 0, 0, 0, 0],\n",
       "[0, 1, 0, 0, 0, 0],\n",
       "[0, 0, 1, 0, 0, 0],\n",
       "[0, 0, 0, 1, 0, 0],\n",
       "[0, 0, 0, 0, 1, 0],\n",
       "[0, 0, 0, 0, 0, 1]])"
      ]
     },
     "execution_count": 168,
     "metadata": {},
     "output_type": "execute_result"
    }
   ],
   "source": [
    "Wa_6_sym*Ws_sym"
   ]
  },
  {
   "cell_type": "code",
   "execution_count": 170,
   "id": "a3b0c1c4",
   "metadata": {},
   "outputs": [
    {
     "data": {
      "text/latex": [
       "$\\displaystyle \\left[\\begin{matrix}\\frac{3}{4} & \\frac{1}{4} & - \\frac{1}{8} & 0 & - \\frac{1}{8} & \\frac{1}{4}\\\\- \\frac{1}{8} & \\frac{1}{4} & \\frac{3}{4} & \\frac{1}{4} & - \\frac{1}{8} & 0\\\\- \\frac{1}{8} & 0 & - \\frac{1}{8} & \\frac{1}{4} & \\frac{3}{4} & \\frac{1}{4}\\\\- \\frac{1}{2} & 0 & 0 & 0 & - \\frac{1}{2} & 1\\\\- \\frac{1}{2} & 1 & - \\frac{1}{2} & 0 & 0 & 0\\\\0 & 0 & - \\frac{1}{2} & 1 & - \\frac{1}{2} & 0\\end{matrix}\\right]$"
      ],
      "text/plain": [
       "Matrix([\n",
       "[ 3/4, 1/4, -1/8,   0, -1/8, 1/4],\n",
       "[-1/8, 1/4,  3/4, 1/4, -1/8,   0],\n",
       "[-1/8,   0, -1/8, 1/4,  3/4, 1/4],\n",
       "[-1/2,   0,    0,   0, -1/2,   1],\n",
       "[-1/2,   1, -1/2,   0,    0,   0],\n",
       "[   0,   0, -1/2,   1, -1/2,   0]])"
      ]
     },
     "execution_count": 170,
     "metadata": {},
     "output_type": "execute_result"
    }
   ],
   "source": [
    "Wa_6_sym"
   ]
  },
  {
   "cell_type": "code",
   "execution_count": 176,
   "id": "cde485bf",
   "metadata": {},
   "outputs": [
    {
     "data": {
      "text/latex": [
       "$\\displaystyle \\left[\\begin{matrix}1 & 0 & 0 & - \\frac{1}{4} & - \\frac{1}{4} & 0\\\\\\frac{1}{2} & \\frac{1}{2} & 0 & - \\frac{1}{8} & \\frac{3}{4} & - \\frac{1}{8}\\\\0 & 1 & 0 & 0 & - \\frac{1}{4} & - \\frac{1}{4}\\\\0 & \\frac{1}{2} & \\frac{1}{2} & - \\frac{1}{8} & - \\frac{1}{8} & \\frac{3}{4}\\\\0 & 0 & 1 & - \\frac{1}{4} & 0 & - \\frac{1}{4}\\\\\\frac{1}{2} & 0 & \\frac{1}{2} & \\frac{3}{4} & - \\frac{1}{8} & - \\frac{1}{8}\\end{matrix}\\right]$"
      ],
      "text/plain": [
       "Matrix([\n",
       "[  1,   0,   0, -1/4, -1/4,    0],\n",
       "[1/2, 1/2,   0, -1/8,  3/4, -1/8],\n",
       "[  0,   1,   0,    0, -1/4, -1/4],\n",
       "[  0, 1/2, 1/2, -1/8, -1/8,  3/4],\n",
       "[  0,   0,   1, -1/4,    0, -1/4],\n",
       "[1/2,   0, 1/2,  3/4, -1/8, -1/8]])"
      ]
     },
     "execution_count": 176,
     "metadata": {},
     "output_type": "execute_result"
    }
   ],
   "source": [
    "Ws_sym"
   ]
  },
  {
   "cell_type": "code",
   "execution_count": 177,
   "id": "6364fafe",
   "metadata": {},
   "outputs": [
    {
     "data": {
      "text/latex": [
       "$\\displaystyle \\left[\\begin{matrix}\\frac{3}{4} & \\frac{1}{4} & - \\frac{1}{8} & 0 & - \\frac{1}{8} & \\frac{1}{4}\\end{matrix}\\right]$"
      ],
      "text/plain": [
       "Matrix([[3/4, 1/4, -1/8, 0, -1/8, 1/4]])"
      ]
     },
     "execution_count": 177,
     "metadata": {},
     "output_type": "execute_result"
    }
   ],
   "source": [
    "Wa_6_sym.row(0)"
   ]
  },
  {
   "cell_type": "code",
   "execution_count": 178,
   "id": "462c6653",
   "metadata": {},
   "outputs": [
    {
     "data": {
      "text/latex": [
       "$\\displaystyle \\left[\\begin{matrix}1\\\\\\frac{1}{2}\\\\0\\\\0\\\\0\\\\\\frac{1}{2}\\end{matrix}\\right]$"
      ],
      "text/plain": [
       "Matrix([\n",
       "[  1],\n",
       "[1/2],\n",
       "[  0],\n",
       "[  0],\n",
       "[  0],\n",
       "[1/2]])"
      ]
     },
     "execution_count": 178,
     "metadata": {},
     "output_type": "execute_result"
    }
   ],
   "source": [
    "Ws_sym.col(0)"
   ]
  },
  {
   "cell_type": "code",
   "execution_count": 179,
   "id": "6ac5b7c9",
   "metadata": {},
   "outputs": [
    {
     "data": {
      "text/latex": [
       "$\\displaystyle \\left[\\begin{matrix}1\\end{matrix}\\right]$"
      ],
      "text/plain": [
       "Matrix([[1]])"
      ]
     },
     "execution_count": 179,
     "metadata": {},
     "output_type": "execute_result"
    }
   ],
   "source": [
    "Wa_6_sym.row(0)* Ws_sym.col(0)"
   ]
  },
  {
   "cell_type": "code",
   "execution_count": 180,
   "id": "d50098ae",
   "metadata": {},
   "outputs": [
    {
     "data": {
      "text/latex": [
       "$\\displaystyle \\left[\\begin{matrix}- \\frac{1}{8} & \\frac{1}{4} & \\frac{3}{4} & \\frac{1}{4} & - \\frac{1}{8} & 0\\end{matrix}\\right]$"
      ],
      "text/plain": [
       "Matrix([[-1/8, 1/4, 3/4, 1/4, -1/8, 0]])"
      ]
     },
     "execution_count": 180,
     "metadata": {},
     "output_type": "execute_result"
    }
   ],
   "source": [
    "Wa_6_sym.row(1)"
   ]
  },
  {
   "cell_type": "code",
   "execution_count": 181,
   "id": "6a835110",
   "metadata": {},
   "outputs": [
    {
     "data": {
      "text/latex": [
       "$\\displaystyle \\left[\\begin{matrix}0\\\\\\frac{1}{2}\\\\1\\\\\\frac{1}{2}\\\\0\\\\0\\end{matrix}\\right]$"
      ],
      "text/plain": [
       "Matrix([\n",
       "[  0],\n",
       "[1/2],\n",
       "[  1],\n",
       "[1/2],\n",
       "[  0],\n",
       "[  0]])"
      ]
     },
     "execution_count": 181,
     "metadata": {},
     "output_type": "execute_result"
    }
   ],
   "source": [
    "Ws_sym.col(1)"
   ]
  },
  {
   "cell_type": "code",
   "execution_count": 182,
   "id": "664f3966",
   "metadata": {},
   "outputs": [
    {
     "data": {
      "text/latex": [
       "$\\displaystyle \\left[\\begin{matrix}1\\end{matrix}\\right]$"
      ],
      "text/plain": [
       "Matrix([[1]])"
      ]
     },
     "execution_count": 182,
     "metadata": {},
     "output_type": "execute_result"
    }
   ],
   "source": [
    "Wa_6_sym.row(1)*Ws_sym.col(1)"
   ]
  },
  {
   "cell_type": "code",
   "execution_count": 183,
   "id": "b44acf49",
   "metadata": {},
   "outputs": [
    {
     "data": {
      "text/latex": [
       "$\\displaystyle \\left[\\begin{matrix}\\frac{3}{4} & \\frac{1}{4} & - \\frac{1}{8} & 0 & - \\frac{1}{8} & \\frac{1}{4}\\end{matrix}\\right]$"
      ],
      "text/plain": [
       "Matrix([[3/4, 1/4, -1/8, 0, -1/8, 1/4]])"
      ]
     },
     "execution_count": 183,
     "metadata": {},
     "output_type": "execute_result"
    }
   ],
   "source": [
    "Wa_6_sym.row(0)"
   ]
  },
  {
   "cell_type": "code",
   "execution_count": 185,
   "id": "756062a3",
   "metadata": {},
   "outputs": [
    {
     "data": {
      "text/latex": [
       "$\\displaystyle \\left[\\begin{matrix}0\\\\\\frac{1}{2}\\\\1\\\\\\frac{1}{2}\\\\0\\\\0\\end{matrix}\\right]$"
      ],
      "text/plain": [
       "Matrix([\n",
       "[  0],\n",
       "[1/2],\n",
       "[  1],\n",
       "[1/2],\n",
       "[  0],\n",
       "[  0]])"
      ]
     },
     "execution_count": 185,
     "metadata": {},
     "output_type": "execute_result"
    }
   ],
   "source": [
    "Ws_sym.col(1)"
   ]
  },
  {
   "cell_type": "code",
   "execution_count": 186,
   "id": "decf43d6",
   "metadata": {},
   "outputs": [
    {
     "data": {
      "text/latex": [
       "$\\displaystyle \\left[\\begin{matrix}0\\end{matrix}\\right]$"
      ],
      "text/plain": [
       "Matrix([[0]])"
      ]
     },
     "execution_count": 186,
     "metadata": {},
     "output_type": "execute_result"
    }
   ],
   "source": [
    "Wa_6_sym.row(0)*Ws_sym.col(1)"
   ]
  },
  {
   "cell_type": "code",
   "execution_count": 187,
   "id": "6e4dc30a",
   "metadata": {},
   "outputs": [
    {
     "data": {
      "text/latex": [
       "$\\displaystyle \\left[\\begin{matrix}\\frac{3}{4} & \\frac{1}{4} & - \\frac{1}{8} & 0 & - \\frac{1}{8} & \\frac{1}{4}\\end{matrix}\\right]$"
      ],
      "text/plain": [
       "Matrix([[3/4, 1/4, -1/8, 0, -1/8, 1/4]])"
      ]
     },
     "execution_count": 187,
     "metadata": {},
     "output_type": "execute_result"
    }
   ],
   "source": [
    "Wa_6_sym.row(0)"
   ]
  },
  {
   "cell_type": "code",
   "execution_count": 188,
   "id": "44427f92",
   "metadata": {},
   "outputs": [
    {
     "data": {
      "text/latex": [
       "$\\displaystyle \\left[\\begin{matrix}0\\\\0\\\\0\\\\\\frac{1}{2}\\\\1\\\\\\frac{1}{2}\\end{matrix}\\right]$"
      ],
      "text/plain": [
       "Matrix([\n",
       "[  0],\n",
       "[  0],\n",
       "[  0],\n",
       "[1/2],\n",
       "[  1],\n",
       "[1/2]])"
      ]
     },
     "execution_count": 188,
     "metadata": {},
     "output_type": "execute_result"
    }
   ],
   "source": [
    "Ws_sym.col(2)"
   ]
  },
  {
   "cell_type": "code",
   "execution_count": 189,
   "id": "e9294fd0",
   "metadata": {},
   "outputs": [
    {
     "data": {
      "text/latex": [
       "$\\displaystyle \\left[\\begin{matrix}0\\end{matrix}\\right]$"
      ],
      "text/plain": [
       "Matrix([[0]])"
      ]
     },
     "execution_count": 189,
     "metadata": {},
     "output_type": "execute_result"
    }
   ],
   "source": [
    "Wa_6_sym.row(0)*Ws_sym.col(2)"
   ]
  },
  {
   "cell_type": "code",
   "execution_count": null,
   "id": "a59eba23",
   "metadata": {},
   "outputs": [],
   "source": []
  }
 ],
 "metadata": {
  "kernelspec": {
   "display_name": "Python 3 (ipykernel)",
   "language": "python",
   "name": "python3"
  },
  "language_info": {
   "codemirror_mode": {
    "name": "ipython",
    "version": 3
   },
   "file_extension": ".py",
   "mimetype": "text/x-python",
   "name": "python",
   "nbconvert_exporter": "python",
   "pygments_lexer": "ipython3",
   "version": "3.7.16"
  }
 },
 "nbformat": 4,
 "nbformat_minor": 5
}
