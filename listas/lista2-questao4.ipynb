{
 "cells": [
  {
   "cell_type": "code",
   "execution_count": 1,
   "id": "3a92d24f",
   "metadata": {},
   "outputs": [],
   "source": [
    "import math as m\n",
    "import numpy as np\n"
   ]
  },
  {
   "cell_type": "code",
   "execution_count": 7,
   "id": "a4f637ab",
   "metadata": {},
   "outputs": [
    {
     "data": {
      "text/plain": [
       "array([[ 1.+0.j,  1.+0.j,  1.+0.j,  1.+0.j],\n",
       "       [ 1.+0.j,  0.+1.j, -1.+0.j, -0.-1.j],\n",
       "       [ 1.+0.j, -1.+0.j,  1.+0.j, -1.+0.j],\n",
       "       [ 1.+0.j, -0.-1.j, -1.+0.j,  0.+1.j]])"
      ]
     },
     "execution_count": 7,
     "metadata": {},
     "output_type": "execute_result"
    }
   ],
   "source": [
    "E_n4 = np.array([[1,1,1,1],[1,1j,-1,-1j],[1,-1,1,-1],[1,-1j,-1,1j]])\n",
    "E_n4"
   ]
  },
  {
   "cell_type": "code",
   "execution_count": 37,
   "id": "75536c75",
   "metadata": {},
   "outputs": [
    {
     "data": {
      "text/plain": [
       "array([[ 1.+0.j,  1.+0.j,  1.+0.j,  1.+0.j],\n",
       "       [ 1.+0.j, -0.-1.j, -1.+0.j,  0.+1.j],\n",
       "       [ 1.+0.j, -1.+0.j,  1.+0.j, -1.+0.j],\n",
       "       [ 1.+0.j,  0.+1.j, -1.+0.j, -0.-1.j]])"
      ]
     },
     "execution_count": 37,
     "metadata": {},
     "output_type": "execute_result"
    }
   ],
   "source": [
    "E_n4_barra = np.array([[1,1,1,1],[1,-1j,-1,1j],[1,-1,1,-1],[1,1j,-1,-1j]])\n",
    "E_n4_barra"
   ]
  },
  {
   "cell_type": "code",
   "execution_count": 12,
   "id": "7dd069e6",
   "metadata": {},
   "outputs": [
    {
     "data": {
      "text/plain": [
       "array([ 1,  2,  0, -1])"
      ]
     },
     "execution_count": 12,
     "metadata": {},
     "output_type": "execute_result"
    }
   ],
   "source": [
    "x_n = np.array([1,2,0,-1])\n",
    "x_n"
   ]
  },
  {
   "cell_type": "code",
   "execution_count": 38,
   "id": "2a752fa4",
   "metadata": {},
   "outputs": [
    {
     "data": {
      "text/plain": [
       "array([ 1.+0.j,  2.+0.j,  0.+0.j, -1.+0.j])"
      ]
     },
     "execution_count": 38,
     "metadata": {},
     "output_type": "execute_result"
    }
   ],
   "source": [
    "x_n * E_n4_barra[0]"
   ]
  },
  {
   "cell_type": "code",
   "execution_count": 39,
   "id": "ba064475",
   "metadata": {},
   "outputs": [
    {
     "data": {
      "text/plain": [
       "array([[ 1.+0.j,  2.+0.j,  0.+0.j, -1.+0.j],\n",
       "       [ 1.+0.j,  0.-2.j, -0.+0.j, -0.-1.j],\n",
       "       [ 1.+0.j, -2.+0.j,  0.+0.j,  1.-0.j],\n",
       "       [ 1.+0.j,  0.+2.j, -0.+0.j,  0.+1.j]])"
      ]
     },
     "execution_count": 39,
     "metadata": {},
     "output_type": "execute_result"
    }
   ],
   "source": [
    "x_n * E_n4_barra"
   ]
  },
  {
   "cell_type": "code",
   "execution_count": 40,
   "id": "5215913f",
   "metadata": {},
   "outputs": [
    {
     "data": {
      "text/plain": [
       "(2+0j)"
      ]
     },
     "execution_count": 40,
     "metadata": {},
     "output_type": "execute_result"
    }
   ],
   "source": [
    "X_0 = np.sum(x_n * E_n4_barra[0])\n",
    "X_0"
   ]
  },
  {
   "cell_type": "code",
   "execution_count": 41,
   "id": "9bc86f66",
   "metadata": {},
   "outputs": [
    {
     "data": {
      "text/plain": [
       "array([[ 1.+0.j,  2.+0.j,  0.+0.j, -1.+0.j],\n",
       "       [ 1.+0.j,  0.-2.j, -0.+0.j, -0.-1.j],\n",
       "       [ 1.+0.j, -2.+0.j,  0.+0.j,  1.-0.j],\n",
       "       [ 1.+0.j,  0.+2.j, -0.+0.j,  0.+1.j]])"
      ]
     },
     "execution_count": 41,
     "metadata": {},
     "output_type": "execute_result"
    }
   ],
   "source": [
    "X_n = x_n * E_n4_barra\n",
    "X_n"
   ]
  },
  {
   "cell_type": "code",
   "execution_count": 22,
   "id": "4762e7dc",
   "metadata": {},
   "outputs": [
    {
     "data": {
      "text/plain": [
       "(1-3j)"
      ]
     },
     "execution_count": 22,
     "metadata": {},
     "output_type": "execute_result"
    }
   ],
   "source": [
    "np.sum(X_n[3])"
   ]
  },
  {
   "cell_type": "code",
   "execution_count": 42,
   "id": "69e3aca4",
   "metadata": {},
   "outputs": [
    {
     "data": {
      "text/plain": [
       "array([2.+0.j, 1.-3.j, 0.+0.j, 1.+3.j])"
      ]
     },
     "execution_count": 42,
     "metadata": {},
     "output_type": "execute_result"
    }
   ],
   "source": [
    "X_n=np.sum(X_n, axis=1)\n",
    "X_n"
   ]
  },
  {
   "cell_type": "code",
   "execution_count": 45,
   "id": "98a71a2b",
   "metadata": {},
   "outputs": [
    {
     "data": {
      "text/plain": [
       "array([ 1.+0.j,  2.+0.j,  0.+0.j, -1.+0.j])"
      ]
     },
     "execution_count": 45,
     "metadata": {},
     "output_type": "execute_result"
    }
   ],
   "source": [
    "# tentando rodar a IDFT\n",
    "np.sum(X_n * E_n4, axis=1)/4\n"
   ]
  },
  {
   "cell_type": "code",
   "execution_count": 50,
   "id": "a44d9191",
   "metadata": {},
   "outputs": [
    {
     "data": {
      "text/plain": [
       "5.999999999999999"
      ]
     },
     "execution_count": 50,
     "metadata": {},
     "output_type": "execute_result"
    }
   ],
   "source": [
    "# e a energia?\n",
    "do sinal original\n",
    "np.linalg.norm(x_n)**2"
   ]
  },
  {
   "cell_type": "code",
   "execution_count": 51,
   "id": "9a8ec820",
   "metadata": {},
   "outputs": [
    {
     "data": {
      "text/plain": [
       "array([16., 40.,  0., 40.])"
      ]
     },
     "execution_count": 51,
     "metadata": {},
     "output_type": "execute_result"
    }
   ],
   "source": [
    "4 * abs(X_n)**2"
   ]
  },
  {
   "cell_type": "markdown",
   "id": "d080d2f1",
   "metadata": {},
   "source": [
    "-----\n",
    "Tentando agora a IDFT"
   ]
  },
  {
   "cell_type": "code",
   "execution_count": 30,
   "id": "b777dd1f",
   "metadata": {},
   "outputs": [
    {
     "data": {
      "text/plain": [
       "array([3.+0.j, 1.+1.j, 1.+0.j, 1.-1.j])"
      ]
     },
     "execution_count": 30,
     "metadata": {},
     "output_type": "execute_result"
    }
   ],
   "source": [
    "W_n = np.array([3,1+1j,1,1-1j])\n",
    "W_n"
   ]
  },
  {
   "cell_type": "code",
   "execution_count": 36,
   "id": "f40a5b47",
   "metadata": {},
   "outputs": [
    {
     "data": {
      "text/plain": [
       "array([1.5+0.j, 0. +0.j, 0.5+0.j, 1. +0.j])"
      ]
     },
     "execution_count": 36,
     "metadata": {},
     "output_type": "execute_result"
    }
   ],
   "source": [
    "w_n = np.sum(W_n * E_n4, axis=1)/4\n",
    "w_n"
   ]
  },
  {
   "cell_type": "code",
   "execution_count": 48,
   "id": "e6796ef8",
   "metadata": {},
   "outputs": [
    {
     "data": {
      "text/plain": [
       "array([3.+0.j, 1.+1.j, 1.+0.j, 1.-1.j])"
      ]
     },
     "execution_count": 48,
     "metadata": {},
     "output_type": "execute_result"
    }
   ],
   "source": [
    "# Tentando rodar a DFT\n",
    "np.sum(w_n * E_n4_barra, axis=1)"
   ]
  },
  {
   "cell_type": "code",
   "execution_count": null,
   "id": "4a3f8103",
   "metadata": {},
   "outputs": [],
   "source": []
  }
 ],
 "metadata": {
  "kernelspec": {
   "display_name": "Python 3 (ipykernel)",
   "language": "python",
   "name": "python3"
  },
  "language_info": {
   "codemirror_mode": {
    "name": "ipython",
    "version": 3
   },
   "file_extension": ".py",
   "mimetype": "text/x-python",
   "name": "python",
   "nbconvert_exporter": "python",
   "pygments_lexer": "ipython3",
   "version": "3.7.13"
  }
 },
 "nbformat": 4,
 "nbformat_minor": 5
}
