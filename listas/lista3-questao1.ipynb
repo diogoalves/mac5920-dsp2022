{
 "cells": [
  {
   "cell_type": "code",
   "execution_count": 1,
   "id": "dc13918a",
   "metadata": {},
   "outputs": [],
   "source": [
    "import numpy as np\n",
    "import math"
   ]
  },
  {
   "cell_type": "code",
   "execution_count": 2,
   "id": "93af1555",
   "metadata": {},
   "outputs": [],
   "source": [
    "def dft2d(A):\n",
    "    m, n = A.shape\n",
    "    Ahat = np.zeros((m,n), dtype='complex')\n",
    "    for k in range(m):\n",
    "        for l in range(n):\n",
    "            for r in range(m):\n",
    "                for s in range(n):\n",
    "                    Ahat[k][l] += A[r][s] * np.exp(-1j*2*math.pi*(k*r/m + l*s/n))\n",
    "    return Ahat\n",
    "                    \n",
    "                    \n",
    "def idft2d(Ahat):\n",
    "    m, n = Ahat.shape\n",
    "    A = np.zeros((m,n), dtype='complex')\n",
    "    for k in range(m):\n",
    "        for l in range(n):\n",
    "            for r in range(m):\n",
    "                for s in range(n):\n",
    "                    A[r][s] += Ahat[k][l] * np.exp(1j*2*math.pi*(k*r/m + l*s/n))\n",
    "    A = (1/(m*n)) * A\n",
    "    return A\n",
    "\n",
    "\n",
    "\n"
   ]
  },
  {
   "cell_type": "code",
   "execution_count": 3,
   "id": "83c5f618",
   "metadata": {},
   "outputs": [
    {
     "data": {
      "text/plain": [
       "array([[ 1, -1],\n",
       "       [ 2,  0]])"
      ]
     },
     "execution_count": 3,
     "metadata": {},
     "output_type": "execute_result"
    }
   ],
   "source": [
    "A = np.array([1, -1, 2, 0]).reshape((2,2))\n",
    "A\n"
   ]
  },
  {
   "cell_type": "code",
   "execution_count": 4,
   "id": "2c8f1fbd",
   "metadata": {},
   "outputs": [
    {
     "data": {
      "text/plain": [
       "array([[ 2.+0.j,  4.+0.j],\n",
       "       [-2.+0.j,  0.+0.j]])"
      ]
     },
     "execution_count": 4,
     "metadata": {},
     "output_type": "execute_result"
    }
   ],
   "source": [
    "np.fft.fft2(A)"
   ]
  },
  {
   "cell_type": "code",
   "execution_count": 9,
   "id": "ac0777a3",
   "metadata": {},
   "outputs": [
    {
     "data": {
      "text/plain": [
       "array([[ 1.+0.j, -1.+0.j],\n",
       "       [ 2.+0.j,  0.+0.j]])"
      ]
     },
     "execution_count": 9,
     "metadata": {},
     "output_type": "execute_result"
    }
   ],
   "source": [
    "np.fft.ifft2(np.fft.fft2(A))"
   ]
  },
  {
   "cell_type": "code",
   "execution_count": 17,
   "id": "eb3df0ae",
   "metadata": {},
   "outputs": [
    {
     "data": {
      "text/plain": [
       "array([[ 1.-0.j, -1.-0.j],\n",
       "       [ 2.+0.j,  0.+0.j]])"
      ]
     },
     "execution_count": 17,
     "metadata": {},
     "output_type": "execute_result"
    }
   ],
   "source": [
    "np.round(np.fft.ifft2(dft2d(A)))"
   ]
  },
  {
   "cell_type": "code",
   "execution_count": 19,
   "id": "fb8b8ca6",
   "metadata": {},
   "outputs": [
    {
     "data": {
      "text/plain": [
       "array([[ 1.-0.j, -1.+0.j],\n",
       "       [ 2.+0.j, -0.+0.j]])"
      ]
     },
     "execution_count": 19,
     "metadata": {},
     "output_type": "execute_result"
    }
   ],
   "source": [
    "np.round(idft2d(dft2d(A)))"
   ]
  },
  {
   "cell_type": "code",
   "execution_count": 21,
   "id": "6291b9e6",
   "metadata": {},
   "outputs": [
    {
     "data": {
      "text/plain": [
       "array([[ 1.+0.j, -1.+0.j],\n",
       "       [ 2.-0.j,  0.+0.j]])"
      ]
     },
     "execution_count": 21,
     "metadata": {},
     "output_type": "execute_result"
    }
   ],
   "source": [
    "np.round(idft2d(np.fft.fft2(A)))"
   ]
  },
  {
   "cell_type": "code",
   "execution_count": 27,
   "id": "a1055c80",
   "metadata": {},
   "outputs": [
    {
     "data": {
      "text/plain": [
       "0"
      ]
     },
     "execution_count": 27,
     "metadata": {},
     "output_type": "execute_result"
    }
   ],
   "source": [
    "A[1][1]"
   ]
  },
  {
   "cell_type": "code",
   "execution_count": 5,
   "id": "76c0a53a",
   "metadata": {},
   "outputs": [
    {
     "name": "stdout",
     "output_type": "stream",
     "text": [
      "i=0 j=0 (2+0j) \n",
      "i=0 j=1 (4+0j) \n",
      "i=1 j=0 (-2+0j) \n",
      "i=1 j=1 0j \n"
     ]
    }
   ],
   "source": [
    "res = np.fft.fft2(A)\n",
    "for i in range(2):\n",
    "    for j in range(2):\n",
    "        print(f'i={i} j={j} {res[i][j]} ')"
   ]
  },
  {
   "cell_type": "code",
   "execution_count": 7,
   "id": "19009150",
   "metadata": {},
   "outputs": [
    {
     "name": "stdout",
     "output_type": "stream",
     "text": [
      "i=0 j=0 (2+0j) \n",
      "i=0 j=1 (4+0j) \n",
      "i=1 j=0 (-2-0j) \n",
      "i=1 j=1 -0j \n"
     ]
    }
   ],
   "source": [
    "res = np.round(dft2d(A))\n",
    "for i in range(2):\n",
    "    for j in range(2):\n",
    "        print(f'i={i} j={j} {res[i][j]} ')"
   ]
  },
  {
   "cell_type": "code",
   "execution_count": null,
   "id": "a069b197",
   "metadata": {},
   "outputs": [],
   "source": []
  }
 ],
 "metadata": {
  "kernelspec": {
   "display_name": "Python 3 (ipykernel)",
   "language": "python",
   "name": "python3"
  },
  "language_info": {
   "codemirror_mode": {
    "name": "ipython",
    "version": 3
   },
   "file_extension": ".py",
   "mimetype": "text/x-python",
   "name": "python",
   "nbconvert_exporter": "python",
   "pygments_lexer": "ipython3",
   "version": "3.7.13"
  }
 },
 "nbformat": 4,
 "nbformat_minor": 5
}
