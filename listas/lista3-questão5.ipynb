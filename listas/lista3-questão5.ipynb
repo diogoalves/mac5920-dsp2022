{
 "cells": [
  {
   "cell_type": "code",
   "execution_count": 2,
   "id": "2f4f64aa",
   "metadata": {},
   "outputs": [],
   "source": [
    "import numpy as np\n",
    "import math\n",
    "import scipy.fft as fft"
   ]
  },
  {
   "cell_type": "code",
   "execution_count": 19,
   "id": "08b77fed",
   "metadata": {},
   "outputs": [
    {
     "name": "stdout",
     "output_type": "stream",
     "text": [
      "x\t=[1, 2]\n",
      "x_tilde\t=[2, 1]\n"
     ]
    }
   ],
   "source": [
    "# x=[10,20,30,40,50,60,70,80,90,10]\n",
    "x=[1,2]\n",
    "x_tilde = x.copy()\n",
    "x_tilde.reverse()\n",
    "\n",
    "print(f'x\\t={x}')\n",
    "print(f'x_tilde\\t={x_tilde}')\n"
   ]
  },
  {
   "cell_type": "code",
   "execution_count": 22,
   "id": "3b614071",
   "metadata": {},
   "outputs": [
    {
     "data": {
      "text/plain": [
       "array([ 2.12, -0.71])"
      ]
     },
     "execution_count": 22,
     "metadata": {},
     "output_type": "execute_result"
    }
   ],
   "source": [
    "np.round(fft.dct(x, norm='ortho'),2)"
   ]
  },
  {
   "cell_type": "code",
   "execution_count": 23,
   "id": "606d4ddd",
   "metadata": {},
   "outputs": [
    {
     "data": {
      "text/plain": [
       "array([2.12, 0.71])"
      ]
     },
     "execution_count": 23,
     "metadata": {},
     "output_type": "execute_result"
    }
   ],
   "source": [
    "np.round(fft.dct(x_tilde, norm='ortho'),2)"
   ]
  },
  {
   "cell_type": "code",
   "execution_count": 57,
   "id": "cf7d0380",
   "metadata": {},
   "outputs": [
    {
     "name": "stdout",
     "output_type": "stream",
     "text": [
      "x=[1, 2, 3, 4] N=4\n",
      "c0_norm=0.5\n",
      "ck_norm=0.71\n",
      "\n",
      "k=1\n",
      "x*base=[1, 2, 3, 4]*[ 0.92387953  0.38268343 -0.38268343 -0.92387953]\n",
      "sum(x*base)=-3.1543220298989496\n",
      "k=2\n",
      "x*base=[1, 2, 3, 4]*[ 0.70710678 -0.70710678 -0.70710678  0.70710678]\n",
      "sum(x*base)=-8.881784197001252e-16\n",
      "k=3\n",
      "x*base=[1, 2, 3, 4]*[ 0.38268343 -0.92387953  0.92387953 -0.38268343]\n",
      "sum(x*base)=-0.22417076458398388\n"
     ]
    },
    {
     "data": {
      "text/plain": [
       "array([ 5.00000000e+00, -2.23044250e+00, -6.28036983e-16, -1.58512668e-01])"
      ]
     },
     "execution_count": 57,
     "metadata": {},
     "output_type": "execute_result"
    }
   ],
   "source": [
    "def dct_verbose(x):\n",
    "    N = len(x)\n",
    "    c0_norm = np.sqrt(1/N)\n",
    "    ck_norm = np.sqrt(2/N)\n",
    "\n",
    "    print(f'x={x} N={N}')\n",
    "    print(f'c0_norm={c0_norm:.2}')\n",
    "    print(f'ck_norm={ck_norm:.2}')\n",
    "    print()\n",
    "    \n",
    "    C = np.zeros(N)\n",
    "    C[0] = c0_norm * np.sum(x)\n",
    "\n",
    "    m = np.arange(0,N,1)\n",
    "    for k in range(1,N):\n",
    "        print(f'k={k}')\n",
    "        base = np.cos(math.pi*k*(m+(1/2))/N)\n",
    "        #base=np.flip(base)\n",
    "        print(f'x*base={x}*{base}')\n",
    "        print(f'sum(x*base)={np.sum(x*base)}')\n",
    "        \n",
    "        #C[k] = ck_norm * np.sum(x * np.cos(math.pi*k*(m+(1/2))/N))\n",
    "        C[k] = ck_norm * np.sum(x*base)\n",
    "    \n",
    "    return C\n",
    "\n",
    "dct_verbose([1,2,3,4])"
   ]
  },
  {
   "cell_type": "code",
   "execution_count": 43,
   "id": "06b48491",
   "metadata": {},
   "outputs": [
    {
     "name": "stdout",
     "output_type": "stream",
     "text": [
      "x=[2, 1] N=2\n",
      "c0_norm=0.71\n",
      "ck_norm=1.0\n",
      "\n",
      "k=0\n",
      "x*base=[2, 1]*[ 0.70710678 -0.70710678]\n",
      "sum(x*base)=0.7071067811865477\n"
     ]
    },
    {
     "data": {
      "text/plain": [
       "array([2.12132034, 0.70710678])"
      ]
     },
     "execution_count": 43,
     "metadata": {},
     "output_type": "execute_result"
    }
   ],
   "source": [
    "dct_verbose(x_tilde)"
   ]
  },
  {
   "cell_type": "code",
   "execution_count": null,
   "id": "8d659280",
   "metadata": {},
   "outputs": [],
   "source": []
  }
 ],
 "metadata": {
  "kernelspec": {
   "display_name": "Python 3 (ipykernel)",
   "language": "python",
   "name": "python3"
  },
  "language_info": {
   "codemirror_mode": {
    "name": "ipython",
    "version": 3
   },
   "file_extension": ".py",
   "mimetype": "text/x-python",
   "name": "python",
   "nbconvert_exporter": "python",
   "pygments_lexer": "ipython3",
   "version": "3.7.13"
  }
 },
 "nbformat": 4,
 "nbformat_minor": 5
}
