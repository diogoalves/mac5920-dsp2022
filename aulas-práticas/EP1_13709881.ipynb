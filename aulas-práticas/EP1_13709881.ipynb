{
 "cells": [
  {
   "cell_type": "markdown",
   "metadata": {},
   "source": [
    "## Atividade Prática 1: Amostragem e rebatimento\n",
    "\n",
    "### Nome: Diogo José Costa Alves\n",
    "\n",
    "### N⁰ USP: 13709881\n",
    "\n",
    "Nessa tarefa exploraremos a amostragem de sinais e imagens sintetizados a partir de funções senoidais, e o efeito de rebatimento resultante da relação entre a taxa de amostragem e a frequência do sinal."
   ]
  },
  {
   "cell_type": "markdown",
   "metadata": {},
   "source": [
    "#### Dependências dessa tarefa"
   ]
  },
  {
   "cell_type": "code",
   "execution_count": 1,
   "metadata": {},
   "outputs": [],
   "source": [
    "import math as m\n",
    "import numpy as np\n",
    "import matplotlib.pyplot as plt\n",
    "from IPython.display import Audio"
   ]
  },
  {
   "cell_type": "markdown",
   "metadata": {},
   "source": [
    "#### Exercício 1:\n",
    "\n",
    "(a) construa um sinal de 1 seg de duração com frequência f = 2000 Hz e taxa de amostragem R = 40000 Hz:\n",
    "\n",
    "$$x(t) = \\sin(2\\pi f t)\\quad\\quad t=0,\\frac{1}{R},\\frac{2}{R},\\ldots,1-\\frac{1}{R}$$\n",
    "\n",
    "(b) Plote um trecho do sinal correspondente a 4 períodos completos (ou seja, quando $2\\pi ft=4\\cdot 2\\pi$).\n",
    "\n",
    "(c) Adicione um widget para reproduzir o sinal (já resolvido).\n",
    "\n",
    "**CUIDADO** com o volume ao ouvir o sinal (comece com o volume no mínimo e aumente até um nível confortável para os seus fones de ouvido)."
   ]
  },
  {
   "cell_type": "code",
   "execution_count": null,
   "metadata": {},
   "outputs": [],
   "source": [
    "# Exercício 1(a)\n",
    "# Dicas: não use laços! Use np.arange(0,1,1/R) para construir um vetor t\n",
    "# e passe para a função np.sin uma expressão usando o vetor t\n",
    "\n",
    "duracao = 1  # um segundo\n",
    "R = 40000    # amostragem\n",
    "f = 2000     # frequencia\n",
    "\n",
    "t = np.arange(0, duracao, 1/R)\n",
    "x = np.sin(2 * m.pi * f * t)\n"
   ]
  },
  {
   "cell_type": "code",
   "execution_count": null,
   "metadata": {},
   "outputs": [],
   "source": [
    "# Exercício 1(b)\n",
    "# Dica: use plt.plot(tempo,sinal)\n",
    "\n",
    "limite = int(4*R/f) # limite do trecho\n",
    "\n",
    "plt.figure(figsize=(15,5))\n",
    "plt.axhline(y=0.0, color='gray', linestyle='--', ms=1)\n",
    "plt.plot(t[0:limite], x[0:limite], '.', markersize=1)\n",
    "plt.xlim([0, max(t[0:limite])])\n",
    "plt.title(f'Sinal $x(t) =  \\sin(2\\pi f t)$', fontdict = {'fontsize' : 14})\n",
    "plt.ylabel('amplitude')\n",
    "plt.xlabel('tempo (s)')"
   ]
  },
  {
   "cell_type": "code",
   "execution_count": null,
   "metadata": {
    "scrolled": true
   },
   "outputs": [],
   "source": [
    "# Exercício 1(c) resolvido\n",
    "display(Audio(x, rate=R, normalize=False))"
   ]
  },
  {
   "cell_type": "markdown",
   "metadata": {},
   "source": [
    "#### Exercício 2:\n",
    "\n",
    "Repita a construção do exercício 1 com a mesma frequência f = 2000 Hz e taxas de amostragem R = 8000 Hz, depois R = 4000 Hz e finalmente R = 3000 Hz. Comente na célula após o código as diferenças visuais e auditivas observadas, se houver."
   ]
  },
  {
   "cell_type": "code",
   "execution_count": null,
   "metadata": {},
   "outputs": [],
   "source": [
    "# Exercício 2\n",
    "# Dica: para separar os gráficos, divida a célula (Edit→Split Cell)\n",
    "#       ou então use plt.figure() antes de cada plt.plot()\n",
    "duracao = 1  # um segundo\n",
    "f = 2000     # frequencia\n",
    "\n",
    "# taxas de amostragem\n",
    "R1 = 8000\n",
    "R2 = 4000\n",
    "R3 = 3000\n",
    "\n",
    "t1 = np.arange(0, duracao, 1/R1)\n",
    "t2 = np.arange(0, duracao, 1/R2)\n",
    "t3 = np.arange(0, duracao, 1/R3)\n",
    "\n",
    "# sinais\n",
    "x1 = np.sin(2 * m.pi * f * t1)\n",
    "x2 = np.sin(2 * m.pi * f * t2)\n",
    "x3 = np.sin(2 * m.pi * f * t3)\n",
    "\n",
    "\n",
    "limite1 = int(4*R1/f) # limite do trecho\n",
    "plt.figure(figsize=(15,5))\n",
    "plt.axhline(y=0.0, color='gray', linestyle='--', ms=1)\n",
    "plt.plot(t1[0:limite1], x1[0:limite1], '.', markersize=4)\n",
    "plt.xlim([0, max(t1[0:limite1])])\n",
    "plt.title(f'Sinal $x(t) =  \\sin(2\\pi f t)$ com amostragem 8000Hz', fontdict = {'fontsize' : 14})\n",
    "plt.ylabel('amplitude')\n",
    "plt.xlabel('tempo (s)')\n",
    "\n",
    "\n",
    "\n",
    "limite2 = int(4*R2/f) # limite do trecho\n",
    "plt.figure(figsize=(15,5))\n",
    "plt.axhline(y=0.0, color='gray', linestyle='--', ms=1)\n",
    "plt.plot(t2[0:limite2], x2[0:limite2], '.', markersize=4)\n",
    "plt.xlim([0, max(t2[0:limite2])])\n",
    "plt.title(f'Sinal $x(t) =  \\sin(2\\pi f t)$ com amostragem 4000Hz', fontdict = {'fontsize' : 14})\n",
    "plt.ylabel('amplitude')\n",
    "plt.xlabel('tempo (s)')\n",
    "\n",
    "\n",
    "limite3 = int(4*R3/f) # limite do trecho\n",
    "plt.figure(figsize=(15,5))\n",
    "plt.axhline(y=0.0, color='gray', linestyle='--', ms=1)\n",
    "plt.plot(t3[0:limite3], x3[0:limite3], '.', markersize=4)\n",
    "plt.xlim([0, max(t3[0:limite3])])\n",
    "plt.title(f'Sinal $x(t) =  \\sin(2\\pi f t)$ com amostragem 3000Hz', fontdict = {'fontsize' : 14})\n",
    "plt.ylabel('amplitude')\n",
    "plt.xlabel('tempo (s)')\n"
   ]
  },
  {
   "cell_type": "code",
   "execution_count": null,
   "metadata": {},
   "outputs": [],
   "source": [
    "display(Audio(x1, rate=R1, normalize=False))\n",
    "display(Audio(x2, rate=R2, normalize=False))\n",
    "display(Audio(x3, rate=R3, normalize=False))\n"
   ]
  },
  {
   "cell_type": "markdown",
   "metadata": {
    "scrolled": true
   },
   "source": [
    "#### Inclua aqui os comentários referentes ao exercício 2"
   ]
  },
  {
   "cell_type": "markdown",
   "metadata": {
    "scrolled": true
   },
   "source": [
    "No exercício, a partir de um mesmo sinal frequência 2000Hz expirementamos amostralos com 3 taxas distintas.\n",
    "\n",
    "Quando amostramos com R=8000Hz.\n",
    "R é um múltiplo F e  $-\\frac{R}{2}<f\\le \\frac{R}{2}$.\n",
    "É possível perceber que os pontos amostrados reflete o mesmo sinal original. A informação amostrada permitiria reconstruir o sinal original. Ao ouvir o audio gerado, me parece que essa amostragem é semelhante ao audio do exercício 1. A frequencia foi mantida.\n",
    "\n",
    "Quando amostramos com R=4000Hz.\n",
    "R é um múltiplo F mas essa amostragem é dita crítica. Já que está no limiar da relação R é um múltiplo F e  $-\\frac{R}{2}<f\\lt \\frac{R}{2}$.\n",
    "No áudio gerado é possível perceber que o fato ouve perda de informação.\n",
    "\n",
    "\n",
    "Já quando amostrado com R=3000Hz\n",
    "R não é multiplo de F e a taxa de amostragem é inferior ao limite da condição de Shannon-Nyquist.\n",
    "Os pontos amostrados não são suficientes para reconstruir a sinal original.\n",
    "Percebemos no áudio gerado uma alteração na frequência\n",
    "\n",
    "\n",
    "\n",
    "\n",
    "\n",
    "\n",
    "\n",
    "Esse exemplos ilustram \n",
    "\n",
    "- Ao se amostrar um sinal analógico com taxa de amostragem R, perde-se a capacidade de discernir frequências separadas por múltiplos de R, e em particular os valores que não estão na faixa $-\\frac{R}{2}<f\\le \\frac{R}{2}$ serão representados incorretamente (rebatidos), correspondendo a alguma outra frequência (aparente) que pertence à faixa representável.\n",
    "- A a condição de Shannon-Nyquist, que afirma que para representar corretamente componentes senoidais de até $F$ Hz é necessário e suficiente utilizar uma taxa de amostragem $R>2F$ Hz, e também explicam a necessidade de utilização de filtros passa-baixas na conversão analógico-digital."
   ]
  },
  {
   "cell_type": "markdown",
   "metadata": {},
   "source": [
    "#### Exercício 3:\n",
    "\n",
    "(a) Construa um gráfico sobrepondo as formas de onda com R = 40000 Hz e R = 4000 Hz, e um segundo gráfico sobrepondo as formas de onda com R = 40000 Hz e R = 3000 Hz.\n",
    "\n",
    "(b) Estime a frequência aparente dos sinais produzidos com R = 4000 Hz e R = 3000 Hz a partir dos gráficos do item (a)."
   ]
  },
  {
   "cell_type": "code",
   "execution_count": null,
   "metadata": {
    "scrolled": true
   },
   "outputs": [],
   "source": [
    "# Exercício 3(a)\n",
    "# Dica: para sobrepor os gráficos basta fazer chamadas consecutivas da função plt.plot()\n",
    "#       dentro de uma mesma célula (ou após um mesmo plt.figure())\n",
    "duracao = 1  # um segundo\n",
    "f = 2000     # frequencia\n",
    "\n",
    "# taxas de amostragem\n",
    "RA1 = 40000\n",
    "RA2 = 4000\n",
    "RA3 = 40000\n",
    "RA4 = 3000\n",
    "\n",
    "t1 = np.arange(0, duracao, 1/RA1)\n",
    "t2 = np.arange(0, duracao, 1/RA2)\n",
    "t3 = np.arange(0, duracao, 1/RA3)\n",
    "t4 = np.arange(0, duracao, 1/RA4)\n",
    "\n",
    "# sinais\n",
    "x1 = np.sin(2 * m.pi * f * t1)\n",
    "x2 = np.sin(2 * m.pi * f * t2)\n",
    "x3 = np.sin(2 * m.pi * f * t3)\n",
    "x4 = np.sin(2 * m.pi * f * t4)\n",
    "\n",
    "limite1 = int(4*RA1/f) # limite do trecho\n",
    "plt.figure(figsize=(15,5))\n",
    "plt.axhline(y=0.0, color='gray', linestyle='--', ms=1)\n",
    "plt.plot(t1[0:limite1], x1[0:limite1], '.', markersize=4)\n",
    "plt.xlim([0, max(t1[0:limite1])])\n",
    "plt.title(f'Sinal $x(t) =  \\sin(2\\pi f t)$ com amostragens 40000Hz e 4000Hz', fontdict = {'fontsize' : 14})\n",
    "plt.ylabel('amplitude')\n",
    "plt.xlabel('tempo (s)')\n",
    "plt.plot(t2[0:limite1], x2[0:limite1], '.', markersize=20)\n",
    "\n",
    "\n",
    "limite2 = int(4*RA3/f) # limite do trecho\n",
    "plt.figure(figsize=(15,5))\n",
    "plt.axhline(y=0.0, color='gray', linestyle='--', ms=1)\n",
    "plt.plot(t3[0:limite2], x3[0:limite2], '.', markersize=4)\n",
    "plt.xlim([0, max(t3[0:limite2])])\n",
    "plt.title(f'Sinal $x(t) =  \\sin(2\\pi f t)$ com amostragem 40000Hz e 3000Hz', fontdict = {'fontsize' : 14})\n",
    "plt.ylabel('amplitude')\n",
    "plt.xlabel('tempo (s)')\n",
    "plt.plot(t4[0:limite1], x4[0:limite1], '.', markersize=20)"
   ]
  },
  {
   "cell_type": "markdown",
   "metadata": {},
   "source": [
    "#### Inclua aqui os comentários referentes ao exercício 3(b)"
   ]
  },
  {
   "cell_type": "markdown",
   "metadata": {},
   "source": [
    "1. A frequência aparente no primeiro gráfico é zero, já que todas as amostragem coincidiram com a origem. 40000%4000=0. 0Hz seria a frequencia aparente.\n",
    "\n",
    "2. A frequência aparente no segundo gráfico é bem menor que os 40000Hz. 0Hz seria a frequencia aparente.40000%3000=1000. 1000Hz seria a frequencia aparente.\n",
    "\n",
    "3. Não sei se faz sentido mas parece que seria possível combinando as duas amostragens 4000Hz e 3000Hz, reconstruir o a frequencia original. Já que o primeiro sinal está amostrando o pontro crítico, e o segundo sinal que está um pouco deslocado revela se o sinal seria positivo ou negativo no dado instante.  "
   ]
  },
  {
   "cell_type": "markdown",
   "metadata": {},
   "source": [
    "#### Exercício 4:\n",
    "\n",
    "Calcule as frequências equivalentes $f$ na faixa $-\\frac{R}{2}<f\\le \\frac{R}{2}$ que correspondem exatamente aos sinais digitais gerados no exercício 2 com R = 4000 Hz e R = 3000 Hz, a partir da condição de rebatimento associada às frequências equivalentes da forma $f\\pm kR$ com $k\\in\\mathbb{Z}$. Há alguma diferença importante entre os exemplos com R = 4000 Hz e R = 3000 Hz? Explique."
   ]
  },
  {
   "cell_type": "markdown",
   "metadata": {
    "scrolled": true
   },
   "source": [
    "#### Inclua aqui as contas e comentários referentes ao exercício 4"
   ]
  },
  {
   "cell_type": "markdown",
   "metadata": {
    "scrolled": true
   },
   "source": [
    "Para R=4000, onde é R é multiplo da frequencia do sinal 40000Hz. A frequencia aparente seria zero. Já que a amostragem ocorreria todo o momento na origem.\n",
    "R=4000 é dita uma frequencia crítica.\n",
    "\n",
    "A condição de rebatimento é a seguinte:\n",
    "$$2\\pi f\\frac{n}{R} = 2\\pi g\\frac{n}{R} + k\\cdot 2\\pi.$$\n",
    "\n",
    "Com n=10 teríamos 0Hz com a frequencia aparente.\n",
    "...\n",
    "\n",
    "\n",
    "\n",
    "\n",
    "Para R=3000Hz, onde R não é múltiplo da frequencia do sinal 40000hz. A frequencia aparente é menor que a frequencia original. A frequencia aparente seria o resto do múltiplo mais próximo na frequencia original.\n",
    "\n",
    "\n",
    "\n",
    "A condição de rebatimento é a seguinte:\n",
    "$$2\\pi f\\frac{n}{R} = 2\\pi g\\frac{n}{R} + k\\cdot 2\\pi.$$\n",
    "\n",
    "\n",
    "\n",
    "\n",
    "Com n=13 teríamos -1000Hz com a frequencia aparente.\n",
    "\n",
    "\n",
    "-1000Hz seria a frequencia aparente."
   ]
  },
  {
   "cell_type": "markdown",
   "metadata": {},
   "source": [
    "#### Exercício 5:\n",
    "\n",
    "Considere a função\n",
    "\n",
    "$$f(x,y)=\\sin(2\\pi(50x+70y))$$\n",
    "\n",
    "definida no retângulo $(x,y)\\in[0,1]\\times[0,1]$. O código abaixo contrói as imagens correspondentes a essa função, usando taxas de amostragem iguais nas duas variáveis com os valores $R=50,60,70,80,700$ (ciclos por unidade espacial).\n",
    "\n",
    "Justifique na célula após o código os padrões observados em função das frequências aparentes/equivalentes $f_x,f_y\\in\\left(-\\frac{R}{2},\\frac{R}{2}\\right]$. Considere que as frequências nominais $g_x=50$ e $g_y=70$ correspondem às flutuações horizontais e verticais, respectivamente."
   ]
  },
  {
   "cell_type": "code",
   "execution_count": null,
   "metadata": {},
   "outputs": [],
   "source": [
    "R=[50,60,70,80,700]\n",
    "for j in range(len(R)):\n",
    "    x = np.arange(0,1,1/R[j])\n",
    "    y = np.arange(0,1,1/R[j])\n",
    "    # np.meshgrid(x,y) retorna duas matrizes X e Y\n",
    "    # onde cada linha de X contém uma cópia do vetor x\n",
    "    # e cada coluna de Y uma cópia do vetor y.\n",
    "    X, Y = np.meshgrid(x,y,indexing='xy')\n",
    "    f = np.sin(2 * m.pi * (50*X + 70*Y))\n",
    "    plt.figure(figsize=(10,10))\n",
    "    plt.imshow(f, interpolation=\"none\", cmap='gray', vmin=-1, vmax=+1)\n",
    "    plt.title(r'R={}'.format(R[j]))\n",
    "    plt.axis('off')"
   ]
  },
  {
   "cell_type": "markdown",
   "metadata": {
    "scrolled": true
   },
   "source": [
    "#### Inclua aqui as contas e comentários referentes ao exercício 5:"
   ]
  },
  {
   "cell_type": "markdown",
   "metadata": {
    "scrolled": true
   },
   "source": [
    "O sinal descrito pela função possui frequencia nominal da componente x de 50Hz e da componente y de 70Hz.\n",
    "\n",
    "1. No gráfico com amostragem R=50.\n",
    "- Percebemos as frequencias aparentes:\n",
    "- fx = 0  Hz\n",
    "- fy = -20 Hz\n",
    "- A prevalência barras horizontais se deve ao rebatimento das duas componentes. Com a gx é múltiplo da amostragem a fx ficou zerada. Já a componente y, devido ao rebatimento, também teve sua frequencia afetada, nesse caso possuindo frequencia de 20Hz.\n",
    "\n",
    "\n"
   ]
  },
  {
   "cell_type": "markdown",
   "metadata": {},
   "source": [
    "2. No gráfico com amostragem R=60.\n",
    "- Percebemos as frequencias aparentes:\n",
    "- fx = 60 % 50 = 10 Hz\n",
    "- fy = 70 % 60 = 10 Hz\n",
    "- A prevalência barras diagnoais, revelam a combinação das frequencias aparentes das componentes x e y. A inclinição das barras revela a relação entre as frequências aparentes. Aparentemente é corresponder a uma inclinação de 45 graus. Ambas as frequencias aparentes resultantes são inferiores ao sinal original."
   ]
  },
  {
   "cell_type": "markdown",
   "metadata": {},
   "source": [
    "3. No gráfico com amostragem R=70.\n",
    "- Percebemos as frequencias aparentes:\n",
    "- fx = -20 Hz\n",
    "- fy = 0 Hz\n",
    "- A prevalência barras verticais se deve ao rebatimento da componente y, que múltiplo da amostragem. A frequencia aparente x surge bem menor que o sinal nominal original. O valor negativo revela a diferença de fase."
   ]
  },
  {
   "cell_type": "markdown",
   "metadata": {},
   "source": [
    "4. No gráfico com amostragem R=80.\n",
    "\n",
    "- Percebemos as frequencias aparentes:\n",
    "- fx = -30 Hz\n",
    "- fy = -20 Hz\n",
    "A prevalência de padrões diagonais é produto dos valores resultantes do rebatimento das componentes x e y. A inclinação da diagnal se deve a relação entre as frequencias aparentes. O valor negativo revela a diferença de fases.\n"
   ]
  },
  {
   "cell_type": "markdown",
   "metadata": {},
   "source": [
    "5. No gráfico com amostragem R=700\n",
    "- Nesse caso, como a frequencia de amostragem é suficiente para amostrar o sinal original. A imagem do gráfico reflete o sinal da melhor forma."
   ]
  }
 ],
 "metadata": {
  "kernelspec": {
   "display_name": "Python 3 (ipykernel)",
   "language": "python",
   "name": "python3"
  },
  "language_info": {
   "codemirror_mode": {
    "name": "ipython",
    "version": 3
   },
   "file_extension": ".py",
   "mimetype": "text/x-python",
   "name": "python",
   "nbconvert_exporter": "python",
   "pygments_lexer": "ipython3",
   "version": "3.7.13"
  }
 },
 "nbformat": 4,
 "nbformat_minor": 2
}
