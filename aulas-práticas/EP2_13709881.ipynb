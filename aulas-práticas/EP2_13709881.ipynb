{
 "cells": [
  {
   "cell_type": "markdown",
   "metadata": {
    "slideshow": {
     "slide_type": "slide"
    }
   },
   "source": [
    "## Tarefa Prática 2: Representações em Espaços Vetoriais\n",
    "\n",
    "### Nome: Diogo José Costa Alve\n",
    "\n",
    "### N⁰ USP: 13709881\n",
    "\n",
    "Nessa tarefa exploraremos as transformações resultantes de mudar a base de representação de vetores em um espaço vetorial. "
   ]
  },
  {
   "cell_type": "markdown",
   "metadata": {
    "slideshow": {
     "slide_type": "slide"
    }
   },
   "source": [
    "### Revisão do conceito de base\n",
    "\n",
    "Uma *base* de um espaço vetorial $V$ é um conjunto $S$ em $V$ que tem as duas propriedades a seguir:\n",
    "\n",
    "- $S$ é um *conjunto gerador* para $V$, ou seja, $S$ permite representar qualquer $x\\in V$ através de uma equação\n",
    "$$x=\\sum_{i=0}^{K-1}a_iv_i$$\n",
    "onde $a_i$ são escalares e $v_i\\in S,\\ \\forall i$."
   ]
  },
  {
   "cell_type": "markdown",
   "metadata": {
    "slideshow": {
     "slide_type": "subslide"
    }
   },
   "source": [
    "- $S$ é *linearmente independente*, ou seja, não existem vetores em $S$ \"redundantes\"; em matematiquês isso equivale a dizer que qualquer sistema da forma\n",
    "$$\\sum_{i=0}^{K-1}a_iv_i=0$$\n",
    "com $v_i\\in S$ só admite a solução trivial $a_i=0,\\ \\forall i$.\n",
    "\n",
    "Se $S$ é uma base finita para $V$, o tamanho $N=|S|$ de $S$ é denominado **dimensão** de $V$ (e é possível provar que qualquer outra base de $V$ também possui exatamente $N$ elementos)."
   ]
  },
  {
   "cell_type": "markdown",
   "metadata": {
    "slideshow": {
     "slide_type": "subslide"
    }
   },
   "source": [
    "__Exemplo:__ a base canônica de $\\mathbb{R}^N$ ou $\\mathbb{C}^N$ é formada pelos vetores $e_i=\\left(0,\\ldots,0,\\overbrace{1}^{i},0,\\ldots,0\\right)$, que são geradores desses espaços (por construção), e linearmente independentes, pois $\\displaystyle\\sum_{i=0}^{K-1}a_ie_i=(a_0,a_1,\\ldots,a_{N-1})=(0,0,\\ldots,0)$ implica imediatamente $a_i=0,\\ \\forall i$.\n",
    "\n",
    "Uma propriedade importante dessa base é que ela é *ortogonal*, ou seja, que $(e_i,e_j)=\\sum_{k=0}^{N-1}(e_i)_k(e_j)_k=0,\\ \\forall i\\neq j$."
   ]
  },
  {
   "cell_type": "markdown",
   "metadata": {
    "slideshow": {
     "slide_type": "slide"
    }
   },
   "source": [
    "### Bases e ortogonalidade\n",
    "\n",
    "Em um espaço $N$ dimensional, qualquer conjunto ortogonal de $N$ vetores não-nulos é necessariamente uma base. Isso decorre do fato de que se $S=\\{v_0,v_1,\\ldots,v_{N-1}\\}$ com $v_i\\neq 0,\\ \\forall i$ e $(v_i,v_j)=0,\\ \\forall v_i,v_j\\in S,\\ i\\neq j$, então o sistema\n",
    "$\\displaystyle\\sum_{i=0}^{K-1}a_iv_i=0$ pode ser resolvido fazendo produtos internos com cada $v_j$:\n",
    "$$\\displaystyle\\left(\\sum_{i=0}^{K-1}a_iv_i,v_j\\right) = \\sum_{i=0}^{K-1}a_i(v_i,v_j) = a_j(v_j,v_j) = 0,$$\n",
    "onde o somatório desaparece porque $(v_i,v_j)=0$ para todo $i\\neq j$, e como $(v_j,v_j)=\\|v_j\\|^2\\neq 0$ segue que $a_j=0$ (esse argumento vale $\\forall j$)."
   ]
  },
  {
   "cell_type": "markdown",
   "metadata": {
    "slideshow": {
     "slide_type": "slide"
    }
   },
   "source": [
    "### Mudanças de base\n",
    "\n",
    "Se $S$ é uma base qualquer para $V$, temos uma garantia de que é possível representar qualquer $x\\in V$ como $x=\\displaystyle\\sum_{i=0}^{K-1}a_iv_i$ (Eq. I). Uma pergunta razoável é: \"como encontrar os $a_i$'s?\"."
   ]
  },
  {
   "cell_type": "markdown",
   "metadata": {
    "slideshow": {
     "slide_type": "subslide"
    }
   },
   "source": [
    "Uma solução muito simples existe quando $S$ é uma base ortogonal: nesse caso, podemos proceder outra vez por eliminação, fazendo  produtos internos da Eq. I com cada $v_j$:\n",
    "$$(x,v_j) = \\left(\\sum_{i=0}^{K-1}a_iv_i,v_j\\right) = \\sum_{i=0}^{K-1}a_i(v_i,v_j) = a_j(v_j,v_j),$$\n",
    "de onde segue que\n",
    "$$a_j=\\frac{(x,v_j)}{(v_j,v_j)}$$\n",
    "(observe que como $S$ é base, $0\\not\\in S$ e portanto $(v_j,v_j)=\\|v_j\\|^2\\neq 0,\\ \\forall v_j\\in S$)."
   ]
  },
  {
   "cell_type": "markdown",
   "metadata": {
    "slideshow": {
     "slide_type": "slide"
    }
   },
   "source": [
    "#### Dependências dessa tarefa"
   ]
  },
  {
   "cell_type": "code",
   "execution_count": 8,
   "metadata": {
    "slideshow": {
     "slide_type": "fragment"
    }
   },
   "outputs": [],
   "source": [
    "import math as m\n",
    "import math\n",
    "import numpy as np"
   ]
  },
  {
   "cell_type": "markdown",
   "metadata": {
    "slideshow": {
     "slide_type": "slide"
    }
   },
   "source": [
    "#### Exercício 1: Considere o conjunto $S=\\{v_1,v_2,v_3\\}\\subset\\mathbb{R}^3$ com $v_1=(1,1,0)$, $v_2=(-1,1,1)$ e $v_3=(1,-1,2)$.\n",
    "\n",
    "(a) Escreva um código que verifique que $S$ é ortogonal com respeito ao produto interno canônico $\\displaystyle(x,y)=\\sum_{i=0}^2x_iy_i$. Como $|S|=3$, isso mostrará que $S$ é uma base para $\\mathbb{R}^3$."
   ]
  },
  {
   "cell_type": "code",
   "execution_count": 9,
   "metadata": {
    "slideshow": {
     "slide_type": "fragment"
    }
   },
   "outputs": [
    {
     "name": "stdout",
     "output_type": "stream",
     "text": [
      "([1. 1. 0.],[-1.  1.  1.])=0.0 \n",
      "([1. 1. 0.],[ 1. -1.  2.])=0.0 \n",
      "([-1.  1.  1.],[1. 1. 0.])=0.0 \n",
      "([-1.  1.  1.],[ 1. -1.  2.])=0.0 \n",
      "([ 1. -1.  2.],[1. 1. 0.])=0.0 \n",
      "([ 1. -1.  2.],[-1.  1.  1.])=0.0 \n",
      "S é uma base ortogonal: True\n"
     ]
    }
   ],
   "source": [
    "# Exercício 1(a)\n",
    "# Dicas: use sempre arrays do numpy com valores float,\n",
    "# por exemplo v = np.array([[1.,0.],[0.,1.]]) ou v = np.array([[1,0],[0,1]],dtype=float);\n",
    "# use a função np.inner(x,y) para computar (x,y),\n",
    "# e o comando \"assert np.linalg.norm(z)<1e-12\" para checar se ||z||=0.\n",
    "\n",
    "S = np.array([[1,1,0],[-1,1,1],[1,-1,2]], dtype=float)\n",
    "quase_zero = 1e-12\n",
    "\n",
    "eh_ortogonal = True \n",
    "\n",
    "# Verifica definição\n",
    "for i in range(len(S)):\n",
    "    if (S[i] == [0,0,0]).all():\n",
    "        eh_ortogonal = False\n",
    "        print('Contém vetor nulo, portanto não é uma base')\n",
    "\n",
    "# Verifica se todos os pares são ortogonais entre si        \n",
    "for i in range(len(S)):\n",
    "    for j in range(len(S)):\n",
    "        if i != j:\n",
    "            va = S[i]\n",
    "            vb = S[j]\n",
    "            inner = np.inner(va, vb) \n",
    "            eh_ortogonal = eh_ortogonal and (inner < quase_zero)\n",
    "            print(f'({va},{vb})={inner} ')\n",
    "\n",
    "\n",
    "print(f'S é uma base ortogonal: {eh_ortogonal}')\n"
   ]
  },
  {
   "cell_type": "markdown",
   "metadata": {
    "slideshow": {
     "slide_type": "subslide"
    }
   },
   "source": [
    "(b) Escreva um código que compute (e imprima$^*$) os coeficientes $a_1,a_2,a_3$ da representação de $x=(3,4,5)$ em relação à base $S$, e que verifique que a expressão $\\displaystyle x=\\sum_{k=1}^3a_kv_k=a_1v_1+a_2v_2+a_3v_3$ de fato é satisfeita.\n",
    "\n",
    "$v_1=(1,1,0)$, $v_2=(-1,1,1)$ e $v_3=(1,-1,2)$\n",
    "\n",
    "$^*$ em todas as questões espera-se que seu código imprima os vetores e coeficientes computados."
   ]
  },
  {
   "cell_type": "code",
   "execution_count": 10,
   "metadata": {
    "slideshow": {
     "slide_type": "fragment"
    }
   },
   "outputs": [
    {
     "name": "stdout",
     "output_type": "stream",
     "text": [
      "a=(3.5,2.0,1.5)\n",
      "verificando : True\n"
     ]
    }
   ],
   "source": [
    "# Exercício 1(b)\n",
    "# Essa foi a primeira implentação, fazer assim me deixa mais seguro. \n",
    "x = np.array([3,4,5], dtype=float)\n",
    "\n",
    "a0 = np.inner(x, S[0]) / np.inner(S[0],S[0])\n",
    "a1 = np.inner(x, S[1]) / np.inner(S[1],S[1])\n",
    "a2 = np.inner(x, S[2]) / np.inner(S[2],S[2])\n",
    "\n",
    "print(f'a=({a0},{a1},{a2})')\n",
    "\n",
    "print(f'verificando : {(a0*S[0] + a1*S[1] + a2*S[2] == x).all()}')"
   ]
  },
  {
   "cell_type": "code",
   "execution_count": 11,
   "metadata": {},
   "outputs": [
    {
     "name": "stdout",
     "output_type": "stream",
     "text": [
      "a=(3.5,2.0,1.5)\n"
     ]
    }
   ],
   "source": [
    "# Com definição de ak\n",
    "a0 = np.inner(x, S[0]) / np.inner(S[0],S[0])\n",
    "a1 = np.inner(x, S[1]) / np.inner(S[1],S[1])\n",
    "a2 = np.inner(x, S[2]) / np.inner(S[2],S[2])\n",
    "print(f'a=({a0},{a1},{a2})')"
   ]
  },
  {
   "cell_type": "code",
   "execution_count": 12,
   "metadata": {},
   "outputs": [
    {
     "name": "stdout",
     "output_type": "stream",
     "text": [
      "a=[3.5 2.  1.5]\n",
      " a[0]*S[0] + a[1]*S[1] + a[2]*S[2] = [3. 4. 5.]\n",
      "verificando : True\n"
     ]
    }
   ],
   "source": [
    "# Segunda implementação (deixando as duas porque não sei a que vai ser mais útil na frente ainda)\n",
    "a = np.zeros(3)\n",
    "for i in range(len(S)):\n",
    "    a[i] = np.inner(x, S[i]) / np.inner(S[i],S[i])\n",
    "    \n",
    "print(f'a={a}')\n",
    "print(f' a[0]*S[0] + a[1]*S[1] + a[2]*S[2] = {a[0]*S[0] + a[1]*S[1] + a[2]*S[2]}')\n",
    "print(f'verificando : {(a[0]*S[0] + a[1]*S[1] + a[2]*S[2] == x).all()}')"
   ]
  },
  {
   "cell_type": "code",
   "execution_count": 14,
   "metadata": {},
   "outputs": [
    {
     "name": "stdout",
     "output_type": "stream",
     "text": [
      "a=[3.5 2.  1.5]\n"
     ]
    }
   ],
   "source": [
    "# Terceira implementação (tentano resolver com o np.solve)\n",
    "# Atenção apenas com a maneira de descrever os expoentes, é diferente do formato anterior. Cada array é uma variável.\n",
    "# Com np.linalg.solve\n",
    "input = np.array([[1,-1,1], [1,1,-1],[0,1,2]])\n",
    "x = np.array([3,4,5])\n",
    "a = np.linalg.solve(input, x)\n",
    "print(f'a={a}')"
   ]
  },
  {
   "cell_type": "markdown",
   "metadata": {
    "slideshow": {
     "slide_type": "subslide"
    }
   },
   "source": [
    "(c) Escreva um código que compute os vetores *normalizados* $S'=\\{v'_1,v'_2,v'_3\\}$ onde $v'_i=\\frac{v_i}{\\|v_i\\|}$, e depois compute os coeficientes $a'_1,a'_2,a'_3$ da representação de $x=(3,4,5)$ em relação à base $S'$, verificando que a expressão $x=a'_1v'_1+a'_2v'_2+a'_3v'_3$ de fato é satisfeita.\n",
    "\n",
    "(Obs: uma base ortogonal e normalizada é chamada de *base ortonormal*)."
   ]
  },
  {
   "cell_type": "code",
   "execution_count": 15,
   "metadata": {
    "scrolled": true,
    "slideshow": {
     "slide_type": "fragment"
    }
   },
   "outputs": [
    {
     "name": "stdout",
     "output_type": "stream",
     "text": [
      "an=(4.949747468305832,3.464101615137755,3.6742346141747673)\n",
      "verificando : True\n"
     ]
    },
    {
     "data": {
      "text/plain": [
       "array([3., 4., 5.])"
      ]
     },
     "execution_count": 15,
     "metadata": {},
     "output_type": "execute_result"
    }
   ],
   "source": [
    "# Exercício 1(c)\n",
    "# S_normalizado = \n",
    "S = np.array([[1,1,0],[-1,1,1],[1,-1,2]], dtype=float)\n",
    "Sn = [i/np.linalg.norm(i) for i in S]\n",
    "\n",
    "an0 = np.inner(x, Sn[0])\n",
    "an1 = np.inner(x, Sn[1])\n",
    "an2 = np.inner(x, Sn[2])\n",
    "\n",
    "print(f'an=({an0},{an1},{an2})')\n",
    "\n",
    "print(f'verificando : {np.isclose(an0*Sn[0] + an1*Sn[1] + an2*Sn[2], x).all()}')\n",
    "\n",
    "an0*Sn[0] + an1*Sn[1] + an2*Sn[2]"
   ]
  },
  {
   "cell_type": "markdown",
   "metadata": {
    "slideshow": {
     "slide_type": "subslide"
    }
   },
   "source": [
    "(d) Escreva um código que verifique que $\\|x\\|^2=\\|a'\\|^2$ (ou equivalentemente $x_1^2+x_2^2+x_3^2=a_1'^2+a_2'^2+a_3'^2$).\n",
    "\n",
    "Esse resultado é conhecido como *Equação de Parseval*, que estabelece que as representações $(x_1,x_2,x_3)$ e $(a'_1,a'_2,a'_3)$ têm o mesmo \"tamanho\" (e assim a transformação $x\\mapsto a'$ é uma *isometria*)."
   ]
  },
  {
   "cell_type": "code",
   "execution_count": 16,
   "metadata": {
    "scrolled": true,
    "slideshow": {
     "slide_type": "fragment"
    }
   },
   "outputs": [
    {
     "name": "stdout",
     "output_type": "stream",
     "text": [
      "energiaX=50, energia_an=49.99999999999999\n"
     ]
    }
   ],
   "source": [
    "# Exercício 1(d)\n",
    "energiaX = np.sum([i**2 for i in x])\n",
    "energia_an = an0**2 + an1**2 + an2**2\n",
    "\n",
    "print(f'energiaX={energiaX}, energia_an={energia_an}')\n"
   ]
  },
  {
   "cell_type": "markdown",
   "metadata": {
    "slideshow": {
     "slide_type": "slide"
    }
   },
   "source": [
    "#### Exercício 2: Considere o conjunto $S=\\{E_0,E_1,E_2,E_3\\}$ onde $E_k\\in\\mathbb{C}^4$ é o vetor definido por $$(E_k)_n=e^{i2\\pi kn/4},\\ n=0,1,2,3.$$ Veremos que esse conjunto é ortogonal, e portanto $S$ é uma base de $\\mathbb{C}^4$.\n",
    "\n",
    "(a) Escreva um código que compute os vetores acima, e use a mesma estratégia do Exercício 1(a) para verificar computacionalmente que esses vetores são de fato ortogonais em relação ao produto interno canônico $\\displaystyle(x,y)=\\sum_{i=0}^3x_i\\overline{y_i}$."
   ]
  },
  {
   "cell_type": "code",
   "execution_count": 17,
   "metadata": {},
   "outputs": [
    {
     "name": "stdout",
     "output_type": "stream",
     "text": [
      "S é uma base ortogonal: True\n"
     ]
    }
   ],
   "source": [
    "N=4\n",
    "t = np.arange(0,1,1/N)\n",
    "E = np.exp(1j * 2 * math.pi * t)\n",
    "def E(k):\n",
    "    return np.exp(1j * 2 * math.pi * t * k)\n",
    "\n",
    "S = [E(0), E(1), E(2), E(3)]\n",
    "eh_ortogonal = True\n",
    "\n",
    "for i in range(len(S)):\n",
    "    if (S[i] == [0,0,0,0]).all():\n",
    "        eh_ortogonal = False\n",
    "        print('Contém vetor nulo, portanto não é uma base')\n",
    "    \n",
    "for i in range(len(S)):\n",
    "    for j in range(len(S)):\n",
    "        if i != j:\n",
    "            va = S[i]\n",
    "            vb = S[j]\n",
    "            inner = np.inner(va, np.conjugate(vb)) \n",
    "            eh_ortogonal = eh_ortogonal and (inner < quase_zero)\n",
    "#             print(f'({va},{vb})={inner} ')\n",
    "\n",
    "\n",
    "print(f'S é uma base ortogonal: {eh_ortogonal}')"
   ]
  },
  {
   "cell_type": "code",
   "execution_count": null,
   "metadata": {
    "slideshow": {
     "slide_type": "fragment"
    }
   },
   "outputs": [],
   "source": [
    "# Exercício 2(a)\n",
    "# Dica: compute os produtos internos (x,y) como np.inner(x,np.conjugate(y))\n",
    "# import math\n",
    "# N=4\n",
    "# t = np.arange(0,1,1/N)\n",
    "# E = np.exp(1j * 2 * math.pi * t)\n",
    "# E\n",
    "\n",
    "# Essa aqui foi a primeira implementação, tabulando o E... Refiz o código usando um gerador de E. Na célula de cima.\n",
    "S = np.array([[1,1,1,1],[1,1j,-1,-1j],[1,-1,1,-1],[1,-1j,-1,1j]])\n",
    "quase_zero = 1e-12\n",
    "\n",
    "eh_ortogonal = True\n",
    "\n",
    "for i in range(len(S)):\n",
    "    if (S[i] == [0,0,0,0]).all():\n",
    "        eh_ortogonal = False\n",
    "        print('Contém vetor nulo, portanto não é uma base')\n",
    "    \n",
    "for i in range(len(S)):\n",
    "    for j in range(len(S)):\n",
    "        if i != j:\n",
    "            va = S[i]\n",
    "            vb = S[j]\n",
    "            inner = np.inner(va, np.conjugate(vb)) \n",
    "            eh_ortogonal = eh_ortogonal and (inner < quase_zero)\n",
    "            print(f'({va},{vb})={inner} ')\n",
    "\n",
    "\n",
    "print(f'S é uma base ortogonal: {eh_ortogonal}')"
   ]
  },
  {
   "cell_type": "markdown",
   "metadata": {
    "slideshow": {
     "slide_type": "subslide"
    }
   },
   "source": [
    "(b) Use a mesma estratégia do Exercício 1(b) para escrever $v=(1,5,-2,3)$ como combinação linear dos elementos de $S$, ou seja, escreva um código para computar os coeficientes $a_k$ tais que $\\displaystyle v=\\sum_{k=0}^3a_kE_k$ e verificar automaticamente essa equação."
   ]
  },
  {
   "cell_type": "code",
   "execution_count": 18,
   "metadata": {
    "slideshow": {
     "slide_type": "fragment"
    }
   },
   "outputs": [
    {
     "name": "stdout",
     "output_type": "stream",
     "text": [
      "a=((1.75+0j),(0.7499999999999999-0.5j),(-2.25-5.51091059616309e-16j),(0.7500000000000002+0.5000000000000002j))\n",
      "a0*S[0] + a1*S[1] + a2*S[2] + a3*S[3] = [ 1.-3.33066907e-16j  5.-2.22044605e-16j -2.+1.66533454e-16j\n",
      "  3.+4.44089210e-16j]\n",
      "verificando : True\n"
     ]
    }
   ],
   "source": [
    "# Exercício 2(b)\n",
    "# Dica: use somente vetores numpy complexos, fazendo v = np.array(...,dtype=complex)\n",
    "\n",
    "x = np.array([1,5,-2,3], dtype=complex)\n",
    "\n",
    "a0 = np.inner(x, np.conjugate(S[0])) / np.inner(S[0],np.conjugate(S[0]))\n",
    "a1 = np.inner(x, np.conjugate(S[1])) / np.inner(S[1],np.conjugate(S[1]))\n",
    "a2 = np.inner(x, np.conjugate(S[2])) / np.inner(S[2],np.conjugate(S[2]))\n",
    "a3 = np.inner(x, np.conjugate(S[3])) / np.inner(S[3],np.conjugate(S[3]))\n",
    "\n",
    "print(f'a=({a0},{a1},{a2},{a3})')\n",
    "print(f'a0*S[0] + a1*S[1] + a2*S[2] + a3*S[3] = {a0*S[0] + a1*S[1] + a2*S[2] + a3*S[3]}')\n",
    "print(f'verificando : {np.isclose(a0*S[0] + a1*S[1] + a2*S[2] + a3*S[3], x).all()}')\n"
   ]
  },
  {
   "cell_type": "markdown",
   "metadata": {
    "slideshow": {
     "slide_type": "subslide"
    }
   },
   "source": [
    "(c) Use a mesma estratégia do Exercício 1(c) para normalizar os vetores $E_k$ (obtendo vetores $E'_k$ e uma base ortonormal $S'$) e use-os para escrever $v=(1,5,-2,3)$ como combinação linear dos elementos de $S'$, ou seja, escreva um código para computar os coeficientes $a'_k$ tais que $\\displaystyle v=\\sum_{k=0}^3a'_kE'_k$ e verificar automaticamente essa equação."
   ]
  },
  {
   "cell_type": "code",
   "execution_count": null,
   "metadata": {
    "slideshow": {
     "slide_type": "fragment"
    }
   },
   "outputs": [],
   "source": [
    "# Exercício 2(c)\n",
    "# S = np.array([[1,1,1,1],[1,1j,-1,-1j],[1,-1,1,-1],[1,-1j,-1,1j]])\n",
    "Sn = [i/np.linalg.norm(i) for i in S]\n",
    "\n",
    "an0 = np.inner(x, np.conjugate(Sn[0]))\n",
    "an1 = np.inner(x, np.conjugate(Sn[1]))\n",
    "an2 = np.inner(x, np.conjugate(Sn[2]))\n",
    "an3 = np.inner(x, np.conjugate(Sn[3]))\n",
    "\n",
    "print(f'an=({an0},{an1},{an2}, {an3})')\n",
    "\n",
    "print(f'verificando : {np.isclose(an0*Sn[0] + an1*Sn[1] + an2*Sn[2] + an3*Sn[3], x).all()}')\n",
    "\n",
    "an0*Sn[0] + an1*Sn[1] + an2*Sn[2] + an3*Sn[3]\n"
   ]
  },
  {
   "cell_type": "markdown",
   "metadata": {
    "slideshow": {
     "slide_type": "subslide"
    }
   },
   "source": [
    "(d) Use a mesma estratégia do Exercício 1(d) para verificar que $\\|v\\|^2=\\|a'\\|^2$."
   ]
  },
  {
   "cell_type": "code",
   "execution_count": null,
   "metadata": {
    "slideshow": {
     "slide_type": "fragment"
    }
   },
   "outputs": [],
   "source": [
    "# Exercício 2(d)\n",
    "energiaX = np.sum([i**2 for i in x])\n",
    "energia_an = np.abs(an0)**2 + np.abs(an1)**2 + np.abs(an2)**2 + np.abs(an3)**2\n",
    "\n",
    "print(f'energiaX={energiaX}, energia_an={energia_an}')"
   ]
  },
  {
   "cell_type": "code",
   "execution_count": null,
   "metadata": {},
   "outputs": [],
   "source": []
  }
 ],
 "metadata": {
  "celltoolbar": "Slideshow",
  "kernelspec": {
   "display_name": "Python 3 (ipykernel)",
   "language": "python",
   "name": "python3"
  },
  "language_info": {
   "codemirror_mode": {
    "name": "ipython",
    "version": 3
   },
   "file_extension": ".py",
   "mimetype": "text/x-python",
   "name": "python",
   "nbconvert_exporter": "python",
   "pygments_lexer": "ipython3",
   "version": "3.7.13"
  }
 },
 "nbformat": 4,
 "nbformat_minor": 2
}
