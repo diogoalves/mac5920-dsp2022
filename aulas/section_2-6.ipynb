{
 "cells": [
  {
   "cell_type": "markdown",
   "metadata": {
    "slideshow": {
     "slide_type": "slide"
    }
   },
   "source": [
    "# MAC0317/MAC5920\n",
    "## Introdução ao Processamento de Sinais Digitais\n",
    "### Seção 2.6: Transformada Rápida de Fourier (FFT)"
   ]
  },
  {
   "cell_type": "code",
   "execution_count": 1,
   "metadata": {
    "slideshow": {
     "slide_type": "skip"
    }
   },
   "outputs": [],
   "source": [
    "import math as m\n",
    "import numpy as np\n",
    "from time import time\n",
    "import matplotlib.pyplot as plt"
   ]
  },
  {
   "cell_type": "markdown",
   "metadata": {
    "slideshow": {
     "slide_type": "slide"
    }
   },
   "source": [
    "- A FFT é uma maneira eficiente de implementar a DFT, explorando a estrutura da matriz $F$;\n",
    "- Forma atual se deve a Cooley & Tuckey (1966), mas partes da construção já existiam;\n",
    "- A DFT implementada de forma ingênua tem complexidade $\\mathcal{O}(N^2)$, pois cada coeficiente $X_k=\\displaystyle\\sum_{n=0}^{N-1}x_ne^{-i2\\pi kn/N}$ requer $2N-1$ operações ($N$ multiplicações e $N-1$ somas), portanto para calcular $X=DFT(x)\\in\\mathbb{C}^N$ são necessárias $2N^2-N$ operações.\n",
    "- É possível explorar as simetrias da DFT quando $x$ é real, como por exemplo $X_{N-k}=\\overline{X_k},\\ k=1,\\ldots,\\frac{N}{2}-1$, mas o custo continua proporcional a $N^2$."
   ]
  },
  {
   "cell_type": "markdown",
   "metadata": {
    "slideshow": {
     "slide_type": "subslide"
    }
   },
   "source": [
    "A ideia simples do cálculo da DFT por recursão reside em considerar $N=2^B$\n",
    "e particionar o vetor $x=(x_0,x_1,\\ldots,x_{N-1})$ em duas partes:\n",
    "$$x_{\\mbox{par}}=(x_0,x_2,\\ldots,x_{N-2})$$\n",
    "e\n",
    "$$x_{\\mbox{ímpar}}=(x_1,x_3,\\ldots,x_{N-1}),$$\n",
    "e calcular separadamente as DFTs de cada um destes vetores, combinando os resultados. Esta estratégia é conhecida como *Divisão e Conquista*.\n"
   ]
  },
  {
   "cell_type": "markdown",
   "metadata": {
    "slideshow": {
     "slide_type": "slide"
    }
   },
   "source": [
    "Note que\n",
    "$$\\begin{array}[t]{rl}\n",
    "X_k&=\\displaystyle\\sum_{n=0}^{N-1}x_ne^{-i2\\pi k\\frac{n}{N}}\\\\\n",
    "&=\\displaystyle\\sum_{n\\ \\mbox{par}}x_ne^{-i2\\pi k\\frac{n}{N}}+\\sum_{n\\ \\mbox{ímpar}}x_ne^{-i2\\pi k\\frac{n}{N}}\\\\\n",
    "&=\\displaystyle\\sum_{n=0}^{N/2-1}x_{2n}e^{-i2\\pi k\\frac{2n}{N}}+\\sum_{n=0}^{N/2-1}x_{2n+1}e^{-i2\\pi k\\frac{2n+1}{N}}\\\\\n",
    "&=\\displaystyle\\sum_{n=0}^{N/2-1}{(x_{\\mbox{par}})}_{n}e^{-i2\\pi k\\frac{n}{N/2}}+e^{-i2\\pi k\\frac{1}{N}}\\sum_{n=0}^{N/2-1}{(x_{\\mbox{ímpar}})}_{n}e^{-i2\\pi k\\frac{n}{N/2}}\\\\\n",
    "&=(X_{\\mbox{par}})_k+e^{-i2\\pi k\\frac{1}{N}}(X_{\\mbox{ímpar}})_k\n",
    "\\end{array}$$\n"
   ]
  },
  {
   "cell_type": "markdown",
   "metadata": {
    "slideshow": {
     "slide_type": "slide"
    }
   },
   "source": [
    "Na expressão\n",
    "$$\\begin{array}{ll}\n",
    "DFT(x)_k&=X_k=(X_{\\mbox{par}})_k+e^{-i2\\pi k\\frac{1}{N}}(X_{\\mbox{ímpar}})_k\\\\\n",
    "&=DFT(x_{\\mbox{par}})_k+e^{-i2\\pi k\\frac{1}{N}}DFT(x_{\\mbox{ímpar}})_k,\\end{array}$$\n",
    "as duas últimas DFTs são periódicas com período $\\frac{N}{2}$, e portanto para calcular todos os valores $X_k$ com $k=0,1,\\ldots,N-1$, basta obter\n",
    "$$\\left.\\begin{array}{ll}\n",
    "\\mbox{DFT}(x_{\\mbox{par}})_k\\\\\n",
    "\\mbox{DFT}(x_{\\mbox{ímpar}})_k\n",
    "\\end{array}\\right\\}\\ \\mbox{para}\\ k=0,1,\\ldots,\\frac{N}{2}-1.$$\n",
    "Essa é a forma recursiva da implementação da FFT."
   ]
  },
  {
   "cell_type": "markdown",
   "metadata": {
    "slideshow": {
     "slide_type": "slide"
    }
   },
   "source": [
    "### FFT(x) para $|x|=N=2^B$\n",
    "> base: se $x\\in\\mathbb{C}^1$, devolva $X=x$\n",
    ">\n",
    "> calcule $X_{\\mbox{par}}=FFT([x_0,x_2,\\ldots,x_{N-2}])$\n",
    ">\n",
    "> calcule $X_{\\mbox{ímpar}}=FFT([x_1,x_3,\\ldots,x_{N-1}])$\n",
    ">\n",
    "> para $k=0,\\ldots,N-1$ faça\n",
    ">> $X_k = (X_{\\mbox{par}})_{k \\% N/2}+e^{-i2\\pi k\\frac{1}{N}}(X_{\\mbox{ímpar}})_{k \\% N/2}$\n",
    ">\n",
    "> devolva X"
   ]
  },
  {
   "cell_type": "markdown",
   "metadata": {
    "slideshow": {
     "slide_type": "slide"
    }
   },
   "source": [
    "Sendo $C(N/2)$ o custo de computar cada FFT dos subvetores $X_{\\mbox{par}}$ e $X_{\\mbox{ímpar}}$, e levando em consideração que o custo de combinar as soluções é proporcional a $N$ (uma multiplicação e uma soma para cada coeficiente $X_k$), o custo da chamada FFT(x) será\n",
    "$$\\begin{array}{rl}\n",
    "C(N) &= 2C(N/2)+\\alpha N\\quad\\quad(\\alpha\\ \\mbox{constante})\\\\\n",
    "&= 2\\left(2C(N/4)+\\alpha N/2\\right) +\\alpha N= 4C(N/4)+2\\alpha N\\\\\n",
    "&= 4\\left(2C(N/8)+\\alpha N/4\\right)+2\\alpha N= 8C(N/8)+3\\alpha N = 2^3C(N/2^3)+3\\alpha N\\\\\n",
    "&= 2^4C(N/2^4)+4\\alpha N\\\\\n",
    "&=\\quad\\cdots\\quad\\mbox{(depois de $B\\ $ passos)}\\quad\\cdots\\\\\n",
    "&=2^B C(N/2^B)+B\\alpha N\\\\\n",
    "&=NC(1)+\\alpha NB\\\\\n",
    "&=\\beta N+\\alpha N\\log N \\quad\\quad(\\beta\\ \\mbox{constante})\\\\\n",
    "&={\\mathcal{O}}(N\\log N)\n",
    "\\end{array}$$\n"
   ]
  },
  {
   "cell_type": "markdown",
   "metadata": {
    "slideshow": {
     "slide_type": "slide"
    }
   },
   "source": [
    "### Implementação em Python da DFT ingênua"
   ]
  },
  {
   "cell_type": "code",
   "execution_count": 26,
   "metadata": {
    "slideshow": {
     "slide_type": "slide"
    }
   },
   "outputs": [
    {
     "name": "stdout",
     "output_type": "stream",
     "text": [
      "Teste OK\n"
     ]
    }
   ],
   "source": [
    "def DFTingenua(x):\n",
    "    N = len(x); \n",
    "    n = np.array(range(N))\n",
    "    X = np.ndarray(N, dtype=complex)\n",
    "    for k in range(N):\n",
    "        X[k] = sum(x*np.exp(-1j*2*m.pi*k*n/N))\n",
    "    return X\n",
    "\n",
    "# teste simples: DFT(Dirac)=[1,1,...,1]\n",
    "# x = [ 1, 0, 0, 0 ]\n",
    "# X = DFTingenua(x)\n",
    "# print(X)\n",
    "\n",
    "def dft(x):\n",
    "    N = len(x)\n",
    "    n = np.array(range(N))\n",
    "    indices = n.reshape((N,1)) * n\n",
    "    Ek = np.exp(-1j*2*m.pi/N*indices)\n",
    "    X = np.inner(x, Ek)\n",
    "    return X\n",
    "\n",
    "def dft2(x):\n",
    "    N = len(x)\n",
    "    t = np.linspace(0,1,N, endpoint=False)\n",
    "    X = np.ndarray(N, dtype=complex)\n",
    "    for k in range(N):\n",
    "        Ek = np.exp(-1j*2*m.pi*k*t)\n",
    "        X[k] = sum(x * Ek )\n",
    "    return X\n",
    "        \n",
    "\n",
    "def test_fft(dut, N=100, verbose=False):\n",
    "    x = np.random.randn(N)\n",
    "    \n",
    "    golden = np.fft.fft(x)\n",
    "    result = dut(x)\n",
    "    if verbose:\n",
    "        print(golden)\n",
    "        print(result)\n",
    "    \n",
    "    assert np.allclose(golden, result) == True , 'Ihh, falhou!'\n",
    "    print('Teste OK')\n",
    "    \n",
    "test_fft(dft, N=400)"
   ]
  },
  {
   "cell_type": "markdown",
   "metadata": {
    "slideshow": {
     "slide_type": "subslide"
    }
   },
   "source": [
    "### Implementação em Python da FFT"
   ]
  },
  {
   "cell_type": "code",
   "execution_count": 3,
   "metadata": {
    "slideshow": {
     "slide_type": "fragment"
    }
   },
   "outputs": [
    {
     "name": "stdout",
     "output_type": "stream",
     "text": [
      "[1.+0.j 1.+0.j 1.+0.j 1.+0.j]\n"
     ]
    }
   ],
   "source": [
    "def FFT(x):\n",
    "    N = len(x);\n",
    "    # testa se N é potência de 2\n",
    "    if (N & (N-1) != 0):\n",
    "        raise ValueError('Essa FFT só funciona para N potência de 2')\n",
    "        \n",
    "    if N<=1: \n",
    "        return x # base da recursão: N=0,1\n",
    "    \n",
    "    X = np.ndarray(N, dtype=complex)\n",
    "    Xpar = FFT(x[0:N:2])\n",
    "    Ximpar = FFT(x[1:N:2])\n",
    "    \n",
    "    for k in range(N):\n",
    "        X[k] = Xpar[k%(N//2)]+np.exp(-1j*2*m.pi*k/N)*Ximpar[k%(N//2)]\n",
    "    return X\n",
    "\n",
    "# teste simples: DFT(Dirac)=[1,1,...,1]\n",
    "x = [ 1, 0, 0, 0 ]\n",
    "X = FFT(x)\n",
    "print(X)"
   ]
  },
  {
   "cell_type": "markdown",
   "metadata": {
    "slideshow": {
     "slide_type": "subslide"
    }
   },
   "source": [
    "### Comparação de tempos entre DFT e FFT"
   ]
  },
  {
   "cell_type": "code",
   "execution_count": 7,
   "metadata": {
    "slideshow": {
     "slide_type": "fragment"
    }
   },
   "outputs": [
    {
     "name": "stdout",
     "output_type": "stream",
     "text": [
      "Rodando experimento...\n",
      "Pronto!             \n"
     ]
    }
   ],
   "source": [
    "# comparação de tempo\n",
    "N = [2**B for B in np.arange(12)] # tamanhos de vetor\n",
    "TDFT = np.zeros(len(N)) # tempos de execução\n",
    "TFFT = np.zeros(len(N)) # tempos de execução\n",
    "R = 10 # número de repetições para cada N\n",
    "print(\"Rodando experimento...\")\n",
    "for r in range(R):\n",
    "    for i in range(len(N)):\n",
    "        x = np.random.rand(N[i])\n",
    "        t = time(); DFTingenua(x); TDFT[i] += (time()-t)/R\n",
    "        t = time(); FFT(x); TFFT[i] += (time()-t)/R\n",
    "    print(\"{}% completado...\".format(100*(r+1)/R),end=\"\\r\")\n",
    "print(\"Pronto!             \")"
   ]
  },
  {
   "cell_type": "code",
   "execution_count": 8,
   "metadata": {
    "slideshow": {
     "slide_type": "subslide"
    }
   },
   "outputs": [
    {
     "data": {
      "image/png": "[encoded data removed]",
      "text/plain": [
       "<Figure size 1500x500 with 1 Axes>"
      ]
     },
     "metadata": {},
     "output_type": "display_data"
    }
   ],
   "source": [
    "plt.figure(figsize=(15,5))\n",
    "plt.plot(N,TDFT,label=\"DFT\")\n",
    "plt.plot(N,TFFT,label=\"FFT\")\n",
    "plt.title(\"Comparação dos tempos de execução da DFT e FFT\")\n",
    "plt.xlabel(\"Tamanho do vetor de entrada [amostras]\")\n",
    "plt.ylabel(\"tempo de execução [s]\")\n",
    "plt.legend()\n",
    "plt.show()"
   ]
  },
  {
   "cell_type": "code",
   "execution_count": null,
   "metadata": {},
   "outputs": [],
   "source": []
  }
 ],
 "metadata": {
  "celltoolbar": "Slideshow",
  "kernelspec": {
   "display_name": "Python 3 (ipykernel)",
   "language": "python",
   "name": "python3"
  },
  "language_info": {
   "codemirror_mode": {
    "name": "ipython",
    "version": 3
   },
   "file_extension": ".py",
   "mimetype": "text/x-python",
   "name": "python",
   "nbconvert_exporter": "python",
   "pygments_lexer": "ipython3",
   "version": "3.7.13"
  }
 },
 "nbformat": 4,
 "nbformat_minor": 2
}
