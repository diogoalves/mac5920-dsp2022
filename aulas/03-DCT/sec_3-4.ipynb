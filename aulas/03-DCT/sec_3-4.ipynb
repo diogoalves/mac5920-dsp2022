{
 "cells": [
  {
   "cell_type": "markdown",
   "metadata": {
    "slideshow": {
     "slide_type": "slide"
    }
   },
   "source": [
    "# MAC0317/MAC5920\n",
    "## Introdução ao Processamento de Sinais Digitais\n",
    "### Seção 3.4: A Transformada Discreta do Cosseno"
   ]
  },
  {
   "cell_type": "markdown",
   "metadata": {
    "slideshow": {
     "slide_type": "subslide"
    }
   },
   "source": [
    "**Motivação:** eliminar a descontinuidade das \"bordas\" (ou seja, o fato de que, em geral, $x_0 \\neq x_{N-1}$), espelhando a informação e transformando $x = (x_0, x_1, \\dots, x_{N-1})$ em $\\tilde{x} = (x_0, x_1, \\dots, x_{N-1},$ $ x_{N-1}, x_{N-2}, $ $\\dots, x_0)$:\n",
    "\n",
    "$$\n",
    "\t\\tilde{x}_n = \\left\\{\\begin{array}{ll}\n",
    "\t\tx_n & \\text{se } n = 0, 1, \\dots, N-1 \\\\\n",
    "\t\tx_{2N-n-1} & \\text{se } n = N, N+1, \\dots, 2N-1\n",
    "\t\\end{array}\\right.\n",
    "$$"
   ]
  },
  {
   "cell_type": "markdown",
   "metadata": {
    "slideshow": {
     "slide_type": "subslide"
    }
   },
   "source": [
    "A DFT de $\\tilde{x}$ é\n",
    "\n",
    "\\begin{align*}\n",
    "\t\\tilde{X}_k &= \\sum\\limits_{n=0}^{2N-1} \\tilde{x}_n e^{-i2\\pi kn/(2N)}\n",
    "\t= \\sum\\limits_{n=0}^{N-1} x_ne^{-i\\pi kn/N} + \\sum\\limits_{n=N}^{2N-1} x_{2N-n-1}e^{-i\\pi kn/N} \\\\\n",
    "\t&= \\sum\\limits_{n=0}^{N-1} x_ne^{-i\\pi kn/N} + \\sum\\limits_{l=0}^{N-1} x_{N-l-1}e^{-i\\pi k(l+N)/N}\\quad(n\\mapsto l+N)\\\\\n",
    "\t&= \\sum\\limits_{n=0}^{N-1} x_ne^{-i\\pi kn/N} + \\sum\\limits_{m=0}^{N-1} x_me^{-i\\pi k(2N-m-1)/N}\\quad(l\\mapsto N-m-1,\\ \\mbox{inverte}\\ \\Sigma) \\\\\n",
    "\t&= \\sum\\limits_{n=0}^{N-1} x_n(e^{-i\\pi kn/N} + e^{i\\pi k(n+1)/N}e^{-i\\pi k2})\\quad\\quad\\quad(e^{-i\\pi k(2N)/N}=1)\\\\\n",
    "\t&= \\sum\\limits_{n=0}^{N-1} x_n(e^{-i\\pi kn/N} + e^{i\\pi k(n+1)/N}) \\\\\n",
    "\\end{align*}"
   ]
  },
  {
   "cell_type": "markdown",
   "metadata": {
    "slideshow": {
     "slide_type": "subslide"
    }
   },
   "source": [
    "O último termo da equação \n",
    "$$\\tilde{X}_k = \\sum\\limits_{n=0}^{N-1} x_n(e^{-i\\pi kn/N} + e^{i\\pi k(n+1)/N})\n",
    "$$\n",
    "lembra a representação do cosseno como soma de exponenciais complexas\n",
    "$$\\cos(x) = \\frac{e^{ix} + e^{-ix}}{2},$$\n",
    "mas os expoentes não são os mesmos. Para usarmos aquela identidade precisamos *simetrizar* a expressão a partir do ponto médio dos expoentes:\n",
    "$$e^{-i\\pi kn/N} + e^{i\\pi k(n+1)/N} = e^{i\\pi k/(2N)}\n",
    "\\left(e^{-i\\pi k(n + \\frac{1}{2})/N}+e^{i\\pi k(n + \\frac{1}{2})/N}\n",
    "\\right).\n",
    "$$\n",
    "Daí vem \n",
    "\n",
    "\\begin{align*}\n",
    "\t\\tilde{X}_k &= 2e^{i\\pi k/(2N)} \\sum\\limits_{n=0}^{N-1} x_n \\cos\\left(\\pi k (n+\\frac{1}{2})/N\\right) \n",
    "\\end{align*}"
   ]
  },
  {
   "cell_type": "markdown",
   "metadata": {
    "slideshow": {
     "slide_type": "subslide"
    }
   },
   "source": [
    "Calma: isso já é *quase* a DCT...\n",
    "\n",
    "Considere agora os coeficientes $$c_k = 2\\sum\\limits_{n=0}^{N-1} x_n \\cos(\\pi k (n+\\frac{1}{2})/N)$$ (isso é o $\\tilde{X}_k$ sem o termo complexo $e^{i\\pi k/(2N)}$). Temos então que:\n",
    "\n",
    "1. $c_k\\in\\mathbb{R}\\quad\\mbox{sempre que}\\quad x\\in\\mathbb{R}^N$\n",
    "2. $c_{-k} = c_k, \\forall k$\n",
    "3. $c_{k+2N} = -c_k, \\forall k$\n",
    "\n",
    "**Observação:** pelas propriedades (2) e (3) podemos guardar apenas $c=(c_0, c_1, \\dots, c_{N-1})\\in\\mathbb{R}^N$, pois todos os outros $c_k$ se escrevem em função deles. Isso garante a possibilidade de reconstrução exata do vetor $\\tilde{X}\\in\\mathbb{C}^{2N}$.\n",
    "\n",
    "Observe também que de (2) e (3) segue que $c_N=0$, pois\n",
    "$c_N=c_{-N+2N}=-c_{-N}=-c_N\\implies 2c_N=0$."
   ]
  },
  {
   "cell_type": "markdown",
   "metadata": {
    "slideshow": {
     "slide_type": "subslide"
    }
   },
   "source": [
    "A partir do conhecimento de $c\\in\\mathbb{R}^N$ e de sua relação com o vetor $\\tilde{X}\\in\\mathbb{C}^{2N}$ podemos ressintetizar o vetor $\\tilde{x} = (x_0, x_1, \\dots, x_{N-1}, x_{N-1}, \\dots, x_0)$ assim:\n",
    "\n",
    "\\begin{align*}\n",
    "\t\\tilde{x}_n &= \\frac{1}{2N}\\sum\\limits_{k=0}^{2N-1} \\tilde{X}_k e^{i2\\pi kn/(2N)}\n",
    "\t= \\frac{1}{2N}\\sum\\limits_{k=0}^{2N-1} e^{i\\pi k/(2N)} c_k e^{i2\\pi kn/(2N)} \\\\\n",
    "\t&= \\frac{1}{2N}\\left[\\sum\\limits_{k=0}^{N-1}c_k e^{i2\\pi k(n+\\frac{1}{2})/(2N)} + \\sum\\limits_{k=N}^{2N-1}c_k e^{i2\\pi k(n+\\frac{1}{2})/(2N)}\\right] \\quad (k\\mapsto 2N-l-1)\\\\\n",
    "\t&= \\frac{1}{2N}\\left[\\sum\\limits_{k=0}^{N-1}c_k e^{i2\\pi k(n+\\frac{1}{2})/(2N)} + \\sum\\limits_{l=0}^{N-1}c_{2N-l-1} e^{i2\\pi (2N-l-1)(n+\\frac{1}{2})/(2N)}\\right]\\ (\\mbox{inverte}\\ \\Sigma)\\\\\n",
    "\t&= \\frac{1}{2N}\\left[\\sum\\limits_{k=0}^{N-1}c_k e^{i2\\pi k(n+\\frac{1}{2})/(2N)} + \\sum\\limits_{k=1}^{N-1}c_k e^{-i2\\pi k(n+\\frac{1}{2})/(2N)}\\right] \\\\\n",
    "\t&= \\frac{1}{2N}\\left[c_0 + 2\\sum\\limits_{k=1}^{N-1}c_k\\cos(\\pi k(n+\\frac{1}{2})/N)\\right]\n",
    "\\end{align*}"
   ]
  },
  {
   "cell_type": "markdown",
   "metadata": {
    "slideshow": {
     "slide_type": "slide"
    }
   },
   "source": [
    "### Definição 3.4.1: DCT e IDCT\n",
    "\n",
    "A transformada do cosseno do vetor $x\\in\\mathbb{C}^N$ é o vetor $C=DCT(x)\\in\\mathbb{C}^N$ dado pela equação de análise\n",
    "\n",
    "\\begin{align*}\n",
    "\tC_0 &= \\sqrt{\\frac{1}{N}}\\sum\\limits_{m=0}^{N-1} x_m\\cos\\left(\\frac{\\pi 0\\left(m+\\frac{1}{2}\\right)}{N}\\right)\n",
    "\t= \\sqrt{\\frac{1}{N}}\\sum\\limits_{m=0}^{N-1} x_m \\\\\n",
    "\tC_k &= \\sqrt{\\frac{2}{N}}\\sum\\limits_{m=0}^{N-1} x_m\\cos\\left(\\frac{\\pi k\\left(m+\\frac{1}{2}\\right)}{N}\\right), k = 1, 2, \\dots, N-1 \\\\\n",
    "\\end{align*}\n",
    "\n",
    "com a respectiva equação de síntese ($x=IDCT(C)$) dada por\n",
    "\n",
    "\\begin{equation*}\n",
    "\tx_m = \\sqrt{\\frac{1}{N}}C_0 + \\sqrt{\\frac{2}{N}}\\sum\\limits_{k=1}^{N-1}C_k\\cos\\left(\\frac{\\pi\\left(m + \\frac{1}{2}\\right)k}{N}\\right)\n",
    "\\end{equation*}"
   ]
  },
  {
   "cell_type": "code",
   "execution_count": 4,
   "metadata": {},
   "outputs": [
    {
     "name": "stdout",
     "output_type": "stream",
     "text": [
      "Teste passou!\n",
      "Teste passou!\n"
     ]
    }
   ],
   "source": [
    "import numpy as np\n",
    "import math\n",
    "import scipy.fft as fft\n",
    "\n",
    "def dct1(x):\n",
    "    N = len(x)\n",
    "    C = np.zeros(N)\n",
    "    C[0] = np.sqrt(1/N) * np.sum(x)\n",
    "\n",
    "    m = np.arange(0,N,1)\n",
    "    for k in range(1,N):\n",
    "        C[k] = np.sqrt(2/N) * np.sum(x * np.cos(math.pi*k*(m+(1/2))/N))\n",
    "    \n",
    "    return C\n",
    "\n",
    "\n",
    "def idct1(C):\n",
    "    N = len(C)\n",
    "    x = np.zeros(N)\n",
    "    k = np.arange(1,N,1)\n",
    "    for m in range(N):\n",
    "#         x[m] = np.sqrt(1/N)*C[0] + np.sqrt(2/N) * np.sum( np.multiply( C[1:] , np.cos( (math.pi*(m+0.5)*k)/N ) ))\n",
    "        x[m] = np.sqrt(1/N)*C[0] + np.sqrt(2/N) * np.sum( C[1:] * np.cos( (math.pi*(m+0.5)*k)/N ) )\n",
    "\n",
    "    return x\n",
    "\n",
    "# tive que ativar o norm=ortho, dct e idct are scaled by the same overall factor in both directions\n",
    "def test_dct(dut,N=4):\n",
    "    x = np.random.randn(N)\n",
    "    golden = fft.dct(x, norm=\"ortho\")\n",
    "    result = dut(x)\n",
    "    \n",
    "    assert np.allclose(golden,result) == True , f'Teste falhou! \\n{golden}\\n{result}'\n",
    "    print('Teste passou!')\n",
    "\n",
    "def test_idct(dut, N=4):\n",
    "    C = np.random.randn(N)\n",
    "    golden = fft.idct(C, norm='ortho')\n",
    "    result = dut(C)\n",
    "    \n",
    "    assert np.allclose(golden, result) == True, 'Teste falhou!'\n",
    "    print('Teste passou!')\n",
    "    \n",
    "test_dct(dct1, 100)\n",
    "test_idct(idct1, 100)"
   ]
  },
  {
   "cell_type": "markdown",
   "metadata": {
    "slideshow": {
     "slide_type": "subslide"
    }
   },
   "source": [
    "### Formulação matricial da DCT e IDCT\n",
    "\n",
    "A partir da definição da $DCT(x)$ podemos escrever $DCT(x) = \\mathcal{C}_N x$ onde $\\mathcal{C}_N$ é a matriz\n",
    "\n",
    "\\begin{equation*}\n",
    "\t\\begin{pmatrix}\n",
    "\t\t\\sqrt{\\frac{1}{N}} & \\sqrt{\\frac{1}{N}} & \\dots & \\sqrt{\\frac{1}{N}} \\\\\n",
    "\t\t\\sqrt{\\frac{2}{N}}\\cos\\left(\\frac{\\pi\\left(0 + \\frac{1}{2}\\right)}{N}\\right) & \\sqrt{\\frac{2}{N}}\\cos\\left(\\frac{\\pi\\left(1 + \\frac{1}{2}\\right)}{N}\\right) & \\dots & \\sqrt{\\frac{2}{N}}\\cos\\left(\\frac{\\pi\\left((N-1) + \\frac{1}{2}\\right)}{N}\\right) \\\\\n",
    "\t\t\\vdots & \\vdots & \\ddots & \\vdots \\\\\n",
    "\t\t\\sqrt{\\frac{2}{N}}\\cos\\left(\\frac{\\pi(N-1)\\left(0 + \\frac{1}{2}\\right)}{N}\\right) & \\sqrt{\\frac{2}{N}}\\cos\\left(\\frac{\\pi(N-1)\\left(1 + \\frac{1}{2}\\right)}{N}\\right) & \\dots & \\sqrt{\\frac{2}{N}}\\cos\\left(\\frac{\\pi(N-1)\\left((N-1) + \\frac{1}{2}\\right)}{N}\\right) \\\\\n",
    "\t\\end{pmatrix}\n",
    "\\end{equation*}"
   ]
  },
  {
   "cell_type": "markdown",
   "metadata": {
    "slideshow": {
     "slide_type": "subslide"
    }
   },
   "source": [
    "Em outras palavras, a matriz $\\mathcal{C}_N$ possui componentes\n",
    "\\begin{equation*}\n",
    "\t(\\mathcal{C}_N)_{k,m} = \\left\\{\\begin{array}{ll}\n",
    "\t\t\\sqrt{\\frac{1}{N}} & \\text{ se }k = 0 \\\\\n",
    "\t\t\\sqrt{\\frac{2}{N}}\\cos\\left(\\frac{\\pi k\\left(m + \\frac{1}{2}\\right)}{N}\\right) & \\text{ se } k = 1, 2, \\dots, N-1\n",
    "\t\\end{array}\\right.\n",
    "\\end{equation*}\n",
    "**Observe** que essa matriz é indexada nas linhas pela frequência e nas colunas pelo tempo, exatamente como a matriz $F$ da DFT."
   ]
  },
  {
   "cell_type": "code",
   "execution_count": 5,
   "metadata": {},
   "outputs": [
    {
     "name": "stdout",
     "output_type": "stream",
     "text": [
      "Teste passou!\n",
      "Teste passou!\n"
     ]
    }
   ],
   "source": [
    "def build_DCT_base(N=4):\n",
    "    res = np.zeros((N,N))\n",
    "    k = np.arange(1, N, 1).reshape((N-1,1))\n",
    "    m = np.arange(0, N, 1).reshape((1,N))\n",
    "    fatores = k * m\n",
    "    res[0:] = np.sqrt(1/N)\n",
    "    res[1:] = np.sqrt(2/N) * np.cos(math.pi*k*(m+0.5)/N )\n",
    "    return res\n",
    "\n",
    "def dct2(x):\n",
    "    N = len(x)\n",
    "    base = build_DCT_base(N)\n",
    "    res = np.matmul(base, x)\n",
    "    return res\n",
    "\n",
    "def idct2(C):\n",
    "    N = len(C)\n",
    "    base_t = build_DCT_base(N).T\n",
    "    res = np.matmul(base_t, C)\n",
    "    return res\n",
    "\n",
    "test_dct(dct2, 100)\n",
    "test_idct(idct2, 100)\n",
    "\n",
    "\n"
   ]
  },
  {
   "cell_type": "code",
   "execution_count": 24,
   "metadata": {},
   "outputs": [
    {
     "name": "stdout",
     "output_type": "stream",
     "text": [
      "Teste passou!\n",
      "Teste passou!\n"
     ]
    }
   ],
   "source": [
    "def dct3(x):\n",
    "    N = len(x)\n",
    "    base = build_DCT_base(N)\n",
    "    res = np.inner(x, base)\n",
    "    return res\n",
    "\n",
    "def idct3(C):\n",
    "    N = len(C)\n",
    "    base = build_DCT_base(N)\n",
    "    base_t = base.T\n",
    "    res = np.inner(C, base_t)\n",
    "    return res\n",
    "\n",
    "test_dct(dct3, 100)\n",
    "test_idct(idct3, 100)"
   ]
  },
  {
   "cell_type": "code",
   "execution_count": 29,
   "metadata": {},
   "outputs": [
    {
     "name": "stdout",
     "output_type": "stream",
     "text": [
      "Teste passou!\n",
      "Teste passou!\n"
     ]
    }
   ],
   "source": [
    "def dct4(x):\n",
    "    N = len(x)\n",
    "    base = build_DCT_base(N)\n",
    "    res = np.inner(x, np.conjugate(base))\n",
    "    return res\n",
    "\n",
    "def idct4(C):\n",
    "    N = len(C)\n",
    "    base = build_DCT_base(N)\n",
    "    base_t = base.T\n",
    "    res = np.inner(C, np.conjugate(base_t))\n",
    "    return res\n",
    "\n",
    "test_dct(dct4, 100)\n",
    "test_idct(idct4, 100)"
   ]
  },
  {
   "cell_type": "markdown",
   "metadata": {
    "slideshow": {
     "slide_type": "subslide"
    }
   },
   "source": [
    "Da equação de síntese\n",
    "\\begin{equation*}\n",
    "\tx_m = \\sqrt{\\frac{1}{N}}C_0 + \\sqrt{\\frac{2}{N}}\\sum\\limits_{k=1}^{N-1}C_k\\cos\\left(\\frac{\\pi\\left(m + \\frac{1}{2}\\right)k}{N}\\right)\n",
    "\\end{equation*}\n",
    "segue que $IDCT(C) = \\tilde{\\mathcal{C}}_N C$, onde\n",
    "\n",
    "\\begin{equation*}\n",
    "\t\\tilde{\\mathcal{C}}_N = \\begin{pmatrix}\n",
    "\t\t\\sqrt{\\frac{1}{N}} & \\sqrt{\\frac{2}{N}}\\cos\\left(\\frac{\\pi\\left(0 + \\frac{1}{2}\\right)}{N}\\right) & \\dots & \\sqrt{\\frac{2}{N}}\\cos\\left(\\frac{\\pi(N-1)\\left(0 + \\frac{1}{2}\\right)}{N}\\right) \\\\\n",
    "\t\t\\sqrt{\\frac{1}{N}} & \\sqrt{\\frac{2}{N}}\\cos\\left(\\frac{\\pi\\left(1 + \\frac{1}{2}\\right)}{N}\\right) & \\dots & \\sqrt{\\frac{2}{N}}\\cos\\left(\\frac{\\pi(N-1)\\left(1 + \\frac{1}{2}\\right)}{N}\\right) \\\\\n",
    "\t\t\\vdots & \\vdots & \\ddots & \\vdots \\\\\n",
    "\t\t\\sqrt{\\frac{1}{N}} & \\sqrt{\\frac{2}{N}}\\cos\\left(\\frac{\\pi\\left((N-1) + \\frac{1}{2}\\right)}{N}\\right) & \\dots & \\sqrt{\\frac{2}{N}}\\cos\\left(\\frac{\\pi(N-1)\\left((N-1) + \\frac{1}{2}\\right)}{N}\\right) \\\\\n",
    "\t\\end{pmatrix}\n",
    "\\end{equation*}"
   ]
  },
  {
   "cell_type": "markdown",
   "metadata": {
    "slideshow": {
     "slide_type": "subslide"
    }
   },
   "source": [
    "Em outras palavras, a matriz $\\tilde{\\mathcal{C}}_N$ possui componentes\n",
    "\n",
    "\\begin{equation*}\n",
    "\t(\\tilde{\\mathcal{C}}_N)_{m,k} = \\left\\{\\begin{array}{ll}\n",
    "\t\t\\sqrt{\\frac{1}{N}} & \\text{ se }k = 0 \\\\\n",
    "\t\t\\sqrt{\\frac{2}{N}}\\cos\\left(\\frac{\\pi k\\left(m + \\frac{1}{2}\\right)}{N}\\right) & \\text{ se } k = 1, 2, \\dots, N-1\n",
    "\t\\end{array}\\right.\n",
    "\\end{equation*}\n",
    "**Observe** que essa matriz é indexada nas linhas pelo tempo e nas colunas pela frequência, como a matriz $\\tilde{F}$ da IDFT."
   ]
  },
  {
   "cell_type": "markdown",
   "metadata": {
    "slideshow": {
     "slide_type": "slide"
    }
   },
   "source": [
    "### Ortogonalidade da DCT\n",
    "\n",
    "Observamos que $(\\tilde{\\mathcal{C}}_N)_{m,k} = (\\mathcal{C}_N)_{k,m}$, ou seja,\n",
    "\n",
    "\\begin{equation*}\n",
    "\t\\tilde{\\mathcal{C}}_N = \\mathcal{C}_N^T.\n",
    "\\end{equation*}\n",
    "\n",
    "Pelo fato de que IDCT(DCT($x$)) = $x$, temos que $\\mathcal{C}_N^T(\\mathcal{C}_Nx) = x, \\forall x$ de onde $\\mathcal{C}_N^T\\mathcal{C}_N=I$, ou equivalentemente,\n",
    "\n",
    "\\begin{equation*}\n",
    "\t\\mathcal{C}_N^T = \\mathcal{C}_N^{-1}.\n",
    "\\end{equation*}\n",
    "\n",
    "Uma matriz que satisfaz essa propriedade é dita **ortogonal**, por razões que ficarão claras na seção a seguir."
   ]
  },
  {
   "cell_type": "code",
   "execution_count": 20,
   "metadata": {},
   "outputs": [
    {
     "data": {
      "text/plain": [
       "array([[ 1., -0., -0.,  0., -0., -0.],\n",
       "       [-0.,  1., -0.,  0., -0.,  0.],\n",
       "       [-0., -0.,  1.,  0., -0., -0.],\n",
       "       [ 0.,  0.,  0.,  1., -0.,  0.],\n",
       "       [-0., -0., -0., -0.,  1., -0.],\n",
       "       [-0.,  0., -0.,  0., -0.,  1.]])"
      ]
     },
     "execution_count": 20,
     "metadata": {},
     "output_type": "execute_result"
    }
   ],
   "source": [
    "C_n = build_DCT_base(6)\n",
    "np.round(np.matmul(C_n.T, C_n),2)\n"
   ]
  },
  {
   "cell_type": "code",
   "execution_count": 21,
   "metadata": {},
   "outputs": [
    {
     "data": {
      "text/plain": [
       "array([[ True, False, False,  True, False, False],\n",
       "       [False,  True, False, False, False, False],\n",
       "       [False, False,  True, False, False, False],\n",
       "       [ True, False, False,  True, False, False],\n",
       "       [False, False, False, False,  True, False],\n",
       "       [False, False, False, False, False,  True]])"
      ]
     },
     "execution_count": 21,
     "metadata": {},
     "output_type": "execute_result"
    }
   ],
   "source": [
    "np.isclose(C_n.T, C_n)"
   ]
  },
  {
   "cell_type": "code",
   "execution_count": null,
   "metadata": {},
   "outputs": [],
   "source": []
  }
 ],
 "metadata": {
  "celltoolbar": "Slideshow",
  "kernelspec": {
   "display_name": "Python 3 (ipykernel)",
   "language": "python",
   "name": "python3"
  },
  "language_info": {
   "codemirror_mode": {
    "name": "ipython",
    "version": 3
   },
   "file_extension": ".py",
   "mimetype": "text/x-python",
   "name": "python",
   "nbconvert_exporter": "python",
   "pygments_lexer": "ipython3",
   "version": "3.7.13"
  }
 },
 "nbformat": 4,
 "nbformat_minor": 2
}
