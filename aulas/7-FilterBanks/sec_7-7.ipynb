{
 "cells": [
  {
   "cell_type": "markdown",
   "metadata": {
    "slideshow": {
     "slide_type": "slide"
    }
   },
   "source": [
    "# MAC0317/MAC5920\n",
    "## Introdução ao Processamento de Sinais Digitais\n",
    "## Seção 7.7: Desenho de bancos de filtros com reconstrução perfeita"
   ]
  },
  {
   "cell_type": "markdown",
   "metadata": {
    "slideshow": {
     "slide_type": "subslide"
    }
   },
   "source": [
    "Nessa seção trataremos do desenho (projeto/construção) de bancos de filtros que satisfaçam a propridade de reconstrução perfeita:\n",
    "\n",
    "\\begin{equation*}\n",
    "\tx = U(D(x*l_a))*l_s + U(D(x*h_a))*h_s,\\quad\\quad \\forall x\\in L^2(\\mathbb{Z}).\n",
    "\\end{equation*}\n",
    "\n",
    "A ferramenta principal que usaremos para as estratégias de construção de filtros que verifiquem essa propriedade éa transformada-$z$ que vimos na seção 4.5.4."
   ]
  },
  {
   "cell_type": "markdown",
   "metadata": {
    "slideshow": {
     "slide_type": "slide"
    }
   },
   "source": [
    "### Seção 7.7.1: Bancos de filtros no domínio $z$\n",
    "\n",
    "Lembrando a definição, dado um sinal bi-infinito $x\\in L^2(\\mathbb{Z})$, sua transformada-$z$ é a expressão\n",
    "\n",
    "$$X(z) = \\sum\\limits_{k=-\\infty}^\\infty x_kz^{-k}.$$\n",
    "\n",
    "Nesta seção, usaremos principalmente a interpretação *algébrica* dessa expressão, que será manipulada e combinada de diversas formas, sem uma preocupação específica com sua região de convergência (domínio da função de acordo com a interpretação *analítica*)."
   ]
  },
  {
   "cell_type": "markdown",
   "metadata": {
    "slideshow": {
     "slide_type": "subslide"
    }
   },
   "source": [
    "A propriedade da reconstrução perfeita\n",
    "\n",
    "\\begin{equation*}\n",
    "\tx = U(D(x*l_a))*l_s + U(D(x*h_a))*h_s,\\quad\\quad \\forall x\\in L^2(\\mathbb{Z}).\n",
    "\\end{equation*}\n",
    "\n",
    "pode ser facilmente traduzida para o domínio da transformada-$z$. Por exemplo,\n",
    "\n",
    "\\begin{array}{llll}\n",
    "\t&\\text{se } &x&\\leftrightarrow &X(z) = \\sum\\limits_{k=-\\infty}^\\infty x_kz^{-k} \\\\\n",
    "\t&\\text{e } & l_a&\\leftrightarrow &L_a(z) = \\sum\\limits_{k=-\\infty}^\\infty (l_a)_kz^{-k} \\\\\n",
    "\t&\\text{então } & x*l_a&\\leftrightarrow &X(z)L_a(z)\n",
    "\\end{array}\n",
    "\n",
    "pelo teorema da convolução em $L^2(\\mathbb{Z})$."
   ]
  },
  {
   "cell_type": "markdown",
   "metadata": {
    "slideshow": {
     "slide_type": "subslide"
    }
   },
   "source": [
    "O efeito no domínio do tempo de aplicar a subamostragem seguida da superamostragem em um sinal $y\\in L^2(\\mathbb{Z})$ pode ser escrito como\n",
    "\n",
    "\\begin{equation*}\n",
    "\tw = U(D(y))\n",
    "\\end{equation*}\n",
    "\n",
    "onde \n",
    "\n",
    "\\begin{equation*}\n",
    "\tw_k = \\left\\{\\begin{array}{ll}\n",
    "\t\ty_k, & \\text{ se }k\\text{ é par}, \\\\\n",
    "\t\t0, & \\text{ se }k\\text{ é ímpar},\n",
    "\t\\end{array}\\right.\n",
    "\\end{equation*}"
   ]
  },
  {
   "cell_type": "markdown",
   "metadata": {
    "slideshow": {
     "slide_type": "subslide"
    }
   },
   "source": [
    "Logo a transformada-$z$ de $w$ se relaciona com a transformada-$z$ de $y$ assim\n",
    "\n",
    "\\begin{align*}\n",
    "\tW(z) &= \\sum\\limits_{k\\in\\mathbb{Z}} w_kz^{-k} \\\\\n",
    "\t&= \\sum\\limits_{k\\in\\mathbb{Z},\\ k\\text{ par}} y_kz^{-k} \\\\\n",
    "\t&= \\sum\\limits_{k\\in\\mathbb{Z}} \\frac{1}{2}\\left(y_k + (-1)^{-k}y_k\\right)z^{-k} &\n",
    "    \\text{(cancela os $k$ ímpares)}\\\\\n",
    "\t&= \\frac{1}{2}\\sum\\limits_{k\\in\\mathbb{Z}}y_kz^{-k} + \\frac{1}{2}\\sum\\limits_{n\\in\\mathbb{Z}}y_k(-z)^{-k} \\\\\n",
    "\t&= \\frac{1}{2}Y(z) + \\frac{1}{2}Y(-z).\n",
    "\\end{align*}\n",
    "\n",
    "Essa é a prova da **Prop. 7.7.1**, correspondente ao exercício 7.21."
   ]
  },
  {
   "cell_type": "markdown",
   "metadata": {
    "slideshow": {
     "slide_type": "slide"
    }
   },
   "source": [
    "### Seção 7.7.2: Reconstrução perfeita no domínio $z$\n",
    "\n",
    "Podemos então escrever a condição de reconstrução perfeita \n",
    "\n",
    "\\begin{equation*}\n",
    "\tx = U(D(x*l_a))*l_s + U(D(x*h_a))*h_s,\\quad\\quad \\forall x\\in L^2(\\mathbb{Z}).\n",
    "\\end{equation*}\n",
    "\n",
    "no domínio da transformada-$z$ como\n",
    "\n",
    "\\begin{align*}\n",
    "\tX(z) =& \\left(\\frac{1}{2}X(z)L_a(z) + \\frac{1}{2}X(-z)L_a(-z)\\right)L_s(z) + \\\\\n",
    "\t&\\left(\\frac{1}{2}X(z)H_a(z) + \\frac{1}{2}X(-z)H_a(-z)\\right)H_s(z),\n",
    "\\end{align*}\n",
    "\n",
    "para $X(z)$ correspondente a um $x\\in L^2(\\mathbb{Z})$ qualquer."
   ]
  },
  {
   "cell_type": "markdown",
   "metadata": {
    "slideshow": {
     "slide_type": "subslide"
    }
   },
   "source": [
    "Podemos também escrever a condição de reconstrução perfeita com atraso de $m$ amostras\n",
    "\n",
    "\\begin{equation*}\n",
    "\tS^m(x) = U(D(x*l_a))*l_s + U(D(x*h_a))*h_s,\\quad\\quad \\forall x\\in L^2(\\mathbb{Z}).\n",
    "\\end{equation*}\n",
    "\n",
    "no domínio da transformada-$z$ como\n",
    "\n",
    "\\begin{align*}\n",
    "\tz^{-m}X(z) =& \\left(\\frac{1}{2}X(z)L_a(z) + \\frac{1}{2}X(-z)L_a(-z)\\right)L_s(z) + \\\\\n",
    "\t&\\left(\\frac{1}{2}X(z)H_a(z) + \\frac{1}{2}X(-z)H_a(-z)\\right)H_s(z),\n",
    "\\end{align*}\n",
    "\n",
    "onde o fator $z^{-m}$ representa um atraso de $m$ amostras na transformada-$z$."
   ]
  },
  {
   "cell_type": "markdown",
   "metadata": {
    "slideshow": {
     "slide_type": "subslide"
    }
   },
   "source": [
    "Reagrupando os termos para colocar $X(z)$ em evidência, podemos escrever\n",
    "\n",
    "\\begin{align*}\n",
    "\tz^{-m}X(z) =& \\left(\\frac{1}{2}X(z)L_a(z) + \\frac{1}{2}X(-z)L_a(-z)\\right)L_s(z) + \\\\\n",
    "\t&\\left(\\frac{1}{2}X(z)H_a(z) + \\frac{1}{2}X(-z)H_a(-z)\\right)H_s(z),\n",
    "\\end{align*}\n",
    "\n",
    "como\n",
    "\n",
    "\\begin{equation*}\n",
    "\tz^{-m}X(z) = \\frac{1}{2}\\bigg[L_a(z)L_s(z)+H_a(z)H_s(z)\\bigg]X(z) + \\frac{1}{2}\\bigg[L_a(-z)L_s(z)+H_a(-z)H_s(z)\\bigg]X(-z)\n",
    "\\end{equation*}"
   ]
  },
  {
   "cell_type": "markdown",
   "metadata": {
    "slideshow": {
     "slide_type": "subslide"
    }
   },
   "source": [
    "Uma condição *suficiente* para garantir a propriedade\n",
    "\n",
    "\\begin{equation*}\n",
    "\tz^{-m}X(z) = \\frac{1}{2}\\bigg[L_a(z)L_s(z)+H_a(z)H_s(z)\\bigg]X(z) + \\frac{1}{2}\\bigg[L_a(-z)L_s(z)+H_a(-z)H_s(z)\\bigg]X(-z)\n",
    "\\end{equation*}\n",
    "\n",
    "é exigir que\n",
    "\n",
    "\\begin{equation*}\n",
    "\t\\begin{array}{l}\n",
    "\t\t(7.22)\\\\\n",
    "\t\t(7.23)\n",
    "\t\\end{array}\\left\\{\\begin{array}{ll}\n",
    "\t\tL_a(z)L_s(z) + H_a(z)H_s(z) &= 2z^{-m} \\\\\n",
    "\t\tL_a(-z)L_s(z) + H_a(-z)H_s(z) &= 0\n",
    "\t\\end{array}\\right.\n",
    "\\end{equation*}\n",
    "\n",
    "Menos óbvio é o fato que essa condição também é *necessária* (exercício 7.26)."
   ]
  },
  {
   "cell_type": "markdown",
   "metadata": {
    "slideshow": {
     "slide_type": "slide"
    }
   },
   "source": [
    "### 7.7.3: Estratégia 1 - Desenho dos filtros de síntese a partir dos filtros de análise\n",
    "\n",
    "Supondo $L_a(z)$ e $H_a(z)$ conhecidos, a solução do sistema (7.22, 7.23) será:\n",
    "\n",
    "\\begin{equation*}\n",
    "\t\\begin{array}{l}\n",
    "\t\t(7.34)\\\\\n",
    "\t\t(7.35)\n",
    "\t\\end{array}\\left\\{\\begin{array}{l}\n",
    "\t\tL_s(z) = \\frac{2H_a(-z)z^{-m}}{H_a(-z)L_a(z)-H_a(z)L_a(-z)} \\\\\n",
    "\t\tH_s(z) = \\frac{2L_a(-z)z^{-m}}{L_a(-z)H_a(z)-L_a(z)H_a(-z)}\n",
    "\t\\end{array}\\right.\n",
    "\\end{equation*}\n",
    "\n",
    "A utilização destas expressões para definir vetores de coeficientes $l_s$ e $h_s$ dependem de:\n",
    "\n",
    "1. garantir que os denominadores são não-nulos\n",
    "\n",
    "2. garantir que as expressões resultantes para $L_s(z)$ e $H_s(z)$ possuem a forma $\\sum w_kz^{-k}$, de tal forma que $w_k$ serão os coeficientes do filtro respectivo ($l_s$ e $h_s$)."
   ]
  },
  {
   "cell_type": "markdown",
   "metadata": {
    "slideshow": {
     "slide_type": "slide"
    }
   },
   "source": [
    "### Exemplo 7.11\n",
    "\n",
    "Considere os filtros originais de análise de Haar\n",
    "\n",
    "$$\n",
    "\tl_a = \\left(\\dots, 0, \\frac{1}{2}, \\frac{1}{2}, 0, \\dots\\right) \\quad\\quad\n",
    "\th_a = \\left(\\dots, 0, \\frac{1}{2}, -\\frac{1}{2}, 0, \\dots\\right)\n",
    "$$\n",
    "\n",
    "cujas transformadas-$z$ são\n",
    "\n",
    "$$\n",
    "\tL_a(z) = \\frac{1}{2} + \\frac{1}{2}z^{-1}, \\quad\\quad\n",
    "\tH_a(z) = \\frac{1}{2} - \\frac{1}{2}z^{-1}.\n",
    "$$\n",
    "\n",
    "Por (7.34, 7.35) com $m=0$, temos que o denominador será\n",
    "\n",
    "\\begin{align*}\n",
    "\tH_a(-z)L_a(z)-H_a(z)L_a(-z) &= \\left(\\frac{1}{2}+\\frac{1}{2}z^{-1}\\right)^2-\\left(\\frac{1}{2}-\\frac{1}{2}z^{-1}\\right)^2 \\\\\n",
    "\t&= \\left(\\frac{1}{4} + \\frac{1}{2}z^{-1} + \\frac{1}{4}z^{-2}\\right) - \\left(\\frac{1}{4} - \\frac{1}{2}z^{-1} + \\frac{1}{4}z^{-2}\\right) \\\\\n",
    "\t&= z^{-1}\n",
    "\\end{align*}"
   ]
  },
  {
   "cell_type": "markdown",
   "metadata": {
    "slideshow": {
     "slide_type": "subslide"
    }
   },
   "source": [
    "Logo\n",
    "\n",
    "$$\n",
    "\tL_s(z) = \\frac{2H_a(-z)}{z^{-1}}\n",
    "\t= \\frac{2\\left(\\frac{1}{2}-\\frac{1}{2}(-z)^{-1}\\right)}{z^{-1}}\n",
    "\t= z^{+1} + 1,\n",
    "$$\n",
    "\n",
    "de onde os coeficientes do filtro passa-baixas de síntese serão\n",
    "\n",
    "\\begin{equation*}\n",
    "\tl_s = (\\dots, 0, 1, \\overbrace{1}^{n=0}, 0, \\dots).\n",
    "\\end{equation*}\n",
    "\n",
    "Analogamente, \n",
    "\n",
    "$$\n",
    "\tH_s(z) = \\frac{2L_a(-z)}{-z^{-1}}\n",
    "\t= \\frac{2\\left(\\frac{1}{2}+\\frac{1}{2}(-z)^{-1}\\right)}{-z^{-1}}\n",
    "\t= -z^{+1} + 1,\n",
    "$$\n",
    "\n",
    "de onde os coeficientes do filtro passa-altas de síntese serão\n",
    "\n",
    "\\begin{equation*}\n",
    "\th_s = (\\dots, 0, -1, \\overbrace{1}^{n=0}, 0, \\dots).\n",
    "\\end{equation*}"
   ]
  },
  {
   "cell_type": "markdown",
   "metadata": {
    "slideshow": {
     "slide_type": "subslide"
    }
   },
   "source": [
    "### Exemplo 7.12\n",
    "\n",
    "Se $l_a = \\left(\\dots, 0, \\frac{1}{2}, 0, \\frac{1}{2}, 0, \\dots\\right)$ e $h_a = \\left(\\dots, 0, \\frac{1}{2}, -\\frac{1}{2}, 0, \\dots\\right)$ com $L_a(z) = \\frac{1}{2} + \\frac{1}{2}z^{-2}$ e $H_a(z) = \\frac{1}{2} - \\frac{1}{2}z^{-1}$, então\n",
    "\n",
    "\\begin{equation*}\n",
    "\t\\left\\{\\begin{array}{l}\n",
    "\t\tL_s(z) = \\frac{2z^2(z+1)}{z^2+1}, \\\\\n",
    "\t\tH_s(z) = -2z,\n",
    "\t\\end{array}\\right.\n",
    "\\end{equation*}\n",
    "\n",
    "e portanto esse método **não produz** um banco de filtros **FIR**, pois $L_s(z)$ não tem a forma de uma transformada-$z$."
   ]
  },
  {
   "cell_type": "markdown",
   "metadata": {
    "slideshow": {
     "slide_type": "slide"
    }
   },
   "source": [
    "### Observação 7.5 (Tabela 7.2)\n",
    "\n",
    "Seja $g\\in L^2(\\mathbb{Z})$ cuja transformada-$z$ é $G(z) = \\sum\\limits_{n=-\\infty}^\\infty g_kz^{-k}$. Iremos considerar as seguintes sequências obtidas a partir de $g$:\n",
    "\n",
    "$$\\begin{array}{|l|l|}\n",
    "\t\\hline\n",
    "\t\\text{Sequência} & \\text{Transformada-$z$} \\\\ \\hline\n",
    "\t\\tilde{g}_k = (-1)^kg_k & \\tilde{G}(z) = G(-z) \\\\\n",
    "\t\\tilde{g}_k = g_{-k} & \\tilde{G}(z) = G(z^{-1}) \\\\\n",
    "\t\\tilde{g}_k = g_{N-1-k} & \\tilde{G}(z) = z^{-N+1}G(z^{-1}) \\\\\n",
    "\t\\tilde{g}_k = (-1)^kg_{N-1-k} & \\tilde{G}(z) = (-z)^{-N+1}G(-z^{-1}) \\\\\n",
    "\t\\hline\n",
    "\\end{array}$$\n",
    "\n",
    "**Provas:** Exercício 7.19."
   ]
  },
  {
   "cell_type": "markdown",
   "metadata": {
    "slideshow": {
     "slide_type": "slide"
    }
   },
   "source": [
    "### Observação 7.6\n",
    "\n",
    "Gostaríamos de poder garantir que os filtros $l_a$ e $l_s$ sejam passa-baixas e $h_a$ e $h_s$ sejam passa-altas, ainda que isso não seja necessário para a reconstrução perfeita. Essas categorias de filtros não possuem definições simples e universalmente aceitas. Vamos considerar como **passa-baixas** qualquer filtro $g\\in L^2(\\mathbb{Z})$ que satisfaça\n",
    "\n",
    "\\begin{equation*}\n",
    "\t\\left\\{\\begin{array}{lll}\n",
    "\t\tG(1) &=\\sum g_k&\\neq 0, \\\\\n",
    "\t\tG(-1) &=\\sum g_k(-1)^k&= 0,\n",
    "\t\\end{array}\\right.\n",
    "\\end{equation*}\n",
    "\n",
    "onde $z=1$ corresponde à frequência d.c. (0 Hz) e $z=-1$ à frequência de Nyquist. Diremos que $g$ é **passa-altas** se\n",
    "\n",
    "\\begin{equation*}\n",
    "\t\\left\\{\\begin{array}{lll}\n",
    "\t\tG(1) &=\\sum g_k&= 0, \\\\\n",
    "\t\tG(-1) &=\\sum g_k(-1)^k&\\neq 0.\n",
    "\t\\end{array}\\right.\n",
    "\\end{equation*}"
   ]
  },
  {
   "cell_type": "markdown",
   "metadata": {
    "slideshow": {
     "slide_type": "subslide"
    }
   },
   "source": [
    "Note que, de acordo com a tabela 7.2, as construções\n",
    "\n",
    "$$\\begin{array}{lll}\n",
    "\\tilde{g}_k = (-1)^kg_k & \\iff & \\tilde{G}(z) = G(-z)\\\\\n",
    "\\tilde{g}_k = (-1)^kg_{N-1-k} & \\iff & \\tilde{G}(z) = (-z)^{-N+1}G(-z^{-1})\n",
    "\\end{array}$$\n",
    "\n",
    "*invertem o comportamento dos filtros*, ou seja, transformam passa-baixas em passa-altas e vice-versa. Observe que, pelo Teorema da Convolução, o produto $(-1)^kg_k$ corresponde a uma **convolução** do espectro do filtro $g$ com um Delta de Dirac posicionado na frequência de Nyquist (pois esse é o espectro do sinal $(-1)^k$).\n",
    "\n",
    "Por outro lado, as transformações \n",
    "\n",
    "$$\\begin{array}{lll}\n",
    "\\tilde{g}_k = g_{-k} & \\iff & \\tilde{G}(z) = G(z^{-1})\\\\\n",
    "\\tilde{g}_k = g_{N-1-k} & \\iff & \\tilde{G}(z) = z^{-N+1}G(z^{-1})\n",
    "\\end{array}$$ \n",
    "\n",
    "*preservam* a mesma característica (passa-baixa ou passa-alta) do filtro $g$."
   ]
  },
  {
   "cell_type": "markdown",
   "metadata": {
    "slideshow": {
     "slide_type": "slide"
    }
   },
   "source": [
    "### Seção 7.7.4: Estratégia 2 -  Desenho de filtros usando filtros-produto\n",
    "\n",
    "Para satisfazer as equações\n",
    "\n",
    "\\begin{equation*}\n",
    "\t\\begin{array}{l}\n",
    "\t\t(7.32)\\\\\n",
    "\t\t(7.33)\n",
    "\t\\end{array}\\left\\{\\begin{array}{l}\n",
    "\t\tL_a(z)L_s(z) + H_a(z)H_s(z) = 2z^{-m} \\\\\n",
    "\t\tL_a(-z)L_s(z) + H_a(-z)H_s(z) = 0\n",
    "\t\\end{array}\\right.\n",
    "\\end{equation*}\n",
    "\n",
    "Uma maneira é forçar as condições\n",
    "\n",
    "\\begin{equation*}\n",
    "\t\\left\\{\\begin{array}{l}\n",
    "\t\tH_a(-z) = L_s(z)\\\\\n",
    "\t\tH_s(z) = -L_a(-z)\n",
    "\t\\end{array}\\right.\n",
    "\\end{equation*}\n",
    "\n",
    "Nesse caso a equação 7.33 é verificada automaticamente, e basta considerar a equação 7.32 modificada:\n",
    "\n",
    "\\begin{equation*}\n",
    "\t\\begin{array}{ll}\n",
    "\t\t(7.32') & L_a(z)L_s(z) - L_a(-z)L_s(-z) = 2z^{-m}\n",
    "\t\\end{array}\n",
    "\\end{equation*}"
   ]
  },
  {
   "cell_type": "markdown",
   "metadata": {
    "slideshow": {
     "slide_type": "subslide"
    }
   },
   "source": [
    "Note que a condição forçada\n",
    "\n",
    "\\begin{equation*}\n",
    "\t\\left\\{\\begin{array}{l}\n",
    "\t\tH_a(-z) = L_s(z) \\\\\n",
    "\t\tH_s(z) = -L_a(-z)\n",
    "\t\\end{array}\\right.\n",
    "\\end{equation*}\n",
    "\n",
    "corresponde aos coeficientes\n",
    "\n",
    "\\begin{equation*}\n",
    "\t\\left\\{\n",
    "\t\\begin{array}{lr}\n",
    "\t\t(h_a)_k = (-1)^k(l_s)_k &\\text{(troca sinal dos índices ímpares)}\\\\\n",
    "\t\t(h_s)_k = -(-1)^k(l_a)_k &\\text{(troca sinal dos índices pares)}\n",
    "\t\\end{array}\n",
    "\t\\right.\n",
    "\\end{equation*}\n",
    "\n",
    "e isso produz filtros passa-alta $h_a,h_s$ com o comportamento esperado, desde que $l_a,l_s$ sejam passa-baixas, já que nesse caso\n",
    "\n",
    "\\begin{equation*}\n",
    "\t\\text{(d.c.)}\\left\\{\\begin{array}{l}\n",
    "\t\tH_a(1) = L_s(-1) = 0\\\\\n",
    "\t\tH_s(1) = -L_a(-1) = 0\n",
    "\t\\end{array}\\right.\\quad\\quad\n",
    "    \\text{(Nyquist)}\\left\\{\\begin{array}{l}\n",
    "\t\tH_a(-1) = L_s(1) \\neq 0\\\\\n",
    "\t\tH_s(-1) = -L_a(1) \\neq 0\n",
    "\t\\end{array}\\right.\n",
    "\\end{equation*}"
   ]
  },
  {
   "cell_type": "markdown",
   "metadata": {
    "slideshow": {
     "slide_type": "subslide"
    }
   },
   "source": [
    "Podemos considerar uma forma fatorada $P(z) = L_a(z)L_s(z)$ e reescrever (7.32') como\n",
    "\n",
    "\\begin{equation*}\n",
    "\t\\begin{array}{ll}\n",
    "\t\t(7.32'') & P(z) - P(-z) = 2z^{-m}.\n",
    "\t\\end{array}\n",
    "\\end{equation*}\n",
    "\n",
    "$P(z)$ é denominado *filtro-produto* e corresponde ele próprio a um filtro passa-baixas (concatenação dos filtros $L_a(z)$ e $L_s(z)$). \n",
    "\n",
    "Note que $P(z) - P(-z)$ é uma função ímpar ($f(-t) = -f(t)$), o que implica em\n",
    "\n",
    "\\begin{equation*}\n",
    "\tP(z) - P(-z) = \\sum\\limits_{k=-\\infty}^\\infty p_kz^{-k} - \\sum\\limits_{k=-\\infty}^\\infty p_k(-z)^{-k} = \\sum\\limits_{k=-\\infty}^\\infty (p_k - (-1)^kp_k)z^{-k}\n",
    "\t= \\sum\\limits_{k\\in\\mathbb{Z},\\ k\\text{ é ímpar}} 2p_kz^{-k}.\n",
    "\\end{equation*}\n",
    "\n",
    "Em particular, isso mostra que o expoente $m$ do lado direito de $(7.32'')$ só pode ser *ímpar*, e portanto esse método não é capaz de gerar bancos de filtro sem atraso na reconstrução perfeita."
   ]
  },
  {
   "cell_type": "markdown",
   "metadata": {
    "slideshow": {
     "slide_type": "slide"
    }
   },
   "source": [
    "### Exemplo 7.13\n",
    "\n",
    "Considere $m=1$; Vamos tentar obter um filtro $P(z)$ com grau 3:\n",
    "\n",
    "\\begin{equation*}\n",
    "\tP(z) = p_0 + p_1z^{-1} + p_2z^{-2} + p_3z^{-3}\n",
    "\\end{equation*}\n",
    "\n",
    "Por (7.32'')\n",
    "\n",
    "\\begin{equation*}\n",
    "\t2p_1z^{-1} + 2p_3z^{-3} = 2z^{-1} (\\forall z)\n",
    "\\end{equation*}\n",
    "\n",
    "temos $p_1 = 1$ e $p_3 = 0$."
   ]
  },
  {
   "cell_type": "markdown",
   "metadata": {
    "slideshow": {
     "slide_type": "subslide"
    }
   },
   "source": [
    "Para garantir que $P(z)$ é um filtro passa-baixas, precisamos da condição\n",
    "\n",
    "\\begin{align*}\n",
    "\t\\left\\{\\begin{array}{ll}\n",
    "\t\tP(-1) &= 0 \\\\\n",
    "\t\tP(1) &\\neq 0\n",
    "\t\\end{array}\\right.\n",
    "\t\\Rightarrow \\left\\{\\begin{array}{ll}\n",
    "\t\tp_0 - p_1 + p_2 - p_3 &= 0 \\\\\n",
    "\t\tp_0 + p_1 + p_2 + p_3 &\\neq 0\n",
    "\t\\end{array}\\right.\n",
    "\t\\Rightarrow \\left\\{\\begin{array}{ll}\n",
    "\t\tp_0 + p_2 &= 1 \\\\\n",
    "\t\tp_0 + p_1 + p_2 + p_3 &\\neq 0\n",
    "\t\\end{array}\\right.\n",
    "\\end{align*}\n",
    "\n",
    "Por exemplo, fazendo\n",
    "\n",
    "\\begin{equation*}\n",
    "\tp_0 = p_2 = \\frac{1}{2},\n",
    "\\end{equation*}\n",
    "\n",
    "temos\n",
    "\n",
    "\\begin{equation*}\n",
    "\tP(z) = \\frac{1}{2} + z^{-1} + \\frac{1}{2}z^{-2}\n",
    "\\end{equation*}"
   ]
  },
  {
   "cell_type": "markdown",
   "metadata": {
    "slideshow": {
     "slide_type": "subslide"
    }
   },
   "source": [
    "Fatorando $P(z)$,\n",
    "\n",
    "\\begin{equation*}\n",
    "\tP(z) = \\frac{1}{2}(1 + z^{-1})^2 = L_a(z)L_s(z)\n",
    "\\end{equation*}\n",
    "\n",
    "Podemos definir os filtros $L_a(\\cdot)$ e $L_s(\\cdot)$ como\n",
    "\n",
    "\\begin{equation*}\n",
    "\tL_a(z) = L_s(z) = \\frac{1}{\\sqrt{2}}(1 + z^{-1})\n",
    "\\end{equation*}\n",
    "\n",
    "e usando as condições $H_a(-z) = L_s(z)$ e $H_s(z) = -L_a(-z)$ teremos\n",
    "\n",
    "\\begin{equation*}\n",
    "\t\\left\\{\\begin{array}{l}\n",
    "\t\tH_a(z) = L_s(-z) = \\frac{1}{\\sqrt{2}}(1 - z^{-1})\\\\\n",
    "\t\tH_s(z) = -L_a(-z) = \\frac{1}{\\sqrt{2}}(-1 + z^{-1})\n",
    "\t\\end{array}\\right.\n",
    "\\end{equation*}"
   ]
  },
  {
   "cell_type": "markdown",
   "metadata": {
    "slideshow": {
     "slide_type": "subslide"
    }
   },
   "source": [
    "Essas equações correspondem aos filtros passa-baixas\n",
    "\n",
    "\\begin{align*}\n",
    "\tl_a &= (\\dots, 0, \\overbrace{\\frac{1}{\\sqrt{2}}}^{n=0}, \\frac{1}{\\sqrt{2}}, 0, \\dots) \\\\\n",
    "\tl_s &= (\\dots, 0, \\frac{1}{\\sqrt{2}}, \\frac{1}{\\sqrt{2}}, 0, \\dots)\n",
    "\\end{align*}\n",
    "\n",
    "e passa-altas\n",
    "\n",
    "\\begin{align*}\n",
    "\th_a &= (\\dots, 0, \\overbrace{\\frac{1}{\\sqrt{2}}}^{n=0}, -\\frac{1}{\\sqrt{2}}, 0, \\dots) \\\\\n",
    "\th_s &= (\\dots, 0, -\\frac{1}{\\sqrt{2}}, \\frac{1}{\\sqrt{2}}, 0, \\dots)\n",
    "\\end{align*}\n",
    "\n",
    "que são os Filtros de síntese de Haar com atraso de 1 amostra (em relação à versão original)."
   ]
  },
  {
   "cell_type": "markdown",
   "metadata": {
    "slideshow": {
     "slide_type": "subslide"
    }
   },
   "source": [
    "Se ao invés de $p_0 = p_2 = \\frac{1}{2}$ tivéssemos escolhido $p_0 = \\frac{3}{4}$ e $p_2 = \\frac{1}{4}$, teríamos\n",
    "\n",
    "\\begin{equation*}\n",
    "\tP(z) = \\frac{3}{4} + z^{-1} + \\frac{1}{4}z^{-2} = \\frac{1}{4}(1 + z^{-1})(3 + z^{-1})\n",
    "\\end{equation*}\n",
    "\n",
    "e poderíamos fazer\n",
    "\n",
    "\\begin{array}{ll}\n",
    "\tL_a(z) = \\frac{1}{2}(1 + z^{-1})&\\text{ (passa-baixa)} \\\\\n",
    "\tL_s(z) = \\frac{1}{2}(3 + z^{-1})&\\text{ (não é passa-baixa)}\\\\\n",
    "\tH_a(z) = L_s(-z) = \\frac{1}{2}(3 - z^{-1})&\\text{ (não é passa-alta)}\\\\\n",
    "\tH_s(z) = -L_a(-z) = \\frac{1}{2}(-1 + z^{-1})&\\text{ (passa-alta)}\n",
    "\\end{array}\n",
    "\n",
    "Embora $L_s(z)$ e $H_a(z)$ não tenham as propriedades esperadas, esse banco de filtros possui a propriedade de reconstrução perfeita."
   ]
  },
  {
   "cell_type": "markdown",
   "metadata": {
    "slideshow": {
     "slide_type": "slide"
    }
   },
   "source": [
    "### Seção 7.7.5: Estratégia 3 - mais filtros-produto\n",
    "\n",
    "Essa é a mesma estratégia anterior, porém forçando a presença de fatores $(1 + z^{-1})$ (característica de passa-baixas) para os filtros $L_a$ e $L_s$:\n",
    "\n",
    "\\begin{equation*}\n",
    "\tP(z) = (1 + z^{-1})^{2r}Q(z)\n",
    "\\end{equation*}\n",
    "\n",
    "onde $r$ é um inteiro positivo e $Q(z)$ é um polinômio arbitrário de grau $n$."
   ]
  },
  {
   "cell_type": "markdown",
   "metadata": {
    "slideshow": {
     "slide_type": "subslide"
    }
   },
   "source": [
    "Note que $(1-z^{-1})^{2r}$ possui expoentes entre $-2r$ e 0 e $Q(z)$ entre 0 e $n$.\n",
    "\n",
    "A condição $P(z) - P(-z) = 2z^{-m}$ preserva apenas os expoentes ímpares entre $-2r$ e $+n$; supondo que $n$ é par teremos $r + \\frac{n}{2}$ expoentes ímpares correspondendo a $r + \\frac{n}{2}$ restrições lineares sobre os coeficientes $q_0, q_1, \\dots, q_n$, de $Q(z)$. \n",
    "\n",
    "Para forçar uma solução única, basta que\n",
    "\n",
    "\\begin{align*}\n",
    "\t\\#\\text{restrições} &= \\#\\text{variáveis} \\\\\n",
    "\tr + \\frac{n}{2} &= n + 1\n",
    "\\end{align*}\n",
    "\n",
    "Assim, basta escolher $n = 2(r-1)$ para produzir uma solução única $Q(z)$."
   ]
  },
  {
   "cell_type": "markdown",
   "metadata": {
    "slideshow": {
     "slide_type": "slide"
    }
   },
   "source": [
    "### Exemplo 7.14\n",
    "\n",
    "Tomando $m=1$, $r = 2$ e $n = 2$, temos\n",
    "\n",
    "$$P(z) =(1 + z^{-1})^{2r}Q(z) = (1 + z^{-1})^4(q_0 + q_1z + q_2z^2)$$\n",
    "\n",
    "e\n",
    "\n",
    "$$P(z) - P(-z) = (2q_1 + 8q_2)z + (8q_0 + 12q_1 + 8q_2)z^{-1} + (8q_0 + 2q_1)z^{-3}\n",
    "\t= 2z^{-1}$$\n",
    "    \n",
    "$$\n",
    "\t\\Leftrightarrow \\left\\{\\begin{array}{ll}\n",
    "\t\t2q_1 + 8q_2 &= 0 \\\\\n",
    "\t\t8q_0 + 12q_1 + 8q_2 &= 2 \\\\\n",
    "\t\t8q_0 + 2q_1 &= 0\n",
    "\t\\end{array}\\right.\n",
    "\t\\Leftrightarrow \\left\\{\\begin{array}{ll}\n",
    "\t\tq_0 &= -\\frac{1}{16} \\\\\n",
    "\t\tq_1 &= \\frac{1}{4} \\\\\n",
    "\t\tq_2 &= -\\frac{1}{16}\n",
    "\t\\end{array}\\right.\n",
    "$$"
   ]
  },
  {
   "cell_type": "markdown",
   "metadata": {
    "slideshow": {
     "slide_type": "subslide"
    }
   },
   "source": [
    "Deste modo, temos\n",
    "\n",
    "\\begin{align*}\n",
    "\tP(z) &= (1 + z^{-1})^4(-\\frac{1}{16} + \\frac{1}{4}z - \\frac{1}{16}z^2) \\\\\n",
    "\t&= -\\frac{1}{16}(1 + z^{-1})^4(z - r_1)(z - r_2)\n",
    "\\end{align*}\n",
    "\n",
    "onde $r_1 = 2 - \\sqrt{3}$ e $r_2 = 2 + \\sqrt{3}$."
   ]
  },
  {
   "cell_type": "markdown",
   "metadata": {
    "slideshow": {
     "slide_type": "subslide"
    }
   },
   "source": [
    "Podemos atribuir os fatores de $P(z)$ a $L_a(z)$ e $L_s(z)$ com o cuidado de manter fatores $(1 + z^{-1})$ nos dois filtros (garantindo a condição de passa-baixa). Por exemplo\n",
    "\n",
    "\\begin{align*}\n",
    "\t&\\left\\{\\begin{array}{lll}\n",
    "\t\tL_a(z) &= -\\frac{1}{8}(1 + z^{-1})^2(q - 4z + z^2) &= -\\frac{1}{8}(z^2 - 2z - 6 - 2z^{-1} + z^{-2}) \\\\\n",
    "\t\tL_s(z) &= \\frac{1}{2}(1 + z^{-1})^2 &= \\frac{1}{2}(1 + 2z^{-1} + z^{-2})\n",
    "\t\\end{array}\\right.\n",
    "\\end{align*}\n",
    "\n",
    "$$\\begin{array}{llrrrrrrrrr}\n",
    "\t\tl_a &=& \\big(\\dots,& 0,& -\\frac{1}{8},& \\frac{1}{4}, &\\overbrace{\\frac{3}{4}}^{n=0}, & \\frac{1}{4}, & -\\frac{1}{8}, & 0, &\\dots\\big) \\\\\n",
    "\t\tl_s &=& \\big(\\dots, &0, &0, &0, &\\frac{1}{2}, &1, &\\frac{1}{2}, &0, &\\dots\\big)\n",
    "\t\\end{array}$$\n",
    "\n",
    "que são utilizados para construir os filtros passa-alta através das relações $(h_a)_k = (-1)^k(l_s)_k$ e $(h_s)_k = -(-1)^k(l_a)_k$:\n",
    "\n",
    "$$\\begin{array}{llrrrrrrrrr}\n",
    "\t\th_s &=& \\big(\\dots,& 0,& \\frac{1}{8},& \\frac{1}{4}, &-\\overbrace{\\frac{3}{4}}^{n=0}, & \\frac{1}{4}, & \\frac{1}{8}, & 0, &\\dots\\big) \\\\\n",
    "\t\th_a &=& \\big(\\dots, &0, &0, &0, &\\frac{1}{2}, &-1, &\\frac{1}{2}, &0, &\\dots\\big)\n",
    "\t\\end{array}$$\n",
    "\n",
    "(Esses são os **Filtros Le Gall** 5/3 da tabela 7.3)"
   ]
  },
  {
   "cell_type": "markdown",
   "metadata": {
    "slideshow": {
     "slide_type": "subslide"
    }
   },
   "source": [
    "Se definirmos $L_a(z)$ e $L_s(z)$ a partir do mesmo filtro-produto $P(z)$ como\n",
    "\n",
    "\\begin{align*}\n",
    "\tL_a(z) &= \\frac{(\\sqrt{3} + 1)\\sqrt{2}}{8}(1 + z^{-1})^2(z - r_1) \\\\\n",
    "\tL_s(z) &= -\\frac{(\\sqrt{3} - 1)\\sqrt{2}}{8}(1 + z^{-1})^2(z - r_2)\n",
    "\\end{align*}\n",
    "\n",
    "teremos os **Filtros de Daubechies** com 4 coeficientes:\n",
    "\n",
    "\\begin{array}{lcrrrrrl}\n",
    "\tl_a &= &\\big(\\dots, &\\frac{1 + \\sqrt{3}}{4\\sqrt{2}}, &\\overbrace{\\frac{3 + \\sqrt{3}}{4\\sqrt{2}}}^{n=0}, &\\frac{3 - \\sqrt{3}}{4\\sqrt{2}}, &\\frac{1 - \\sqrt{3}}{4\\sqrt{2}}, &0, \\dots\\big) \\\\\n",
    "\tl_s &= &\\big(\\dots, &\\frac{1 - \\sqrt{3}}{4\\sqrt{2}}, &\\frac{3 - \\sqrt{3}}{4\\sqrt{2}}, &\\frac{3 + \\sqrt{3}}{4\\sqrt{2}}, &\\frac{1 + \\sqrt{3}}{4\\sqrt{2}}, &0, \\dots\\big)\\\\\n",
    "\th_s &= &\\big(\\dots, &\\frac{1 + \\sqrt{3}}{4\\sqrt{2}}, &-\\frac{3 + \\sqrt{3}}{4\\sqrt{2}}, &\\frac{3 - \\sqrt{3}}{4\\sqrt{2}}, &-\\frac{1 - \\sqrt{3}}{4\\sqrt{2}}, &0, \\dots\\big) \\\\\n",
    "\th_a &= &\\big(\\dots, &-\\frac{1 - \\sqrt{3}}{4\\sqrt{2}}, &\\frac{3 - \\sqrt{3}}{4\\sqrt{2}}, &-\\frac{3 + \\sqrt{3}}{4\\sqrt{2}}, &\\frac{1 + \\sqrt{3}}{4\\sqrt{2}}, &0, \\dots\\big)\n",
    "\\end{array}\n",
    "\n",
    "Esse banco de filtros possui reconstrução perfeita com atraso de $m=1$ amostra. A tabela 7.4 do livro traz a versão causal do mesmo banco de filtros, com atraso resultante de $m=3$ amostras."
   ]
  },
  {
   "cell_type": "markdown",
   "metadata": {
    "slideshow": {
     "slide_type": "slide"
    }
   },
   "source": [
    "### 7.7.5: Estratégia 4 - Desenho de bancos de filtros ortogonais\n",
    "\n",
    "Vimos na seção 7.3.3 uma condição chamada de *ortogonalidade* do banco de filtros, que no domínio do tempo correspondia a\n",
    "\n",
    "\\begin{align*}\n",
    "\t(l_s)_k &= (l_a)_{-k}, \\forall k, \\\\\n",
    "\t(h_s)_k &= (h_a)_{-k}, \\forall k.\n",
    "\\end{align*}\n",
    "\n",
    "Essa mesma condição no domínio da transformada-$z$ se expressa como\n",
    "\n",
    "\\begin{align*}\n",
    "\tL_s(z) &= L_a(z^{-1}), \\\\\n",
    "\tH_s(z) &= H_a(z^{-1}).\n",
    "\\end{align*}\n",
    "\n",
    "A condição para reconstrução perfeita fica então\n",
    "\n",
    "\\begin{equation*}\n",
    "\t\\begin{array}{l}\n",
    "\t\t(7.43)\\\\\n",
    "\t\t(7.44)\n",
    "\t\\end{array}\\left\\{\\begin{array}{ll}\n",
    "\t\tL_a(z)L_a(z^{-1}) + H_a(z)H_a(z^{-1}) &= 2z^{-m} \\\\\n",
    "\t\tL_a(-z)L_a(z^{-1}) + H_a(-z)H_a(z^{-1}) &= 0.\n",
    "\t\\end{array}\\right.\n",
    "\\end{equation*}\n"
   ]
  },
  {
   "cell_type": "markdown",
   "metadata": {
    "slideshow": {
     "slide_type": "subslide"
    }
   },
   "source": [
    "Podemos impor a condição adicional $(h_a)_k = (-1)^k(l_a)_{N-1-k}$, que corresponde a\n",
    "\n",
    "\\begin{equation*}\n",
    "\tH_a(z) = (-z)^{-(N-1)}L_a(-z^{-1}) = -z^{-(N-1)}L_a(-z^{-1}), \\text{ (se }N\\text{ é par).}\n",
    "\\end{equation*}\n",
    "\n",
    "Neste caso, a condição $(7.44)$ fica automaticamente satisfeita:\n",
    "\n",
    "\\begin{array}{lll}\n",
    "\tL_a(-z)L_a(z^{-1}) + H_a(-z)H_a(z^{-1}) &= & L_a(-z)L_a(z^{-1})\\\\\n",
    "    &&+ z^{-(N-1)}L_a(z^{-1})(-z^{+(N-1)}L_a(-z)) \\\\\n",
    "\t&= &L_a(-z)L_a(z^{-1}) - L_a(z^{-1})L_a(-z) \\\\\n",
    "\t&=& 0,\n",
    "\\end{array}\n",
    "\n",
    "reduzindo a condição de reconstrução perfeita a\n",
    "\n",
    "$$(7.43')\\quad L_a(z)L_a(z^{-1}) + H_a(z)H_a(z^{-1}) = 2z^{-m},$$\n",
    "\n",
    "o que explica a finalidade da condição adicional."
   ]
  },
  {
   "cell_type": "markdown",
   "metadata": {
    "slideshow": {
     "slide_type": "subslide"
    }
   },
   "source": [
    "Além disso, $(7.43')$ pode ser re-escrita como\n",
    "\n",
    "\\begin{align*}\n",
    "2z^{-m}& = L_a(z)L_a(z^{-1}) + H_a(z)H_a(z^{-1})\\\\\n",
    "& = L_a(z)L_a(z^{-1}) - z^{-(N-1)}L_a(-z^{-1})(-z^{+(N-1)})L_a(-z)\\\\\n",
    "&= L_a(z)L_a(z^{-1}) + L_a(-z)L_a(-z^{-1}).\n",
    "\\end{align*}\n",
    "\n",
    "Definindo\n",
    "\n",
    "$$P(z) = L_a(z)L_a(z^{-1}),$$\n",
    "\n",
    "teremos que satisfazer\n",
    "\n",
    "$$\n",
    "(7.48)\\quad P(z) + P(-z) = 2z^{-m}.\n",
    "$$\n"
   ]
  },
  {
   "cell_type": "markdown",
   "metadata": {
    "slideshow": {
     "slide_type": "subslide"
    }
   },
   "source": [
    "\n",
    "Como a função $P(z) + P(-z)$ é par, sua expansão só possui coeficientes/expoentes pares, de onde $m$ necessariamente é par. Por outro lado,\n",
    "\n",
    "\\begin{equation*}\n",
    "\tP(z^{-1}) = L_a(z^{-1})L_a((z^{-1})^{-1}) = L_a(z^{-1})L_a(z) = P(z)\n",
    "\\end{equation*}\n",
    "\n",
    "e assim\n",
    "\n",
    "\\begin{equation*}\n",
    "\tP(z) + P(-z) = P(z^{-1}) + P(-z^{-1}) = 2(z^{-1})^{-m} = 2z^m,\n",
    "\\end{equation*}\n",
    "\n",
    "o que mostra que apenas $m = 0$ produzirá soluções. "
   ]
  },
  {
   "cell_type": "markdown",
   "metadata": {
    "slideshow": {
     "slide_type": "subslide"
    }
   },
   "source": [
    "Assim temos que encontrar $P(z)$ tal que\n",
    "\n",
    "\\begin{equation*}\n",
    "\tP(z) + P(-z) = 2\n",
    "\\end{equation*}\n",
    "\n",
    "Supondo que $l_a$ tenha coeficientes não-nulos $(l_0, l_1, \\dots, l_{N-1})$, podemos impor as restrições associadas a um filtro passa-baixas:\n",
    "\n",
    "\\begin{align*}\n",
    "\tL_a(1) &= \\sum\\limits_k l_k1^{-k} = \\sum\\limits_{k=0}^{N-1}l_k \\neq 0 \\\\\n",
    "\tL_a(-1) &= l_0 - l_1 + l_2 - l_3 \\dots = 0\n",
    "\\end{align*}\n",
    "\n",
    "Note ainda que $L_a(-1) = 0\\Rightarrow P(-1) = 0 \\Rightarrow P(1) = 2\\Rightarrow L_a(1) = \\sqrt{2}$ ou seja $\\sum\\limits_{k=0}^{N-1}l_k = \\sqrt{2}$."
   ]
  },
  {
   "cell_type": "markdown",
   "metadata": {
    "slideshow": {
     "slide_type": "slide"
    }
   },
   "source": [
    "### A solução de Daubechies\n",
    "\n",
    "Defina\n",
    "\n",
    "\\begin{align*}\n",
    "\tP(z) &= \\left(\\frac{z + z^{-1}}{2}\\right)\n",
    "\\end{align*}\n",
    "\n",
    "onde\n",
    "\n",
    "\\begin{equation*}\n",
    "\tQ(x) = c\\int\\limits_{-1}^x(1-y^2)^{\\frac{N}{2}-1}dy\n",
    "\\end{equation*}\n",
    "\n",
    "e $c$ é uma constante de normalização. O exercício 7.29 deduz essa fórmula de $Q(x)$.\n",
    "\n",
    "Escolhendo qualquer $N$ par teremos uma solução para o desenho de filtros ortogonais."
   ]
  },
  {
   "cell_type": "markdown",
   "metadata": {
    "slideshow": {
     "slide_type": "slide"
    }
   },
   "source": [
    "### Exemplo 7.15\n",
    "\n",
    "Se $N = 2$, temos\n",
    "\n",
    "\\begin{align*}\n",
    "\tQ(x) &= x + 1\n",
    "\\end{align*}\n",
    "\n",
    "e\n",
    "\n",
    "$$P(z) = \\frac{1}{2}z^{-1} + 1 + \\frac{1}{2}z$$\n",
    "\n",
    "que pode ser fatorado como\n",
    "\n",
    "$$P(z) = \\overbrace{\\left(\\frac{1}{\\sqrt{2}}+\\frac{1}{\\sqrt{2}}z^{-1}\\right)}^{L_a(z)}\\overbrace{\\left(\\frac{1}{\\sqrt{2}}+\\frac{1}{\\sqrt{2}}z^{1}\\right)}^{L_s(z)}.$$"
   ]
  },
  {
   "cell_type": "markdown",
   "metadata": {
    "slideshow": {
     "slide_type": "subslide"
    }
   },
   "source": [
    "Consequentemente, os filtros passa-altas serão\n",
    "\n",
    "$$\\begin{array}{lll}\n",
    "H_a(z) &= -z^{-1}L_a(-z^{-1})\\\\ &=  -z^{-1}\\left(\\frac{1}{\\sqrt{2}}-\\frac{1}{\\sqrt{2}}z^{1}\\right)\\\\ &= \\frac{1}{\\sqrt{2}}-\\frac{1}{\\sqrt{2}}z^{-1}\\\\\\\\\n",
    "H_s(z) &= H_a(z^{-1})\\\\ &= \\frac{1}{\\sqrt{2}}-\\frac{1}{\\sqrt{2}}z^{1},\\end{array}$$\n",
    "\n",
    "o que corresponde ao banco de filtros ortogonal de Haar."
   ]
  },
  {
   "cell_type": "markdown",
   "metadata": {
    "slideshow": {
     "slide_type": "slide"
    }
   },
   "source": [
    "### Exemplo 7.16\n",
    "\n",
    "Se $N = 4$, teremos\n",
    "\n",
    "\\begin{align*}\n",
    "\tQ(x) &= 1 + \\frac{3}{2}x - \\frac{1}{2}x^3\n",
    "\\end{align*}\n",
    "\n",
    "e $$P(z) = -\\frac{1}{16}z^{-3} + \\frac{9}{16}z^{-1} + 1 + \\frac{9}{16}z - \\frac{1}{16}z^3,$$\n",
    "\n",
    "o que é semelhante do polinômio encontrado no exemplo 7.14. Definindo \n",
    "\n",
    "$$L_a(z) = l_a + l_1z^{-1} + l_2z^{-2} + l_3z^{-3}$$\n",
    "\n",
    "e resolvendo o sistema $P(z) = L_a(z)L_a(z^{-1})$ teremos outra vez os filtros de Daubechies de 4 coeficientes."
   ]
  }
 ],
 "metadata": {
  "celltoolbar": "Slideshow",
  "kernelspec": {
   "display_name": "Python 3 (ipykernel)",
   "language": "python",
   "name": "python3"
  },
  "language_info": {
   "codemirror_mode": {
    "name": "ipython",
    "version": 3
   },
   "file_extension": ".py",
   "mimetype": "text/x-python",
   "name": "python",
   "nbconvert_exporter": "python",
   "pygments_lexer": "ipython3",
   "version": "3.7.15"
  }
 },
 "nbformat": 4,
 "nbformat_minor": 2
}
