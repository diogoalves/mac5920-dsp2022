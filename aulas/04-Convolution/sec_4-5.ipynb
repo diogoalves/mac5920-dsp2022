{
 "cells": [
  {
   "cell_type": "markdown",
   "metadata": {
    "slideshow": {
     "slide_type": "slide"
    }
   },
   "source": [
    "# MAC0317/MAC5920\n",
    "## Introdução ao Processamento de Sinais Digitais\n",
    "### Seção 4.5: Modelos de sinais infinitos e bi-infinitos"
   ]
  },
  {
   "cell_type": "code",
   "execution_count": null,
   "metadata": {
    "slideshow": {
     "slide_type": "skip"
    }
   },
   "outputs": [],
   "source": [
    "import math as m\n",
    "import numpy as np\n",
    "import matplotlib.pyplot as plt"
   ]
  },
  {
   "cell_type": "markdown",
   "metadata": {
    "slideshow": {
     "slide_type": "subslide"
    }
   },
   "source": [
    "### Sinais infinitos e bi-infinitos\n",
    "\n",
    "Vamos considerar um sinal $x(t)$ amostrado em instantes da forma $$t_k = kT,$$\n",
    "onde $T$=período de amostragem e $R=\\frac{1}{T}$=taxa de amostragem.\n",
    "\n",
    "Se $k\\in\\mathbb{N}$, teremos o *sinal de tempo infinito* $$x = (x_0, x_1, \\dots).$$\n",
    "\n",
    "Se $k\\in\\mathbb{Z}$, teremos o *sinal de tempo bi-infinito* $$x = (\\dots, x_{-1}, x_0, x_1, \\dots).$$"
   ]
  },
  {
   "cell_type": "markdown",
   "metadata": {
    "slideshow": {
     "slide_type": "slide"
    }
   },
   "source": [
    "### Os espaços $L^2(\\mathbb{N})$ e $L^2(\\mathbb{Z})$\n",
    "\n",
    "O espaço vetorial $L^2(\\mathbb{N})$ corresponde aos elementos $x = (x_0, x_1, \\dots)$ onde $x_k\\in\\mathbb{C}, \\forall k\\in\\mathbb{N}$, tal que\n",
    "\n",
    "\\begin{equation*}\n",
    "\t\\sum\\limits_{k=0}^{\\infty}|x_k|^2 < \\infty.\n",
    "\\end{equation*}\n",
    "\n",
    "Essa desigualdade representa a condição de energia finita."
   ]
  },
  {
   "cell_type": "markdown",
   "metadata": {
    "slideshow": {
     "slide_type": "subslide"
    }
   },
   "source": [
    "O espaço vetorial $L^2(\\mathbb{Z})$ tem uma definição análoga, onde $x_k\\in\\mathbb{C}, \\forall k\\in\\mathbb{Z}$.\n",
    "\n",
    "O nosso objetivo nessa seção é estender a definição de convolução para esses espaços, bem como seus resultados principais (linearidade, comutatitividade, associatividade, teorema da convolução)."
   ]
  },
  {
   "cell_type": "markdown",
   "metadata": {
    "slideshow": {
     "slide_type": "subslide"
    }
   },
   "source": [
    "### O problema maior: definição do produto interno\n",
    "\n",
    "Parece natural tentar usar a definição\n",
    "\\begin{equation*}\n",
    "\t(x, y) = \\sum\\limits_{k=0}^\\infty x_k\\overline{y_k}\n",
    "\\end{equation*}\n",
    "onde $x, y\\in L^2(\\mathbb{N})$.\n",
    "\n",
    "Porém, essa expressão faz sentido?\n",
    "\n",
    "E se fizer, ela define um produto interno em $L^2(\\mathbb{N})$?"
   ]
  },
  {
   "cell_type": "markdown",
   "metadata": {
    "slideshow": {
     "slide_type": "subslide"
    }
   },
   "source": [
    "### Lidando com séries (somas infinitas)\n",
    "\n",
    "Sempre que usarmos a notação de somatório com uma quantidade infinita de termos, a interpretação dessa notação será:\n",
    "\n",
    "\\begin{equation*}\n",
    "\t\\sum\\limits_{k=0}^\\infty a_k = \\lim\\limits_{n\\rightarrow\\infty}\\sum\\limits_{k=0}^na_k\n",
    "\\end{equation*}\n",
    "\n",
    "Se esse limite for real ou complexo, dizemos que a série *converge*. Se for infinito $(\\pm\\infty)$ ou não existir, dizemos que a série *diverge*."
   ]
  },
  {
   "cell_type": "markdown",
   "metadata": {
    "slideshow": {
     "slide_type": "subslide"
    }
   },
   "source": [
    "Os casos de séries convergente, divergente com limite $\\infty$ e divergente sem limite são ilustrados nos exemplos abaixo:\n",
    "$$\\begin{array}{l}\n",
    "\\displaystyle\\sum_{k=1}^\\infty\\frac{1}{2^k} = \\lim\\limits_{n\\rightarrow\\infty}\\sum\\limits_{k=0}^n \\frac{1}{2^k}=1\\\\\n",
    "\\displaystyle\\sum_{k=1}^\\infty\\frac{1}{k} = \\lim\\limits_{n\\rightarrow\\infty}\\sum\\limits_{k=0}^n\\frac{1}{k}=\\infty\\\\\n",
    "\\displaystyle\\sum_{k=0}^\\infty(-1)^k = \\lim\\limits_{n\\rightarrow\\infty}\\sum\\limits_{k=0}^n (-1)^k = 1,0,1,0,\\ldots\n",
    "\\ \\mbox{(lim não existe).}\n",
    "\\end{array}$$"
   ]
  },
  {
   "cell_type": "markdown",
   "metadata": {
    "slideshow": {
     "slide_type": "subslide"
    }
   },
   "source": [
    "### O produto interno em $L^2(\\mathbb{N})$ está bem-definido?\n",
    "\n",
    "Não é óbvio que a expressão $$(x, y) = \\sum\\limits_{k=0}^\\infty x_k\\overline{y_k}$$ esteja bem definida, ou seja, que dados $x,y\\in L^2(\\mathbb{N})$, a série sempre converge.\n",
    "\n",
    "Para mostrar que esse é o caso, vamos mostrar que a série em valor absoluto $\\sum\\limits_{k=0}^\\infty |x_k\\overline{y_k}|$ converge."
   ]
  },
  {
   "cell_type": "markdown",
   "metadata": {
    "slideshow": {
     "slide_type": "subslide"
    }
   },
   "source": [
    "### A convergência de $(x,y)$ depende da convergência de $\\Re(x,y)$ e $\\Im(x,y)$\n",
    "\n",
    "Começamos com algumas propriedades de números complexos: se $z,w\\in\\mathbb{C}$, então $(|z|-|w|)^2 = |z|^2-2|z||w|+|w|^2\\ge 0$, o que implica em\n",
    "$$|zw|=|z||w| \\leq \\frac{1}{2}\\left(|z|^2 + |w|^2\\right).$$"
   ]
  },
  {
   "cell_type": "markdown",
   "metadata": {
    "slideshow": {
     "slide_type": "subslide"
    }
   },
   "source": [
    "Então\n",
    "$$\\begin{array}{ll}\n",
    "|\\Re(zw)| \\leq |zw| \\leq \\frac{1}{2}\\left(|z|^2 + |w|^2\\right)\\\\\n",
    "|\\Im(zw)| \\leq |zw| \\leq \\frac{1}{2}\\left(|z|^2 + |w|^2\\right).\\\\\n",
    "\\end{array}$$\n",
    "Assim,\n",
    "$$\\sum\\limits_{k=0}^\\infty x_k\\overline{y_k} = \\sum\\limits_{k=0}^\\infty \\Re(x_k\\overline{y_k})+i\\cdot\\Im(x_k\\overline{y_k})$$ converge se, e somente se, $\\sum\\limits_{k=0}^\\infty \\Re(x_k\\overline{y_k})$ e $\\sum\\limits_{k=0}^\\infty \\Im(x_k\\overline{y_k})$ convergem."
   ]
  },
  {
   "cell_type": "markdown",
   "metadata": {
    "slideshow": {
     "slide_type": "subslide"
    }
   },
   "source": [
    "**Convergência das partes real e imaginária de $(x,y)$:**\n",
    "\n",
    "\\begin{align*}\n",
    "\t\\sum\\limits_{k=0}^\\infty |\\Re(x_k\\overline{y_k})| &\\leq \\sum\\limits_{k=0}^\\infty |x_k||\\overline{y_k}| \\\\\n",
    "\t&\\leq \\frac{1}{2}\\sum\\limits_{k=0}^\\infty \\left(|x_k|^2 + |y_k|^2\\right) \\\\\n",
    "\t&= \\frac{1}{2}\\Bigg[\\overbrace{\\sum\\limits_{k=0}^\\infty |x_k|^2}^{x\\in L^2(\\mathbb{N})} + \\overbrace{\\sum\\limits_{k=0}^\\infty|y_k|^2}^{y\\in L^2(\\mathbb{N})}\\Bigg] < \\infty.\n",
    "\\end{align*}\n",
    "\n",
    "A demonstração para $\\sum\\limits_{k=0}^\\infty |\\Im(x_k,\\overline{y_k})|$ é análoga."
   ]
  },
  {
   "cell_type": "markdown",
   "metadata": {
    "slideshow": {
     "slide_type": "subslide"
    }
   },
   "source": [
    "### $L^2(\\mathbb{N})$ e $L^2(\\mathbb{Z})$ são espaços com produto interno\n",
    "\n",
    "Vimos que o produto interno\n",
    "$$(x, y) = \\sum\\limits_{k=0}^\\infty x_k\\overline{y_k} < \\infty$$\n",
    "está bem-definido (no sentido da convergência da série $\\forall x,y\\in L^2(\\mathbb{N})$).\n",
    "As demais propriedades da definição do produto interno são mais fáceis de mostrar, e as provas se assemelham às provas do caso finito."
   ]
  },
  {
   "cell_type": "markdown",
   "metadata": {
    "slideshow": {
     "slide_type": "subslide"
    }
   },
   "source": [
    "Analogamente, podemos verificar que em $L^2(\\mathbb{Z})$ a expressão a seguir também define um produto interno:\n",
    "$$(x, y) = \\sum\\limits_{k=-\\infty}^\\infty x_k\\overline{y_k}.$$\n",
    "\n",
    "Assim podemos falar de *Análise de Fourier* em $L^2(\\mathbb{N})$ e $L^2(\\mathbb{Z})$. Para isso, devemos antes de mais nada entender *que tipo de representação espectral estamos buscando.*"
   ]
  },
  {
   "cell_type": "markdown",
   "metadata": {
    "slideshow": {
     "slide_type": "subslide"
    }
   },
   "source": [
    "### Exemplo de motivação para Análise de Fourier em $L^2(\\mathbb{N})$ e $L^2(\\mathbb{Z})$\n",
    "\n",
    "Considere como exemplo um sinal $x$ bi-infinito, associado a uma taxa de amostragem $R$, e que fosse analisado através de DFTs de segmentos finitos de tamanho $N$ centrados na origem:\n",
    "$$\\left(x_{-\\frac{N}{2}+1},\\ldots,x_{-1},x_0,x_1,\\ldots,x_{{\\frac{N}{2}}}\\right).$$\n",
    "A equação de síntese (IDFT) desse segmento será:\n",
    "\n",
    "\\begin{equation*}\n",
    "\tx_n = \\frac{1}{N}\\sum\\limits_{k=-\\frac{N}{2}+1}^{\\frac{N}{2}}X_ke^{i2\\pi kn/N}.\n",
    "\\end{equation*}"
   ]
  },
  {
   "cell_type": "markdown",
   "metadata": {
    "slideshow": {
     "slide_type": "subslide"
    }
   },
   "source": [
    "Na equação $$x_n = \\frac{1}{N}\\sum\\limits_{k=-\\frac{N}{2}+1}^{\\frac{N}{2}}X_ke^{i2\\pi kn/N}$$\n",
    "o coeficiente $X_k$ está associado a uma frequência que pode ser expressa de várias maneiras:\n",
    "- $k\\in\\left\\{-\\frac{N}{2}+1,\\ldots,\\frac{N}{2}\\right\\}$ em ciclos por $N$ amostras;\n",
    "- $\\frac{k}{N}\\in\\left(-\\frac{1}{2},+\\frac{1}{2}\\right]$ em ciclos por amostra;\n",
    "- $\\frac{kR}{N}\\in\\left(-\\frac{R}{2},+\\frac{R}{2}\\right]$ em Hz.\n",
    "\n",
    "Dessas medidas de frequência, a medida em *ciclos por amostra* é particularmente interessante porque a faixa de valores $\\left[-\\frac{1}{2},+\\frac{1}{2}\\right]$ não depende nem de $N$ nem de $R$."
   ]
  },
  {
   "cell_type": "markdown",
   "metadata": {
    "slideshow": {
     "slide_type": "subslide"
    }
   },
   "source": [
    "### Diferentes recortes $\\implies$ diferentes resoluções espectrais\n",
    "\n",
    "Considerando diferentes recortes (diferentes valores de $N$) \n",
    "$$\\left(x_{-\\frac{N}{2}+1},\\ldots,x_{-1},x_0,x_1,\\ldots,x_{{\\frac{N}{2}}}\\right)$$\n",
    "podemos afirmar que\n",
    "\n",
    "- do ponto de vista *temporal*, teremos acesso a mais regiões do sinal com valores maiores de $N$;"
   ]
  },
  {
   "cell_type": "markdown",
   "metadata": {
    "slideshow": {
     "slide_type": "subslide"
    }
   },
   "source": [
    "- do ponto de vista *espectral*, quanto maior o $N$, maior a quantidade de frequências da forma $$f=\\frac{k}{N}\\in\\left(-\\frac{1}{2},+\\frac{1}{2}\\right]\\quad \\left(k=\\frac{-N}{2}+1,\\ldots,\\frac{N}{2}\\right)$$ utilizadas na representação, ou seja, maior a **densidade** do espectro amostrado no intervalo fixo $\\left(-\\frac{1}{2},+\\frac{1}{2}\\right]$.\n",
    "\n",
    "Isso sugere que o espectro completo do sinal $x$ bi-infinito deveria usar **todas** as frequências reais $f\\in\\left(-\\frac{1}{2},+\\frac{1}{2}\\right]$."
   ]
  },
  {
   "cell_type": "markdown",
   "metadata": {
    "slideshow": {
     "slide_type": "subslide"
    }
   },
   "source": [
    "### Espectro contínuo em função da frequência\n",
    "\n",
    "Se escrevermos a DFT dos segmentos de tamanho $N$ em função de $f=\\frac{k}{N}$, teremos:\n",
    "\\begin{equation*}\n",
    "\tx_n = \\frac{1}{N}\\sum\\limits_{f=-\\frac{1}{2}+\\frac{1}{N}}^{\\frac{1}{2}}X(f)e^{i2\\pi fn},\n",
    "\\end{equation*}\n",
    "onde a função $X(f):\\left(-\\frac{1}{2},+\\frac{1}{2}\\right]\\mapsto\\mathbb{C}$ é amostrada nos pontos $$f=\\frac{k}{N}\\quad \\mbox{para}\\quad k=-\\frac{N}{2}+1,\\ldots,+\\frac{N}{2}.$$ "
   ]
  },
  {
   "cell_type": "markdown",
   "metadata": {
    "slideshow": {
     "slide_type": "subslide"
    }
   },
   "source": [
    "### Limite das DFTs para $N\\to\\infty$\n",
    "\n",
    "Tomando o limite para $N\\rightarrow\\infty$, poderíamos escrever\n",
    "\n",
    "\\begin{align*}\n",
    "\tx_n &= \\lim\\limits_{N\\rightarrow\\infty}\\frac{1}{N}\\sum\\limits_{f=-\\frac{1}{2}+\\frac{1}{N}}^{\\frac{1}{2}}X(f)e^{i2\\pi fn}\\\\\n",
    "\t&= \\int\\limits_{-1/2}^{1/2}X(f)e^{i2\\pi fn}d\\!f\n",
    "\\end{align*}\n",
    "\n",
    "onde a expressão intermediária $\\lim\\limits_{N\\rightarrow\\infty}\\sum$ corresponde à própria definição da última integral, no sentido de Riemmann."
   ]
  },
  {
   "cell_type": "markdown",
   "metadata": {
    "slideshow": {
     "slide_type": "slide"
    }
   },
   "source": [
    "### Transformada de Fourier de Tempo Discreto\n",
    "\n",
    "**Def. 4.4:** Para um elemento $x\\in L^2(\\mathbb{Z})$, a transformada de Fourier de tempo discreto (DTFT) é a função $X(f)$ definida para $-\\frac{1}{2}\\leq f\\leq \\frac{1}{2}$ dada por\n",
    "\n",
    "\\begin{equation*}\n",
    "\tX(f) = \\sum\\limits_{n=-\\infty}^{\\infty}x_ne^{-i2\\pi fn}.\n",
    "\\end{equation*}\n",
    "Note que essa definição coincide com o produto interno $X(f) = (x,E_f)$, onde $E_f$ é o vetor bi-infinito com componentes $(E_f)_n = e^{i2\\pi fn}$."
   ]
  },
  {
   "cell_type": "markdown",
   "metadata": {
    "slideshow": {
     "slide_type": "slide"
    }
   },
   "source": [
    "A transformada inversa (IDTFT) é definida para $n\\in\\mathbb{Z}$ como\n",
    "\n",
    "\\begin{equation*}\n",
    "\tx_n = \\int\\limits_{-\\frac{1}{2}}^{\\frac{1}{2}}X(f)e^{i2\\pi fn}d\\!f.\n",
    "\\end{equation*}"
   ]
  },
  {
   "cell_type": "markdown",
   "metadata": {
    "slideshow": {
     "slide_type": "subslide"
    }
   },
   "source": [
    "#### Comentário: Frequências em ciclos/amostra e em Hz\n",
    "\n",
    "Se $x$ foi obtido amostrando $x_k = x(kT)$, então a frequência de amostragem é $\\frac{1}{T}$Hz e a frequência de Nyquist é $\\frac{1}{2T}$Hz. Nesse caso, podemos fazer $\\tilde{f} = \\frac{f}{T}$ e $\\tilde{X}(\\tilde{f}) = X(\\tilde{f}T)$ e assim podemos escrever o par DTFT/IDTFT como\n",
    "\n",
    "\\begin{equation*}\n",
    "x_n = \\int\\limits_{-\\frac{1}{2T}}^{\\frac{1}{2T}}\\tilde{X}(\\tilde{f})e^{i2\\pi \\tilde{f}Tn}Td\\!\\tilde{f}\n",
    "\\quad\\quad\n",
    "\\tilde{X}(\\tilde{f}) = \\sum\\limits_{n=-\\infty}^\\infty x_ke^{-i2\\pi \\tilde{f}Tn}\n",
    "\\end{equation*}"
   ]
  },
  {
   "cell_type": "markdown",
   "metadata": {
    "slideshow": {
     "slide_type": "subslide"
    }
   },
   "source": [
    "### Transformada de Fourier em $L^2(\\mathbb{N})$\n",
    "\n",
    "Para $x\\in L^2(\\mathbb{N})$, podemos definir $x'\\in L^2(\\mathbb{Z})$ no qual $$x_k' = x_k\\ \\mbox{se}\\ k\\geq 0\\ \\mbox{e}\\ x_k' = 0\\ \\mbox{se}\\ k < 0.$$\n",
    "A DTFT/IDFT de $x\\in L^2(\\mathbb{N})$ podem ser calculadas em $L^2(\\mathbb{Z})$ como:\n",
    "\n",
    "\\begin{equation*}\n",
    "\tX(f) = \\sum\\limits_{n=0}^\\infty x_ne^{-i2\\pi fn}\n",
    "\\quad\\quad\n",
    "x_n = \\int\\limits_{-\\frac{1}{2}}^\\frac{1}{2}X(f)e^{i2\\pi fn}d\\!f.\n",
    "\\end{equation*}"
   ]
  },
  {
   "cell_type": "markdown",
   "metadata": {
    "slideshow": {
     "slide_type": "slide"
    }
   },
   "source": [
    "### Convolução e filtragem em $L^2(\\mathbb{N})$ e $L^2(\\mathbb{Z})$\n",
    "\n",
    "**Def:** A convolução de dois elementos $x,y\\in L^2(\\mathbb{Z})$ é definida como:\n",
    "\n",
    "\\begin{equation*}\n",
    "\tw_m = (x*y)_m = \\sum\\limits_{k=-\\infty}^{\\infty}x_ky_{(m - k)}\n",
    "\\end{equation*}"
   ]
  },
  {
   "cell_type": "markdown",
   "metadata": {
    "slideshow": {
     "slide_type": "subslide"
    }
   },
   "source": [
    "Por exemplo:\n",
    "\n",
    "\\begin{align*}\n",
    "\tw_0: &= \\begin{matrix}\n",
    "\t\t\\dots & x_{-2} & x_{-1} & x_0    & x_1    & x_2    & \\dots\\\\\n",
    "\t\t\\dots & \\times & \\times & \\times & \\times & \\times & \\dots \\\\\n",
    "\t\t\\dots & y_{2}  & y_{1}  & y_0    & y_{-1} & y_{-2} & \\dots\\\\\n",
    "\t\t\\hline\n",
    "        \\end{matrix}\\\\\n",
    "\t\t&\\quad\\cdots+x_{-2}y_{2}+x_{-1}y_{1}+x_0y_0+x_1y_{-1}+\\cdots x_ny_{-n}+\\cdots\\quad\\quad \\rightarrow w_0\\\\\n",
    "    \\\\\n",
    "\tw_1: &= \\begin{matrix}\n",
    "\t\t\\dots & x_{-2} & x_{-1} & x_0    & x_1    & x_2    & \\dots\\\\\n",
    "\t\t\\dots & \\times & \\times & \\times & \\times & \\times & \\dots \\\\\n",
    "\t\t\\dots & y_{3}  & y_{2}  & y_1    & y_{0} & y_{-1} & \\dots\\\\\n",
    "\t\t\\hline\n",
    "        \\end{matrix}\\\\\n",
    "\t\t&\\quad\\cdots+x_{-2}y_{3}+x_{-1}y_{2}+x_0y_1+x_1y_0+\\cdots x_ny_{1-n}+\\cdots\\quad\\quad \\rightarrow w_1\n",
    "\\end{align*}"
   ]
  },
  {
   "cell_type": "markdown",
   "metadata": {
    "slideshow": {
     "slide_type": "subslide"
    }
   },
   "source": [
    "$\\ldots$ e em geral:\n",
    "\\begin{align*}\n",
    "\tw_m: &= \\begin{matrix}\n",
    "\t\t\\dots & x_{-2} & x_{-1} & x_0    & x_1    & x_2    & \\dots\\\\\n",
    "\t\t\\dots & \\times & \\times & \\times & \\times & \\times & \\dots \\\\\n",
    "\t\t\\dots & y_{m+2}  & y_{m+1}  & y_m    & y_{m-1} & y_{m-2} & \\dots\\\\\n",
    "\t\t\\hline\n",
    "        \\end{matrix}\\\\\n",
    "\t\t&\\quad\\cdots+x_{-2}y_{m+2}+x_{-1}y_{m+1}+x_0y_m+x_1y_{m-1}+\\cdots x_ny_{m-n}+\\cdots \\rightarrow w_m\n",
    "\\end{align*}"
   ]
  },
  {
   "cell_type": "markdown",
   "metadata": {
    "slideshow": {
     "slide_type": "subslide"
    }
   },
   "source": [
    "### Obs: $x*y$ não necessariamente possui energia finita\n",
    "\n",
    "Em geral, pode-se provar que se $x,y\\in L^2(\\mathbb{Z})$ então $w\\in L^\\infty (\\mathbb{Z})$, ou seja, que existe $M>0$ tal que $|w_m| < M, \\forall m\\in\\mathbb{Z}$.\n",
    "\n",
    "Entretanto, não é necessariamente verdade que $\\|w\\|^2<\\infty$, ou seja, que $w = x*y \\in L^2(\\mathbb{Z})$ (ver exercício 31 do livro).\n",
    "\n",
    "Porém, se $x$ e $y$ são vetores finitos estendidos com zeros, então $w\\in L^2(\\mathbb{Z})$."
   ]
  },
  {
   "cell_type": "markdown",
   "metadata": {
    "slideshow": {
     "slide_type": "subslide"
    }
   },
   "source": [
    "### Convolução em $L^2(\\mathbb{N})$\n",
    "\n",
    "A convolução em $L^2(\\mathbb{N})$ é definida como\n",
    "\n",
    "\\begin{equation*}\n",
    "\t(x*y)_m = \\sum\\limits_{k=0}^{\\infty}x_ky_{(m - k)},\\quad\\forall m\\in\\mathbb{N},\n",
    "\\end{equation*}\n",
    "\n",
    "onde $x_k = 0$ para $k < 0$ e $y_{(m - k)} = 0$ para $m-k<0 \\iff k > m$, ou seja,\n",
    "\n",
    "\\begin{equation*}\n",
    "\t(x*y)_m = \\sum\\limits_{k=0}^{m}x_ky_{(m - k)},\\quad\\forall m\\in\\mathbb{N}.\n",
    "\\end{equation*}"
   ]
  },
  {
   "cell_type": "markdown",
   "metadata": {
    "slideshow": {
     "slide_type": "subslide"
    }
   },
   "source": [
    "**Prop. 4.1:** Sejam $x, y, w\\in L^2(\\mathbb{N})$ ou $L^2(\\mathbb{Z})$ e $a,b\\in\\mathbb{C}$, então valem as propriedades de\n",
    "\n",
    "\\begin{array}{ll}\n",
    "\t\\mbox{Comutatividade:}& x*y = y*x\\\\\n",
    "\t\\mbox{Associatividade:}& (x*y)*w = x*(y*w)\\\\\n",
    "\t\\mbox{Linearidade:}& x*(ay + bw) = a(x*y) = b(x*w)\n",
    "\\end{array}"
   ]
  },
  {
   "cell_type": "markdown",
   "metadata": {
    "slideshow": {
     "slide_type": "slide"
    }
   },
   "source": [
    "### Teorema da convolução em $L^2(\\mathbb{Z})$\n",
    "\n",
    "**Teorema 4.5:** Sejam $x$ e $y\\in L^2(\\mathbb{Z})$ com DTFTs $X(f)$ e $Y(f)$. Se $w = x*y$, então a DTFT de $w$ é\n",
    "\n",
    "\\begin{equation*}\n",
    "\tW(f) = X(f)Y(f),\n",
    "\\end{equation*}\n",
    "\n",
    "para todas as frequências $f\\in\\left(-\\frac{1}{2},+\\frac{1}{2}\\right]$."
   ]
  },
  {
   "cell_type": "markdown",
   "metadata": {
    "slideshow": {
     "slide_type": "subslide"
    }
   },
   "source": [
    "**Prova:**\n",
    "\n",
    "Pela definição da DTFT de $x$ e $y$:\n",
    "\n",
    "\\begin{align*}\n",
    "\tX(f) &= \\sum\\limits_{m=-\\infty}^\\infty x_me^{-i2\\pi fm} = \\sum\\limits_{m=-\\infty}^\\infty x_mz^{-m} \\\\\n",
    "\tY(f) &= \\sum\\limits_{m=-\\infty}^\\infty y_mz^{-m} \\\\\n",
    "\\end{align*}\n",
    "\n",
    "onde $z = e^{2\\pi if}$ e assim $z^{-m} = (e^{i2\\pi f})^{-m} = e^{-i2\\pi fm}$."
   ]
  },
  {
   "cell_type": "markdown",
   "metadata": {
    "slideshow": {
     "slide_type": "subslide"
    }
   },
   "source": [
    "Então,\n",
    "\n",
    "\\begin{align*}\n",
    "\tX(f)Y(f) &= \\left[\\sum\\limits_{k=-\\infty}^\\infty x_kz^{-k}\\right]\\left[\\sum\\limits_{m=-\\infty}^\\infty y_mz^{-m}\\right] \\\\\n",
    "\t&= \\sum\\limits_{k=-\\infty}^\\infty\\sum\\limits_{m=-\\infty}^\\infty x_kz^{-k}y_mz^{-m} \\\\\n",
    "\t&= \\sum\\limits_{k=-\\infty}^\\infty\\sum\\limits_{m=-\\infty}^\\infty x_ky_mz^{-k-m}.\n",
    "\\end{align*}"
   ]
  },
  {
   "cell_type": "markdown",
   "metadata": {
    "slideshow": {
     "slide_type": "subslide"
    }
   },
   "source": [
    "Definindo $s = k+m$ (e portanto $m = s-k$), temos\n",
    "\n",
    "\\begin{align*}\n",
    "\tX(f)Y(f) &= \\sum\\limits_{k=-\\infty}^\\infty\\sum\\limits_{s=-\\infty}^\\infty x_ky_{s-k}z^{-s} \\\\\n",
    "\t&= \\sum\\limits_{s=-\\infty}^\\infty\\left[ \\sum\\limits_{k=-\\infty}^\\infty x_ky_{s-k}\\right] z^{-s} \\\\\n",
    "\t&= \\sum\\limits_{s=-\\infty}^\\infty (x*y)_s z^{-s} \\\\\n",
    "\t&= \\sum\\limits_{s=-\\infty}^\\infty w_s z^{-s} = \\sum\\limits_{s=-\\infty}^\\infty w_s e^{-i2\\pi fs}= W(f)\n",
    "\\end{align*}"
   ]
  },
  {
   "cell_type": "markdown",
   "metadata": {
    "slideshow": {
     "slide_type": "subslide"
    }
   },
   "source": [
    "### Exemplo 4.5: Filtro da média\n",
    "\n",
    "Seja $h\\in L^2(\\mathbb{Z})$ com componentes $h_0 = \\frac{1}{2}, h_1 = \\frac{1}{2}$ e $h_k = 0$ para $k\\neq 0, 1$, ou seja, $h = \\left(\\dots, 0, \\overbrace{\\frac{1}{2}}^{n=0}, \\frac{1}{2}, 0, 0, \\dots, \\right)$.\n",
    "\n",
    "Considerando $y = x*h$ para $x\\in L^2(\\mathbb{Z})$ então $h$ define o filtro associado à equação\n",
    "$$y_n = \\sum_{m=-\\infty}^{\\infty}h_mx_{n-m} = \\frac{1}{2}x_n+\\frac{1}{2}x_{n-1}.$$"
   ]
  },
  {
   "cell_type": "markdown",
   "metadata": {
    "slideshow": {
     "slide_type": "subslide"
    }
   },
   "source": [
    "Pelo teorema da convolução, teremos $Y(f) = X(f)H(f)$, onde\n",
    "\n",
    "\\begin{align*}\n",
    "\tH(f) &= \\sum\\limits_{k=-\\infty}^\\infty h_ke^{-i2\\pi fk} \\\\\n",
    "\t&= \\frac{1}{2}e^0 + \\frac{1}{2}e^{-i2\\pi f} \\\\\n",
    "\t&= e^{-i\\pi f}\\frac{1}{2}\\left(e^{i\\pi f} + e^{-i\\pi f}\\right) \\\\\n",
    "\t&= e^{-i\\pi f}\\cos(\\pi f) \\\\\n",
    "\t\\implies & |H(f)| = \\cos(\\pi f)\\quad\\quad \\measuredangle H(f) = -\\pi f,\n",
    "\\end{align*}\n",
    "o que explica a ação do filtro da média como filtro passa-baixa também nesse contexto de sinais bi-infinitos."
   ]
  },
  {
   "cell_type": "code",
   "execution_count": null,
   "metadata": {
    "slideshow": {
     "slide_type": "subslide"
    }
   },
   "outputs": [],
   "source": [
    "f = np.arange(-0.5,0.5,0.01); Hf = np.exp(-1j*m.pi*f)*np.cos(m.pi*f)\n",
    "fig,ax = plt.subplots(1, 2, figsize=(15,5));\n",
    "fig.suptitle(r\"Resposta em frequência do filtro da média em $L_2(\\mathbb{Z})$\")\n",
    "ax[0].plot(f,abs(Hf));ax[0].set_title(r\"$|H(f)|$\")\n",
    "ax[1].plot(f,np.angle(Hf));ax[1].set_title(r\"$\\measuredangle H(f)$\");plt.show()"
   ]
  },
  {
   "cell_type": "markdown",
   "metadata": {
    "slideshow": {
     "slide_type": "slide"
    }
   },
   "source": [
    "### Transformada $z$\n",
    "\n",
    "Uma motivação para a introdução da transformada $z$ é ampliar o poder de análise da resposta em frequência de filtros no contexto de sinais de duração arbitrária.\n",
    "\n",
    "Dado $x\\in L^2(\\mathbb{Z})$, sua transformada $z$ é definida como\n",
    "\n",
    "\\begin{equation*}\n",
    "\tX(z) = \\sum\\limits_{n=-\\infty}^{\\infty}x_n z^{-n}.\n",
    "\\end{equation*}\n",
    "\n",
    "**Observação:** se essa expressão parece a DTFT de $x$, isso não é mera coincidência: de fato a DTFT é um caso particular da transformada $z$ onde $z=e^{i2\\pi f}$."
   ]
  },
  {
   "cell_type": "markdown",
   "metadata": {
    "slideshow": {
     "slide_type": "subslide"
    }
   },
   "source": [
    "A transformada $z$ admite duas interpretações:\n",
    "\n",
    "- **Formal/Algébrica:** $z$ é interpretado como um termo \"literal\", sujeito a manipulações algébricas usuais, mas não é substituído por valores numéricos.\n",
    "\n",
    "- **Analítica:** $z$ é interpretado como uma variável complexa, e $X(\\cdot)$ é uma \"função de $\\mathbb{C}$ em $\\mathbb{C}$\"."
   ]
  },
  {
   "cell_type": "markdown",
   "metadata": {
    "slideshow": {
     "slide_type": "subslide"
    }
   },
   "source": [
    "### Exemplo 4.6\n",
    "\n",
    "Seja $x\\in L^2(\\mathbb{Z})$ com $x_{-1} = 2, x_0 = 1, x_1 = 3, x_2 = -2$ e $x_k = 0, \\forall k\\neq -1, 0, 1, 2$.\n",
    "\n",
    "A transformada $z$ de $x$ é\n",
    "\t\\begin{equation*}\n",
    "\t\tX(z) = 2z^1 + 1z^0 + 3z^{-1} - 2z^{-2}.\n",
    "\t\\end{equation*}"
   ]
  },
  {
   "cell_type": "markdown",
   "metadata": {
    "slideshow": {
     "slide_type": "subslide"
    }
   },
   "source": [
    "\\begin{equation*}\n",
    "\t\tX(z) = 2z^1 + 1z^0 + 3z^{-1} - 2z^{-2}.\n",
    "\\end{equation*}    \n",
    "1. interpretação formal: $X(z)$ pode ser visto como uma \"recodificação\" da sequência $\\{x_n\\}_{n\\in\\mathbb{Z}}$.\n",
    "\n",
    "> Nesse contexto, seria possível por exemplo construir expressões como $$X(z)^2 = X(z)X(z) = 4z^2+4z^1+13z^0-2z^{-1}+5z^{-2}-12z^{-3}+4z^{-4}$$\n",
    "(observe que essa é a transformada $z$ de $x*x$, sugerindo um teorema da convolução para a transformada $z$)."
   ]
  },
  {
   "cell_type": "markdown",
   "metadata": {
    "slideshow": {
     "slide_type": "subslide"
    }
   },
   "source": [
    "\\begin{equation*}\n",
    "\t\tX(z) = 2z^1 + 1z^0 + 3z^{-1} - 2z^{-2}.\n",
    "\\end{equation*}\n",
    "\n",
    "2. interpretação analítica: $X$ pode ser visto como uma função de $\\mathbb{C}\\backslash\\{0\\}\\rightarrow\\mathbb{C}$.\n",
    "\n",
    "> Nesse contexto, seria possível computar valores como\n",
    "$$\\begin{array}{ll}\n",
    "X(1) = 4,& X(-1) = -6,\\\\\n",
    "X(i) = 3-i,& X(-i) = 3+i\n",
    "\\end{array}$$\n",
    "(observe que esses são os valores da DTFT de $x$ respectivamente em $f=0,\\frac{1}{2},\\frac{1}{4},-\\frac{1}{4}$)."
   ]
  },
  {
   "cell_type": "markdown",
   "metadata": {
    "slideshow": {
     "slide_type": "subslide"
    }
   },
   "source": [
    "### Exemplo 4.7\n",
    "\n",
    "Seja $x$ de tempo bi-infinito onde $x_0 = 0$ e $x_k = \\frac{1}{|k|}, \\forall k\\neq 0$.\n",
    "\n",
    "A transformada $z$ de $x$ é\n",
    "\\begin{equation*}\n",
    "\t\tX(z) = \\dots + \\frac{1}{3}z^3 + \\frac{1}{2}z^2 + z^1 + 0 + z^{-1} + \\frac{1}{2}z^{-2} + \\frac{1}{3}z^{-3} + \\dots\n",
    "\\end{equation*}"
   ]
  },
  {
   "cell_type": "markdown",
   "metadata": {
    "slideshow": {
     "slide_type": "subslide"
    }
   },
   "source": [
    "\\begin{equation*}\n",
    "\t\tX(z) = \\dots + \\frac{1}{3}z^3 + \\frac{1}{2}z^2 + z^1 + 0 + z^{-1} + \\frac{1}{2}z^{-2} + \\frac{1}{3}z^{-3} + \\dots\n",
    "\\end{equation*}\n",
    "\n",
    "Do ponto de vista analítico, temos:\n",
    "- $|z| < 1$: a soma dos expoentes positivos converge, mas a soma dos termos com expoente negativo diverge;\n",
    "- $|z| > 1$: a soma dos expoentes positivos diverge, mas a soma dos termos com expoente negativo converge;\n",
    "\n",
    "Na melhor das hipóteses, a interpretação analítica permite considerar $X(z)$ como função com domínio $D\\subseteq\\{z\\ |\\ |z| = 1\\}$ (mesmo assim o domínio não seria o círculo todo, pois para $z=1$ a série acima diverge)."
   ]
  },
  {
   "cell_type": "markdown",
   "metadata": {
    "slideshow": {
     "slide_type": "subslide"
    }
   },
   "source": [
    "### Exemplo 4.8\n",
    "\n",
    "Seja $x$ de tempo bi-infinito com $x_k = \\left\\{\\begin{array}{ll}\n",
    "\t\t\\frac{1}{2^k}, & k\\geq 0 \\\\\n",
    "\t\t0, & k < 0\n",
    "\t\\end{array}\\right.$\n",
    "    \n",
    "cuja transformada $z$ é\n",
    "\\begin{equation*}\n",
    "\t\tX(z) = \\sum\\limits_{k=0}^{\\infty}\\frac{1}{2^k}z^{-k} = \\sum\\limits_{k=0}^{\\infty}\\frac{1}{(2z)^k} = 1+\\frac{1}{2z}+\\frac{1}{4z^2}+\\cdots.\n",
    "\\end{equation*}"
   ]
  },
  {
   "cell_type": "markdown",
   "metadata": {
    "slideshow": {
     "slide_type": "subslide"
    }
   },
   "source": [
    "\\begin{equation*}\n",
    "\t\tX(z) = 1+\\frac{1}{2z}+\\frac{1}{4z^2}+\\cdots.\n",
    "\\end{equation*}\n",
    "\n",
    "Se $\\left|\\frac{1}{2z}\\right| < 1\\quad\\left(|z| > \\frac{1}{2}\\right)$ então\n",
    "\t\\begin{equation*}\n",
    "\t\tX(z) = \\frac{1}{1-\\frac{1}{2z}}\n",
    "\t\\end{equation*}\n",
    "Assim $X(z)$ possui domínio $D = \\left\\{z||z|>\\frac{1}{2}\\right\\}$. Em particular $X(z)$ está definido para $|z|=1$, onde $X(z)$ coincide com a transformada de Fourier (observe que esse sinal *possui energia finita*, ou seja, $x\\in L^2(\\mathbb{Z})$)."
   ]
  },
  {
   "cell_type": "markdown",
   "metadata": {
    "slideshow": {
     "slide_type": "subslide"
    }
   },
   "source": [
    "Considere agora $y$ de tempo bi-infinito onde $y_k = \\left\\{\\begin{array}{ll}\n",
    "\t\t0, & k\\geq 0 \\\\\n",
    "\t\t\\frac{-1}{2^k}, & k < 0\n",
    "\t\\end{array}\\right.$\n",
    "\n",
    "com transformada $z$\n",
    "\t\\begin{align*}\n",
    "\t\tY(z) &= \\sum\\limits_{k=-\\infty}^{-1}-\\frac{1}{2^k}z^{-k} \\\\\n",
    "\t\t&= \\sum\\limits_{k=-\\infty}^{-1}\\frac{-1}{(2z)^k} \\\\\n",
    "\t\t&= -2z - 4z^2 - 8z^3 - \\cdots\n",
    "\t\\end{align*}"
   ]
  },
  {
   "cell_type": "markdown",
   "metadata": {
    "slideshow": {
     "slide_type": "subslide"
    }
   },
   "source": [
    "\\begin{equation*}\n",
    "\t\tY(z) = -2z - 4z^2 - 8z^3 - \\cdots\n",
    "\\end{equation*}\n",
    "\n",
    "Assim $Y(z)$ está definida se $|2z| < 1$ $\\left(|z| < \\frac{1}{2}\\right)$, e satisfaz\n",
    "\t\\begin{equation*}\n",
    "\t\tY(z) = \\frac{-2z}{1-2z} = \\frac{1}{1-\\frac{1}{2z}}.\n",
    "\t\\end{equation*}\n",
    "\n",
    "Note que $X(z)$ e $Y(z)$ aparentam ser a mesma função, mas **não são** porque possuem domínios de definição distintos."
   ]
  },
  {
   "cell_type": "markdown",
   "metadata": {
    "slideshow": {
     "slide_type": "slide"
    }
   },
   "source": [
    "### Convolução e transformada $z$\n",
    "\n",
    "Se $x, y\\in L^2(\\mathbb{Z})$ e $w = x*y\\in L^\\infty (\\mathbb{Z})$, se $X(z), Y(z)$ e $W(z)$ são as transformadas $z$ de $x, y$ e $w$ respectivamente, então\n",
    "\n",
    "\\begin{equation*}\n",
    "\tW(z) = X(z)Y(z),\n",
    "\\end{equation*}\n",
    "\n",
    "para qualquer $z$ nos domínios de $X$, $Y$ e $W$.\n",
    "\n",
    "A prova deste resultado é idêntica à do teorema 4.5."
   ]
  },
  {
   "cell_type": "markdown",
   "metadata": {
    "slideshow": {
     "slide_type": "subslide"
    }
   },
   "source": [
    "### DTFT e Transformada $z$\n",
    "\n",
    "Levando em consideração que\n",
    "\n",
    "\\begin{align*}\n",
    "\t(\\mbox{DTFT})\\quad X(f) &= \\sum\\limits_{-\\infty}^{\\infty}x_ne^{-i2\\pi fn} = \\sum\\limits_{-\\infty}^{\\infty}x_n(e^{i2\\pi f})^{-n} \\\\\n",
    "\t&= \\sum\\limits_{-\\infty}^{\\infty}x_nz^{-n} = X(z)\\ (\\mbox{Transf.} z)\\text{ para }z = e^{i2\\pi f}\n",
    "\\end{align*}\n",
    "\n",
    "e analogamente para $Y$ e $W$, podemos entender o teorema da convolução para sinais bi-infinitos (Teo. 4.5) como um caso particular do teorema da convolução para transformadas $z$ usando o mapeamento $z\\leftrightarrow e^{i2\\pi f}$."
   ]
  },
  {
   "cell_type": "markdown",
   "metadata": {
    "slideshow": {
     "slide_type": "slide"
    }
   },
   "source": [
    "### Relação entre convolução (circular) em $\\mathbb{C}^N$ e convolução (linear) em $L^2(\\mathbb{Z})$\n",
    "\n",
    "**Exemplo:** $x=\\begin{pmatrix}x_0\\\\x_1\\\\x_2\\end{pmatrix}\\in\\mathbb{C}^3$ e $y=\\begin{pmatrix}y_0\\\\y_1\\\\y_2\\end{pmatrix}\\in\\mathbb{C}^3$ e suas extensões $\\tilde{x}, \\tilde{y}\\in L^2(\\mathbb{Z})$ fazendo $\\tilde{x}_k = \\tilde{y}_k = 0, \\forall k\\neq 0, 1, 2$. Seja $w = x*y\\in\\mathbb{C}^3$\n",
    "\n",
    "\\begin{align*}\n",
    "\tw_0 &= x_0y_0 + x_1y_2 + x_2y_1 \\\\\n",
    "\tw_1 &= x_0y_1 + x_1y_0 + x_2y_2 \\\\\n",
    "\tw_2 &= x_0y_2 + x_1y_1 + x_2y_0\n",
    "\\end{align*}"
   ]
  },
  {
   "cell_type": "markdown",
   "metadata": {
    "slideshow": {
     "slide_type": "subslide"
    }
   },
   "source": [
    "Seja agora $\\tilde{w} = \\tilde{x}*\\tilde{y}\\in L^2(\\mathbb{Z})$\n",
    "\n",
    "\\begin{array}{lll}\n",
    "\t\\tilde{w}_0 &= x_0y_0 + x_1(0) + x_2(0) &= x_0y_0 \\\\\n",
    "\t\\tilde{w}_1 &= x_0y_1 + x_1y_0 + x_2(0) &= x_0y_1 + x_1y_0 \\\\\n",
    "\t\\tilde{w}_2 &= x_0y_2 + x_1y_1 + x_2y_0 \\\\\n",
    "\t\\tilde{w}_3 &= x_0(0) + x_1y_2 + x_2y_1 &= x_1y_2 + x_2y_1 \\\\\n",
    "\t\\tilde{w}_4 &= x_0(0) + x_1(0) + x_2y_2 &= x_2y_2 \\\\\n",
    "\t\\tilde{w}_k &= 0,\\quad\\forall k\\neq 0, 1, 2, 3, 4\n",
    "\\end{array}"
   ]
  },
  {
   "cell_type": "markdown",
   "metadata": {
    "slideshow": {
     "slide_type": "subslide"
    }
   },
   "source": [
    "Note que\n",
    "\n",
    "\\begin{array}{ll}\n",
    "w_0= (x_0y_0) + (x_1y_2 + x_2y_1) &= \\tilde{w}_0+\\tilde{w}_3\\\\\n",
    "w_1= (x_0y_1 + x_1y_0) + (x_2y_2)&=\\tilde{w}_1+\\tilde{w}_4\\\\\n",
    "w_2= (x_0y_2 + x_1y_1 + x_2y_0)&=\\tilde{w}_2\\ (+\\tilde{w}_5).\n",
    "\\end{array}\n",
    "\n",
    "É possível provar que esse resultado vale em geral, ou seja,\n",
    "\n",
    "\\begin{equation*}\n",
    "\tw_k = (\\tilde{w}_k + \\tilde{w}_{N+k}),\\quad k=0,\\ldots,N-1.\n",
    "\\end{equation*}"
   ]
  },
  {
   "cell_type": "markdown",
   "metadata": {
    "slideshow": {
     "slide_type": "subslide"
    }
   },
   "source": [
    "Esse mapeamento é consequência da relação entre as transformadas $z$ de $w$ (conv. circular) e $\\tilde{w}$ (conv. linear), expresso no teorema a seguir:\n",
    "\n",
    "**Teorema 4.7:**\n",
    "$$W(z) = \\tilde{W}(z)\\mod z^{-N} = \\sum_{n=0}^{N-1}\\left[\\sum_{m=n\\%N}\\tilde{w}_m\\right]z^{-n}$$\n",
    "\n",
    "(a leitura da seção 4.5.5.2 onde aparece a prova desse teorema é opcional)."
   ]
  },
  {
   "cell_type": "markdown",
   "metadata": {
    "slideshow": {
     "slide_type": "slide"
    }
   },
   "source": [
    "### Seção 4.5.6: Terminologia de filtros\n",
    "\n",
    "Consideramos um *filtro de resposta impulsiva finita* (FIR) qualquer vetor $h\\in L^2(\\mathbb{Z})$ que satisfaça $$h_m=0,\\ \\forall n\\not\\in\\{L,L+1,\\ldots,M-1,M\\},\\quad\\mbox{para}\\quad L,M\\in\\mathbb{Z}.$$\n",
    "\n",
    "Assim, qualquer convolução do tipo $x*h$ para $x\\in L^2(\\mathbb{Z})$ será *computável* (a cada amostra $n$) como\n",
    "$$(x*h)_n = \\sum_{m=L}^Mh_mx_{n-m}.$$"
   ]
  },
  {
   "cell_type": "markdown",
   "metadata": {
    "slideshow": {
     "slide_type": "subslide"
    }
   },
   "source": [
    "Um filtro FIR é dito *causal* se $L\\ge 0$, ou seja, se a equação $(x*h)_n$ só depende dos valores passados $x_n,x_{n-1},x_{n-2},\\ldots$.\n",
    "\n",
    "Se $L<0$ a saída $(x*h)_n$ dependerá de valores futuros da entrada. \n",
    "\n",
    "Filtros causais são especialmente importantes no contexto de *processamento de sinais em tempo-real*, onde a cada instante $n$ a entrada disponível/conhecida é $$(\\ldots,x_{n-2},x_{n-1},x_n,?,?,?,\\ldots).$$"
   ]
  },
  {
   "cell_type": "markdown",
   "metadata": {
    "slideshow": {
     "slide_type": "subslide"
    }
   },
   "source": [
    "Um filtro é dito *simétrico* se satisfaz\n",
    "\n",
    "$$h_m=h_{-m},\\quad \\forall m\\in\\mathbb{Z}.$$\n",
    "\n",
    "Apesar de não ser causal, esse tipo de filtro tem propriedades matemáticas importantes que serão exploradas no capítulo 6."
   ]
  },
  {
   "cell_type": "markdown",
   "metadata": {
    "slideshow": {
     "slide_type": "slide"
    }
   },
   "source": [
    "### Seção 4.5.7: Os espaços $L^2(\\mathbb{N}\\times\\mathbb{N})$ e  $L^2(\\mathbb{Z}\\times\\mathbb{Z})$\n",
    "\n",
    "Todos os resultados desenvolvidos para sinais infinitos e bi-infinitos podem ser estendidos facilmente para imagens infinitas $L^2(\\mathbb{N}\\times\\mathbb{N})$ e bi-infinitas $L^2(\\mathbb{Z}\\times\\mathbb{Z})$ de *energia finita*, ou seja, que satisfaçam\n",
    "\n",
    "$$\\sum_{r=-\\infty}^{+\\infty}\\sum_{s=-\\infty}^{+\\infty}|a_{r,s}|^2<\\infty.$$\n",
    "\n",
    "O *produto interno* nesses espaços é definido como\n",
    "\n",
    "$$(A,B) = \\sum_{r=-\\infty}^{+\\infty}\\sum_{s=-\\infty}^{+\\infty}a_{r,s}\\overline{b_{r,s}}.$$"
   ]
  },
  {
   "cell_type": "markdown",
   "metadata": {
    "slideshow": {
     "slide_type": "subslide"
    }
   },
   "source": [
    "A *transformada de Fourier* de $A$ será a função $\\hat{A}(f,g)$ de duas frequências $f,g\\in\\left(-\\frac{1}{2},+\\frac{1}{2}\\right]$ definida por\n",
    "\n",
    "$$\\hat{A}(f,g) = \\sum_{r=-\\infty}^{+\\infty}\\sum_{s=-\\infty}^{+\\infty}a_{r,s}e^{-i2\\pi(fr+gs)},$$\n",
    "\n",
    "cuja inversa é dada por\n",
    "\n",
    "$$a_{r,s} = \\int_{-\\frac{1}{2}}^{+\\frac{1}{2}}\\int_{-\\frac{1}{2}}^{+\\frac{1}{2}}\\hat{A}(f,g)e^{i2\\pi(fr+gs)}d\\!f d\\!g.$$"
   ]
  },
  {
   "cell_type": "markdown",
   "metadata": {
    "slideshow": {
     "slide_type": "subslide"
    }
   },
   "source": [
    "A *convolução* é definida como\n",
    "\n",
    "$$(A*B)_{r,s} = \\sum_{k=-\\infty}^{+\\infty}\\sum_{l=-\\infty}^{+\\infty}a_{k,l}b_{r-k,s-l},$$\n",
    "\n",
    "e o teorema da convolução garante que se $C=A*B$ então\n",
    "\n",
    "$$\\hat{C}(f,g)=\\hat{A}(f,g)\\hat{B}(f,g).$$"
   ]
  }
 ],
 "metadata": {
  "celltoolbar": "Slideshow",
  "kernelspec": {
   "display_name": "Python 3 (ipykernel)",
   "language": "python",
   "name": "python3"
  },
  "language_info": {
   "codemirror_mode": {
    "name": "ipython",
    "version": 3
   },
   "file_extension": ".py",
   "mimetype": "text/x-python",
   "name": "python",
   "nbconvert_exporter": "python",
   "pygments_lexer": "ipython3",
   "version": "3.7.15"
  }
 },
 "nbformat": 4,
 "nbformat_minor": 2
}
