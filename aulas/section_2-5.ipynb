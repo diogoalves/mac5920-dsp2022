{
 "cells": [
  {
   "cell_type": "markdown",
   "metadata": {
    "slideshow": {
     "slide_type": "slide"
    }
   },
   "source": [
    "# MAC0317/MAC5920\n",
    "## Introdução ao Processamento de Sinais Digitais\n",
    "### Seção 2.5: Propriedades da DFT"
   ]
  },
  {
   "cell_type": "markdown",
   "metadata": {
    "slideshow": {
     "slide_type": "slide"
    }
   },
   "source": [
    "## Seção 2.5.1: Formulação matricial e linearidade\n",
    "\n",
    "Vamos mostrar que DFT(x) pode ser expressa como um produto matriz-vetor da forma $DFT(x)=Fx$. Para isso considere um exemplo em $\\mathbb{C}^4$. Temos\n",
    "$$x=\\left[\\begin{array}{c}x_0\\\\x_1\\\\x_2\\\\x_3\\end{array}\\right]\\quad\n",
    "\\mbox{e}\\quad\n",
    "X_k = (x,E_k) = \\sum_{n=0}^3x_ne^{-i2\\pi kn/N} = E_k^*x,$$\n",
    "onde $E_k^*$ é a transposta conjugada do vetor $E_k$:\n",
    "$$E_k^* = \\left[ \\overline{(E_k)_0}\\quad \\overline{(E_k)_1}\\quad \\overline{(E_k)_2}\\quad \\overline{(E_k)_3} \\right].$$"
   ]
  },
  {
   "cell_type": "markdown",
   "metadata": {
    "slideshow": {
     "slide_type": "subslide"
    }
   },
   "source": [
    "Portanto\n",
    "$$X_0 = [ \\overline{1}\\quad \\overline{1}\\quad \\overline{1}\\quad \\overline{1} ]\\left[\\begin{array}{c}x_0\\\\x_1\\\\x_2\\\\x_3\\end{array}\\right]\\quad\n",
    "X_1 = [ \\overline{1}\\quad \\overline{i}\\quad \\overline{-1}\\quad \\overline{-i} ]\\left[\\begin{array}{c}x_0\\\\x_1\\\\x_2\\\\x_3\\end{array}\\right]$$\n",
    "\n",
    "$$X_2 = [ \\overline{1}\\quad \\overline{-1}\\quad \\overline{1}\\quad \\overline{-1} ]\\left[\\begin{array}{c}x_0\\\\x_1\\\\x_2\\\\x_3\\end{array}\\right]\\quad\n",
    "X_3 = [ \\overline{1}\\quad \\overline{-i}\\quad \\overline{-1}\\quad \\overline{i} ]\\left[\\begin{array}{c}x_0\\\\x_1\\\\x_2\\\\x_3\\end{array}\\right]$$"
   ]
  },
  {
   "cell_type": "markdown",
   "metadata": {
    "slideshow": {
     "slide_type": "subslide"
    }
   },
   "source": [
    "Em forma matricial\n",
    "$$\\left[\\begin{array}{c}X_0\\\\X_1\\\\X_2\\\\X_3\\end{array}\\right] =\n",
    "\\left[\\begin{array}{rrrr}\n",
    "1&1&1&1\\\\\n",
    "1&-i&-1&i\\\\\n",
    "1&-1&1&-1\\\\\n",
    "1&i&-1&-i\n",
    "\\end{array}\\right]\\left[\\begin{array}{c}x_0\\\\x_1\\\\x_2\\\\x_3\\end{array}\\right]$$"
   ]
  },
  {
   "cell_type": "code",
   "execution_count": 29,
   "metadata": {},
   "outputs": [
    {
     "name": "stdout",
     "output_type": "stream",
     "text": [
      "[[0 0 0 0]\n",
      " [0 1 2 3]\n",
      " [0 2 4 6]\n",
      " [0 3 6 9]]\n",
      "Teste OK\n"
     ]
    }
   ],
   "source": [
    "import numpy as np\n",
    "import math\n",
    "from scipy import fft\n",
    "\n",
    "# agora xn é um vetor de coluna, deve ser um ndarray\n",
    "def dft_m1(xn):\n",
    "    N = len(xn)\n",
    "    t = np.linspace(0, 1, N, endpoint=False)\n",
    "    k = np.arange(0,N,1).reshape((N,1))\n",
    "    F = np.exp(-1j*2*math.pi*t*k)\n",
    "    print(f'F.shape={F.shape}')\n",
    "    xn_column_vector = xn.reshape((N,1))\n",
    "    Xk = np.matmul(F, xn_column_vector)\n",
    "    return Xk.flatten()\n",
    "\n",
    "def dft_m2(xn):\n",
    "    N = len(xn)\n",
    "    ns = np.arange(0,N,1)\n",
    "    indices = ns.reshape((N,1)) * ns\n",
    "    #print(indices)\n",
    "    F = np.exp(-1j*2*math.pi/N*indices)\n",
    "    xn_column_vector = xn.reshape((N,1))\n",
    "    Xk = np.matmul(F, xn_column_vector)\n",
    "    return Xk.flatten()\n",
    "\n",
    "# igual a implemenação do notebook passado mas com a geração das bases com o que aprendi nessa seção\n",
    "def dft3(xn):\n",
    "    N = len(xn)\n",
    "    ns = np.arange(0,N,1)\n",
    "    indices = ns.reshape((N,1)) * ns\n",
    "    print(indices)\n",
    "    Enk = np.exp(-1j*2*math.pi/N*indices)\n",
    "    Xk = np.inner(xn, Enk)\n",
    "    return Xk\n",
    "    \n",
    "def test_dft_m1(N):\n",
    "    xn = np.random.randn(N)\n",
    "    dut = dft_m1(xn)\n",
    "    golden = np.fft.fft(xn)\n",
    "    #print(np.round(dut))\n",
    "    #print(np.round(golden))\n",
    "    assert np.allclose(dut, golden) == True, 'Erro, não está batendo'\n",
    "    print('Teste OK')\n",
    "    \n",
    "def test_dft_m2(N):\n",
    "    xn = np.random.randn(N)\n",
    "    dut = dft_m2(xn)\n",
    "    golden = np.fft.fft(xn)\n",
    "    #print(np.round(dut))\n",
    "    #print(np.round(golden))\n",
    "    assert np.allclose(dut, golden) == True, 'Erro, não está batendo'\n",
    "    print('Teste OK')\n",
    "\n",
    "    \n",
    "def test_dft3(N):\n",
    "    xn = np.random.randn(N)\n",
    "    dut = dft3(xn)\n",
    "    golden = np.fft.fft(xn)\n",
    "    #print(np.round(dut))\n",
    "    #print(np.round(golden))\n",
    "    assert np.allclose(dut, golden) == True, 'Erro, não está batendo'\n",
    "    print('Teste OK')    \n",
    "\n",
    "test_dft3(4)"
   ]
  },
  {
   "cell_type": "code",
   "execution_count": 10,
   "metadata": {},
   "outputs": [
    {
     "data": {
      "text/plain": [
       "array([0.  , 0.25, 0.5 , 0.75])"
      ]
     },
     "execution_count": 10,
     "metadata": {},
     "output_type": "execute_result"
    }
   ],
   "source": [
    "# np.arange(0,4,1)\n",
    "np.linspace(0,1,4, endpoint=False)"
   ]
  },
  {
   "cell_type": "code",
   "execution_count": 92,
   "metadata": {},
   "outputs": [
    {
     "name": "stdout",
     "output_type": "stream",
     "text": [
      "Teste OK\n"
     ]
    }
   ],
   "source": [
    "# changed np.conjugate(F) to the hermitian transpose .H\n",
    "def idft_m2(Xk):\n",
    "    N = len(Xk)\n",
    "    ns = np.arange(0,N,1)\n",
    "    indices = ns.reshape((N,1)) * ns\n",
    "    #print(indices)\n",
    "    F = np.exp(-1j*2*math.pi/N*indices)\n",
    "    # F_inv = 1/N * np.conjugate(F)\n",
    "    F_inv = 1/N * np.matrix(F).H\n",
    "    Xk_column_vector = Xk.reshape((N,1))\n",
    "    xn = np.matmul(F_inv, Xk_column_vector)\n",
    "    return xn.flatten()\n",
    "\n",
    "def test_idft_m2(N):\n",
    "    Xk = np.random.randn(N)\n",
    "    dut = idft_m2(Xk)\n",
    "    golden = np.fft.ifft(Xk)\n",
    "    #print(np.round(dut))\n",
    "    #print(np.round(golden))\n",
    "    assert np.allclose(dut, golden) == True, 'Erro, não está batendo'\n",
    "    print('Teste OK')\n",
    "\n",
    "test_idft_m2(4000)"
   ]
  },
  {
   "cell_type": "code",
   "execution_count": 45,
   "metadata": {},
   "outputs": [
    {
     "name": "stdout",
     "output_type": "stream",
     "text": [
      "Teste OK\n"
     ]
    }
   ],
   "source": [
    "def dft1(xn):\n",
    "    N = len(xn)\n",
    "    t = np.linspace(0,1,N, endpoint=False)\n",
    "    k = np.arange(0,N,1).reshape((N,1))\n",
    "    Xk = np.inner(xn, np.exp(-1j*2*math.pi*t*k))\n",
    "    return Xk\n",
    "\n"
   ]
  },
  {
   "cell_type": "markdown",
   "metadata": {
    "slideshow": {
     "slide_type": "slide"
    }
   },
   "source": [
    "Observe que a matriz \n",
    "$$F=\\left[\\begin{array}{rrrr}\n",
    "1&1&1&1\\\\\n",
    "1&-i&-1&i\\\\\n",
    "1&-1&1&-1\\\\\n",
    "1&i&-1&-i\n",
    "\\end{array}\\right]$$\n",
    "tem as linhas indexadas por $k$ (a frequência associada ao coeficiente $X_k$) e as colunas indexadas por $n$ (o índice da amostra que multiplicará o $x_n$), e assim a entrada associada à posição $(k,n)$ será\n",
    "$$F_{k,n} = (E_k^*)_n = \\overline{(E_k)_n} = e^{-i2\\pi kn/N}.$$"
   ]
  },
  {
   "cell_type": "markdown",
   "metadata": {
    "slideshow": {
     "slide_type": "slide"
    }
   },
   "source": [
    "### Teorema 2.1\n",
    "Seja $x\\in\\mathbb{C}^N$ e $X=DFT(x)$. Então $X=Fx$ onde $F\\in\\mathbb{C}^{N\\times N}$ tal que $F_{k,n} = e^{-i2\\pi kn/N}$.\n",
    "\n",
    "Denotando por $z=e^{-i2\\pi/N}$, temos $F_{k,n} = e^{-i2\\pi kn/N} = z^{kn}$, e a matriz $F$ será:\n",
    "$$\\left[\\begin{array}{llllll}\n",
    "1&1&1&1&\\cdots&1\\\\\n",
    "1&z&z^2&z^3&\\cdots&z^{N-1}\\\\\n",
    "1&z^2&z^4&z^6&\\cdots&z^{2(N-1)}\\\\\n",
    "1&z^3&z^6&z^9&\\cdots&z^{3(N-1)}\\\\\n",
    "\\vdots&\\vdots&\\vdots&\\vdots&\\ddots&\\vdots\\\\\n",
    "1&z^{N-1}&z^{2(N-1)}&z^{3(N-1)}&\\cdots&z^{(N-1)(N-1)}\n",
    "\\end{array}\\right]$$"
   ]
  },
  {
   "cell_type": "markdown",
   "metadata": {
    "slideshow": {
     "slide_type": "subslide"
    }
   },
   "source": [
    "Note que $F$ é simétrica (pois $F_{n,k} = z^{nk} = z^{kn} = F_{k,n}$), além de várias outras propriedades que iremos explorar."
   ]
  },
  {
   "cell_type": "markdown",
   "metadata": {
    "slideshow": {
     "slide_type": "slide"
    }
   },
   "source": [
    "Para ver que a IDFT também pode ser expressa matricialmente, considere outra vez o exemplo em $\\mathbb{C}^4$, onde $x=\\frac{1}{N}\\sum_{k=0}^{N-1}X_kE_k$. Então\n",
    "$$\\begin{array}{ll}\n",
    "x & = \\frac{1}{N}\\left(X_0\\left[\\begin{array}{c}(E_0)_0\\\\(E_0)_1\\\\(E_0)_2\\\\(E_0)_3\\end{array}\\right]+\n",
    "X_1\\left[\\begin{array}{c}(E_1)_0\\\\(E_1)_1\\\\(E_1)_2\\\\(E_1)_3\\end{array}\\right]+\n",
    "X_2\\left[\\begin{array}{c}(E_2)_0\\\\(E_2)_1\\\\(E_2)_2\\\\(E_2)_3\\end{array}\\right]+\n",
    "X_3\\left[\\begin{array}{c}(E_3)_0\\\\(E_3)_1\\\\(E_3)_2\\\\(E_3)_3\\end{array}\\right]\n",
    "\\right)\\\\\n",
    "& = \\frac{1}{N}\\left[\\begin{array}{rrrr}\n",
    "(E_0)_0&(E_1)_0&(E_2)_0&(E_3)_0\\\\\n",
    "(E_0)_1&(E_1)_1&(E_2)_1&(E_3)_1\\\\\n",
    "(E_0)_2&(E_1)_2&(E_2)_2&(E_3)_2\\\\\n",
    "(E_0)_3&(E_1)_3&(E_2)_3&(E_3)_3\n",
    "\\end{array}\\right]\n",
    "\\left[\\begin{array}{c}X_0\\\\X_1\\\\X_2\\\\X_3\\end{array}\\right],\n",
    "\\end{array}$$\n",
    "ou seja, $x=\\tilde{F}X$ onde $\\tilde{F}_{n,k} = \\frac{1}{N}(E_k)_n = \\frac{1}{N}e^{i2\\pi kn/N} = \\frac{1}{N}z^{-kn} = \\frac{1}{N}\\overline{F_{k,n}}$."
   ]
  },
  {
   "cell_type": "markdown",
   "metadata": {
    "slideshow": {
     "slide_type": "subslide"
    }
   },
   "source": [
    "**Observe a troca dos índices:** as linhas de $\\tilde{F}$ são indexadas por $n$ (índice temporal) e as colunas de $\\tilde{F}$ são indexadas por $k$ (índice espectral)."
   ]
  },
  {
   "cell_type": "markdown",
   "metadata": {
    "slideshow": {
     "slide_type": "slide"
    }
   },
   "source": [
    "### Teorema 2.2\n",
    "Seja $x\\in\\mathbb{C}^N$ e $X=DFT(x)$. Então\n",
    "$$X=Fx$$\n",
    "$$x=\\tilde{F}X$$\n",
    "onde, denotando por $z=e^{-i2\\pi/N}$,\n",
    "$$F_{k,n} = e^{-i2\\pi kn/N} = z^{kn}$$\n",
    "$$\\tilde{F}_{n,k} = \\frac{1}{N}e^{i2\\pi kn/N} = \\frac{1}{N}z^{-nk}.$$\n",
    "Além disso,\n",
    "$$\\tilde{F} = F^{-1} = \\frac{1}{N}F^*$$\n",
    "onde $*$ denota a matriz Hermitiana de $F$, que é a matriz transposta e conjugada."
   ]
  },
  {
   "cell_type": "markdown",
   "metadata": {
    "slideshow": {
     "slide_type": "subslide"
    }
   },
   "source": [
    "### Teorema 2.3\n",
    "A $DFT:\\mathbb{C}^N\\mapsto\\mathbb{C}^N$ é uma operação linear, ou seja, para quaisquer $x,y\\in\\mathbb{C}^N$ e $a,b\\in\\mathbb{C}$, vale\n",
    "$$DFT(ax+by) = aDFT(x)+bDFT(y).$$\n",
    "Analogamente, a IDFT também é uma operação linear.\n",
    "\n",
    "**Prova:** Usando a representação matricial,\n",
    "$$\\begin{array}{ll}\n",
    "DFT(ax+by) & = F(ax+by)\\\\\n",
    "& = aFx+bFy = aDFT(x)+bDFT(y),\\end{array}$$\n",
    "onde a segunda igualdade segue da distributividade do produto de matrizes."
   ]
  },
  {
   "cell_type": "code",
   "execution_count": 27,
   "metadata": {
    "scrolled": true
   },
   "outputs": [
    {
     "name": "stdout",
     "output_type": "stream",
     "text": [
      "É sim\n"
     ]
    }
   ],
   "source": [
    "def teste_linearidade(N=10):\n",
    "    x = np.random.randn(N)\n",
    "    y = np.random.randn(N)\n",
    "    a = 5\n",
    "    b = 4\n",
    "    assert np.allclose( dft3(a*x + b*y), a*dft3(x) + b*dft3(y)), \"Ih, será que é mesmo\"\n",
    "    print(\"É sim\")\n",
    "    \n",
    "teste_linearidade(10000)"
   ]
  },
  {
   "cell_type": "markdown",
   "metadata": {
    "slideshow": {
     "slide_type": "slide"
    }
   },
   "source": [
    "## Seção 2.5.2: Simetrias para sinais reais\n",
    "\n",
    "### Proposição 2.1\n",
    "\n",
    "Um sinal $x\\in\\mathbb{C}^N$ possui todas as suas componentes **reais** se, e somente se, sua DFT $X$ satisfaz\n",
    "$$X_{-k} = \\overline{X_k},\\ \\forall k\\in\\mathbb{Z},$$\n",
    "ou equivalentemente, na representação Cartesiana\n",
    "$$\\Re(X_{-k}) = \\Re(X_k)\\quad\\quad\\mbox{e}\\quad\\quad\\Im(X_{-k}) = -\\Im(X_k),$$\n",
    "e na representação polar\n",
    "$$|X_{-k}| = |X_k|\\quad\\quad\\mbox{e}\\quad\\quad\\measuredangle X_{-k} = -\\measuredangle X_k.$$"
   ]
  },
  {
   "cell_type": "markdown",
   "metadata": {
    "slideshow": {
     "slide_type": "subslide"
    }
   },
   "source": [
    "**Prova ($\\implies$ ou \"somente se\"):** Suponha inicialmente que todas as componentes de $x$ são reais, ou seja, que $\\overline{x_n} = x_n$. Então\n",
    "$$\\begin{array}{ll}\n",
    "X_{-k} & = \\displaystyle\\sum_{n=0}^{N-1}x_ne^{-i2\\pi(-k)n/N}\\\\\n",
    " & = \\displaystyle\\sum_{n=0}^{N-1}\\overline{x_n}\\overline{e^{-i2\\pi kn/N}}\\\\\n",
    " & = \\displaystyle\\overline{\\sum_{n=0}^{N-1}x_ne^{-i2\\pi kn/N}}\\\\\n",
    " & = \\overline{X_k}.\\end{array}$$"
   ]
  },
  {
   "cell_type": "markdown",
   "metadata": {
    "slideshow": {
     "slide_type": "subslide"
    }
   },
   "source": [
    "**Prova ($\\impliedby$ ou \"se\"):** Por outro lado, supondo que $X_{-k} = \\overline{X_k},\\ \\forall k$, temos\n",
    "$$\\begin{array}{lll}\n",
    "x_n & = \\displaystyle\\frac{1}{N}\\sum_{k=0}^{N-1}X_ke^{i2\\pi kn/N}\n",
    "& = \\displaystyle\\frac{1}{N}\\sum_{k=0}^{N-1}\\overline{X_{-k}}\\overline{e^{i2\\pi(-k)n/N}}\\\\\n",
    " & = \\displaystyle\\overline{\\frac{1}{N}\\sum_{k=0}^{N-1}X_{-k}e^{i2\\pi(-k)n/N}}\n",
    " & {{\\scriptstyle -k\\mapsto l}\\atop {\\large =} } \\quad\\displaystyle\\overline{\\frac{1}{N}\\sum_{l=0}^{-(N-1)}X_{l}e^{i2\\pi ln/N}}\\\\\n",
    " & = \\displaystyle\\overline{\\frac{1}{N}\\sum_{l=0}^{N-1}X_{l}e^{i2\\pi ln/N}}\n",
    " & = \\overline{x_n},\\end{array}$$\n",
    "onde a penúltima passagem usa a periodicidade de $X_l$ e $e^{i2\\pi ln/N}$ (detalhamento a seguir)."
   ]
  },
  {
   "cell_type": "markdown",
   "metadata": {
    "slideshow": {
     "slide_type": "subslide"
    }
   },
   "source": [
    "A periodicidade de $X_l$ e $e^{i2\\pi ln/N}$ explica aquela passagem pois qualquer soma de $N$ elementos consecutivos de expressões periódicas com período $N$ tem sempre o mesmo resultado:\n",
    "$$\\begin{array}{ll}\\displaystyle\\sum_{l=0}^{-(N-1)}X_{l}e^{i2\\pi ln/N}&=X_{0}e^{i2\\pi 0n/N}+X_{-1}e^{i2\\pi (-1)n/N}+\\ldots+X_{-(N-1)}e^{i2\\pi(-N+1)n/N}\\\\\n",
    "&= X_{0}e^{i2\\pi 0n/N}+X_{-1+N}e^{i2\\pi (-1+N)n/N}+\\ldots+X_{-(N-1)+N}e^{i2\\pi(-N+1+N)n/N}\\\\\n",
    "&= X_{0}e^{i2\\pi 0n/N}+X_{N-1}e^{i2\\pi (N-1)n/N}+\\ldots+X_{1}e^{i2\\pi(1)n/N}\\\\\n",
    "&= \\displaystyle\\sum_{l=0}^{N-1}X_{l}e^{i2\\pi ln/N}.\\end{array}$$"
   ]
  },
  {
   "cell_type": "markdown",
   "metadata": {
    "slideshow": {
     "slide_type": "subslide"
    }
   },
   "source": [
    "### Observação 2.4\n",
    "\n",
    "Da proposição 2.1, se $x$ é real então $X_{-k}=\\overline{X_k}$. Além disso, como $X_k$ é periódico com período $N$, segue que $X_{-k}=X_{N-k}$. Logo\n",
    "$$X_{N-k} = \\overline{X_k}.$$\n",
    "Em particular, usando $k=\\frac{N}{2}+l$, temos que\n",
    "$$X_{\\frac{N}{2}-l} = \\overline{X_{\\frac{N}{2}+l}},$$\n",
    "o que explica a simetria conjugada dos espectros de sinais reais em relação à frequência de Nyquist $\\left(\\frac{N}{2}\\right)$:\n",
    "$$\\Re\\left(X_{\\frac{N}{2}-l}\\right) = \\Re\\left(X_{\\frac{N}{2}+l}\\right)\\quad\\quad\n",
    "\\Im\\left(X_{\\frac{N}{2}-l}\\right) = -\\Im\\left(X_{\\frac{N}{2}+l}\\right),$$\n",
    "ou equivalentemente\n",
    "$$\\left|X_{\\frac{N}{2}-l}\\right| = \\left|X_{\\frac{N}{2}+l}\\right|\\quad\\quad\n",
    "\\measuredangle X_{\\frac{N}{2}-l} = -\\measuredangle X_{\\frac{N}{2}+l}.$$\n"
   ]
  },
  {
   "cell_type": "markdown",
   "metadata": {},
   "source": [
    "## Tentando implementar a DFT/IDFT utilizando multiplicação de matrizes\n",
    "\n",
    "$$DFT(x_n) = X_k = (x, E_{N,k}), X_k \\in \\mathbb{C}$$\n",
    "\n",
    "$$IDFT(X_k) = x_n = \\frac{1}{N} (X_k, \\overline{E_{N,k}}), x_n \\in \\mathbb{R} $$\n",
    "\n",
    "\n"
   ]
  },
  {
   "cell_type": "code",
   "execution_count": 5,
   "metadata": {},
   "outputs": [
    {
     "data": {
      "image/png": "[encoded data removed]",
      "text/plain": [
       "<Figure size 1500x500 with 1 Axes>"
      ]
     },
     "metadata": {},
     "output_type": "display_data"
    },
    {
     "name": "stdout",
     "output_type": "stream",
     "text": [
      "Primeiras 10 amostras do sinal: x[0:10]=[ 2.3    2.183  2.474  2.507  1.383  0.984 -0.023 -1.23  -1.288 -1.958]...\n"
     ]
    }
   ],
   "source": [
    "import numpy as np\n",
    "import matplotlib.pyplot as plt \n",
    "import math as m\n",
    "\n",
    "T = 1; \n",
    "N = 128; \n",
    "t = np.arange(0, T, 1/N); \n",
    "plt.figure(figsize=(15,5))\n",
    "x = 2*np.cos(2*m.pi*5*t) + 0.8*np.sin(2*m.pi*12*t) + 0.3*np.cos(2*m.pi*47*t)\n",
    "plt.plot(t,x); \n",
    "plt.xlabel(\"t\"); \n",
    "plt.ylabel(\"x(t)\");\n",
    "plt.show()\n",
    "print(\"Primeiras 10 amostras do sinal: x[0:10]={}...\".format(np.round(x[0:10],3)))"
   ]
  },
  {
   "cell_type": "code",
   "execution_count": 23,
   "metadata": {},
   "outputs": [
    {
     "name": "stdout",
     "output_type": "stream",
     "text": [
      "[[-0.  +0.j ]\n",
      " [-0.  -0.j ]\n",
      " [-0.  -0.j ]\n",
      " [ 0.  +0.j ]\n",
      " [-0.  -0.j ]\n",
      " [ 1.  -0.j ]\n",
      " [-0.  +0.j ]\n",
      " [-0.  -0.j ]\n",
      " [-0.  +0.j ]\n",
      " [-0.  -0.j ]\n",
      " [-0.  -0.j ]\n",
      " [-0.  -0.j ]\n",
      " [-0.  -0.4j]\n",
      " [ 0.  -0.j ]\n",
      " [-0.  +0.j ]\n",
      " [-0.  +0.j ]\n",
      " [-0.  -0.j ]\n",
      " [-0.  -0.j ]\n",
      " [ 0.  +0.j ]\n",
      " [-0.  +0.j ]\n",
      " [-0.  -0.j ]\n",
      " [-0.  -0.j ]\n",
      " [-0.  -0.j ]\n",
      " [-0.  -0.j ]\n",
      " [ 0.  +0.j ]\n",
      " [ 0.  -0.j ]\n",
      " [-0.  +0.j ]\n",
      " [ 0.  +0.j ]\n",
      " [ 0.  +0.j ]\n",
      " [-0.  +0.j ]\n",
      " [-0.  -0.j ]\n",
      " [-0.  +0.j ]\n",
      " [-0.  -0.j ]\n",
      " [ 0.  -0.j ]\n",
      " [ 0.  +0.j ]\n",
      " [ 0.  -0.j ]\n",
      " [-0.  +0.j ]\n",
      " [-0.  +0.j ]\n",
      " [ 0.  -0.j ]\n",
      " [ 0.  -0.j ]\n",
      " [-0.  -0.j ]\n",
      " [-0.  -0.j ]\n",
      " [-0.  -0.j ]\n",
      " [-0.  +0.j ]\n",
      " [ 0.  -0.j ]\n",
      " [-0.  -0.j ]\n",
      " [ 0.  +0.j ]\n",
      " [ 0.15+0.j ]\n",
      " [-0.  +0.j ]\n",
      " [-0.  -0.j ]\n",
      " [-0.  -0.j ]\n",
      " [-0.  +0.j ]\n",
      " [ 0.  +0.j ]\n",
      " [ 0.  -0.j ]\n",
      " [-0.  -0.j ]\n",
      " [-0.  +0.j ]\n",
      " [-0.  -0.j ]\n",
      " [-0.  -0.j ]\n",
      " [-0.  -0.j ]\n",
      " [ 0.  -0.j ]\n",
      " [-0.  -0.j ]\n",
      " [-0.  -0.j ]\n",
      " [ 0.  -0.j ]\n",
      " [-0.  +0.j ]\n",
      " [ 0.  -0.j ]\n",
      " [-0.  +0.j ]\n",
      " [-0.  +0.j ]\n",
      " [-0.  +0.j ]\n",
      " [-0.  +0.j ]\n",
      " [ 0.  -0.j ]\n",
      " [ 0.  +0.j ]\n",
      " [ 0.  +0.j ]\n",
      " [ 0.  +0.j ]\n",
      " [ 0.  -0.j ]\n",
      " [-0.  +0.j ]\n",
      " [ 0.  -0.j ]\n",
      " [-0.  +0.j ]\n",
      " [ 0.  -0.j ]\n",
      " [ 0.  -0.j ]\n",
      " [ 0.  +0.j ]\n",
      " [ 0.  -0.j ]\n",
      " [ 0.15+0.j ]\n",
      " [-0.  -0.j ]\n",
      " [-0.  +0.j ]\n",
      " [ 0.  +0.j ]\n",
      " [ 0.  +0.j ]\n",
      " [ 0.  +0.j ]\n",
      " [-0.  +0.j ]\n",
      " [ 0.  -0.j ]\n",
      " [-0.  -0.j ]\n",
      " [-0.  -0.j ]\n",
      " [ 0.  -0.j ]\n",
      " [ 0.  +0.j ]\n",
      " [-0.  -0.j ]\n",
      " [-0.  -0.j ]\n",
      " [-0.  +0.j ]\n",
      " [ 0.  +0.j ]\n",
      " [ 0.  -0.j ]\n",
      " [ 0.  -0.j ]\n",
      " [-0.  -0.j ]\n",
      " [ 0.  +0.j ]\n",
      " [-0.  +0.j ]\n",
      " [-0.  -0.j ]\n",
      " [ 0.  -0.j ]\n",
      " [ 0.  +0.j ]\n",
      " [-0.  +0.j ]\n",
      " [-0.  +0.j ]\n",
      " [ 0.  -0.j ]\n",
      " [ 0.  +0.j ]\n",
      " [ 0.  +0.j ]\n",
      " [-0.  -0.j ]\n",
      " [-0.  +0.j ]\n",
      " [ 0.  -0.j ]\n",
      " [ 0.  -0.j ]\n",
      " [ 0.  -0.j ]\n",
      " [-0.  -0.j ]\n",
      " [ 0.  +0.4j]\n",
      " [ 0.  -0.j ]\n",
      " [ 0.  -0.j ]\n",
      " [ 0.  -0.j ]\n",
      " [ 0.  -0.j ]\n",
      " [ 0.  +0.j ]\n",
      " [ 0.  +0.j ]\n",
      " [ 1.  +0.j ]\n",
      " [-0.  +0.j ]\n",
      " [-0.  -0.j ]\n",
      " [ 0.  +0.j ]\n",
      " [ 0.  -0.j ]]\n"
     ]
    }
   ],
   "source": [
    "def dft3(x):\n",
    "    N = len(x)\n",
    "    t = np.arange(0,1, 1/N)\n",
    "    k = np.arange(0, N, 1).reshape(N,1)\n",
    "    Enk = np.exp(1j*2*m.pi*k*t)\n",
    "    x_col = x.reshape(-1,1)\n",
    "    return np.dot(np.conjugate(Enk), x_col)\n",
    "\n",
    "Xk = dft3(x)\n",
    "ck = Xk / N\n",
    "print(np.round(ck,2))"
   ]
  },
  {
   "cell_type": "code",
   "execution_count": 24,
   "metadata": {},
   "outputs": [
    {
     "name": "stdout",
     "output_type": "stream",
     "text": [
      " index=(5, 0) , value=(1-0j), abs=1.0000000000000002\n",
      " index=(12, 0) , value=(-0-0.4j), abs=0.40000000000000036\n",
      " index=(47, 0) , value=(0.15+0j), abs=0.15000000000000102\n",
      " index=(81, 0) , value=(0.15+0j), abs=0.14999999999999927\n",
      " index=(116, 0) , value=0.4j, abs=0.3999999999999975\n",
      " index=(123, 0) , value=(1+0j), abs=1.000000000000001\n"
     ]
    }
   ],
   "source": [
    "for index, value in np.ndenumerate(ck):\n",
    "    if abs(value) > 1e-8:\n",
    "        print(f' index={index} , value={np.round(value,2)}, abs={abs(value)}')"
   ]
  },
  {
   "cell_type": "code",
   "execution_count": 28,
   "metadata": {
    "scrolled": true
   },
   "outputs": [
    {
     "data": {
      "image/png": "[encoded data removed]",
      "text/plain": [
       "<Figure size 640x480 with 1 Axes>"
      ]
     },
     "metadata": {},
     "output_type": "display_data"
    }
   ],
   "source": [
    "def idft(Xk):\n",
    "    N = len(Xk)\n",
    "    t = np.arange(0,1, 1/N)\n",
    "    k = np.arange(0, N, 1).reshape(N,1)\n",
    "    Enk = np.exp(1j*2*m.pi*k*t)\n",
    "    return np.dot(Enk/N, Xk)\n",
    "\n",
    "xn_reconstruido = idft(Xk)\n",
    "plt.plot(t,xn_reconstruido); \n",
    "plt.xlabel(\"t\"); \n",
    "plt.ylabel(\"xn_reconstruido(t)\");"
   ]
  }
 ],
 "metadata": {
  "celltoolbar": "Slideshow",
  "kernelspec": {
   "display_name": "Python 3 (ipykernel)",
   "language": "python",
   "name": "python3"
  },
  "language_info": {
   "codemirror_mode": {
    "name": "ipython",
    "version": 3
   },
   "file_extension": ".py",
   "mimetype": "text/x-python",
   "name": "python",
   "nbconvert_exporter": "python",
   "pygments_lexer": "ipython3",
   "version": "3.7.15"
  }
 },
 "nbformat": 4,
 "nbformat_minor": 2
}
